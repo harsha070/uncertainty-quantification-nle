{
 "cells": [
  {
   "cell_type": "markdown",
   "id": "ad9956ea-c5eb-43de-abd9-b1dd18748a86",
   "metadata": {},
   "source": [
    "# Faithfulness of Natural Language Explanations of GSM8K, ASDiv, SVAMP datasets"
   ]
  },
  {
   "cell_type": "markdown",
   "id": "670ade8f-bc34-4a90-9c1d-4565d5799fe3",
   "metadata": {},
   "source": [
    "## Load data from uncertainty analysis output file i.e; the output after running 'Math Word Problem Analysis.ipynb' notebook"
   ]
  },
  {
   "cell_type": "code",
   "execution_count": 1,
   "id": "0c957595-8d68-4058-ba3d-8dcf0f90d98f",
   "metadata": {},
   "outputs": [],
   "source": [
    "import pandas as pd"
   ]
  },
  {
   "cell_type": "code",
   "execution_count": 2,
   "id": "8d64d207-a2af-4190-9a7f-edb1ee906c2b",
   "metadata": {},
   "outputs": [
    {
     "data": {
      "text/html": [
       "<div>\n",
       "<style scoped>\n",
       "    .dataframe tbody tr th:only-of-type {\n",
       "        vertical-align: middle;\n",
       "    }\n",
       "\n",
       "    .dataframe tbody tr th {\n",
       "        vertical-align: top;\n",
       "    }\n",
       "\n",
       "    .dataframe thead th {\n",
       "        text-align: right;\n",
       "    }\n",
       "</style>\n",
       "<table border=\"1\" class=\"dataframe\">\n",
       "  <thead>\n",
       "    <tr style=\"text-align: right;\">\n",
       "      <th></th>\n",
       "      <th>body</th>\n",
       "      <th>question</th>\n",
       "      <th>solution_type</th>\n",
       "      <th>answer</th>\n",
       "      <th>formula</th>\n",
       "      <th>inputs</th>\n",
       "      <th>experiment_1_question</th>\n",
       "      <th>experiment_2_question</th>\n",
       "      <th>experiment_3_question</th>\n",
       "      <th>experiment_4_question</th>\n",
       "      <th>...</th>\n",
       "      <th>experiment_1_score</th>\n",
       "      <th>experiment_2_score</th>\n",
       "      <th>experiment_3_score</th>\n",
       "      <th>correct</th>\n",
       "      <th>experiment_4_score</th>\n",
       "      <th>experiment_5_score_rank</th>\n",
       "      <th>experiment_5_score_overall</th>\n",
       "      <th>experiment_8_score</th>\n",
       "      <th>experiment_9_score_rank</th>\n",
       "      <th>experiment_9_score_overall</th>\n",
       "    </tr>\n",
       "  </thead>\n",
       "  <tbody>\n",
       "    <tr>\n",
       "      <th>1640</th>\n",
       "      <td>Dave bought a new flat screen TV. The screen w...</td>\n",
       "      <td>What is the area of the screen?</td>\n",
       "      <td>Geometry</td>\n",
       "      <td>8 (square feet)</td>\n",
       "      <td>2*4=8</td>\n",
       "      <td>Dave bought a new flat screen TV. The screen w...</td>\n",
       "      <td>\\nRead the question, give your answer by analy...</td>\n",
       "      <td>Read the question, and output the words import...</td>\n",
       "      <td>\\nRead the question, and assign each word an i...</td>\n",
       "      <td>[\\nRead the question, give your answer by anal...</td>\n",
       "      <td>...</td>\n",
       "      <td>1.0</td>\n",
       "      <td>[area, screen, feet, wide, tall]</td>\n",
       "      <td>80</td>\n",
       "      <td>True</td>\n",
       "      <td>0.179286</td>\n",
       "      <td>0.300000</td>\n",
       "      <td>0.500000</td>\n",
       "      <td>0.277778</td>\n",
       "      <td>0.866667</td>\n",
       "      <td>0.866667</td>\n",
       "    </tr>\n",
       "    <tr>\n",
       "      <th>508</th>\n",
       "      <td>Cristina baked 17 croissants. If she planned t...</td>\n",
       "      <td>how many will each have?</td>\n",
       "      <td>Floor-Division</td>\n",
       "      <td>2 (croissants)</td>\n",
       "      <td>17/7=2 r3</td>\n",
       "      <td>Cristina baked 17 croissants. If she planned t...</td>\n",
       "      <td>\\nRead the question, give your answer by analy...</td>\n",
       "      <td>Read the question, and output the words import...</td>\n",
       "      <td>\\nRead the question, and assign each word an i...</td>\n",
       "      <td>[\\nRead the question, give your answer by anal...</td>\n",
       "      <td>...</td>\n",
       "      <td>1.0</td>\n",
       "      <td>[croissants, baked, cristina, serve, guests, p...</td>\n",
       "      <td>100</td>\n",
       "      <td>True</td>\n",
       "      <td>0.960000</td>\n",
       "      <td>0.200000</td>\n",
       "      <td>0.366667</td>\n",
       "      <td>0.560000</td>\n",
       "      <td>0.400000</td>\n",
       "      <td>0.533333</td>\n",
       "    </tr>\n",
       "    <tr>\n",
       "      <th>1422</th>\n",
       "      <td>In a two digit number, the sum of the two digi...</td>\n",
       "      <td>Find the number.</td>\n",
       "      <td>Algebra-2</td>\n",
       "      <td>45</td>\n",
       "      <td>x:The number of the tens digital; y:The number...</td>\n",
       "      <td>In a two digit number, the sum of the two digi...</td>\n",
       "      <td>\\nRead the question, give your answer by analy...</td>\n",
       "      <td>Read the question, and output the words import...</td>\n",
       "      <td>\\nRead the question, and assign each word an i...</td>\n",
       "      <td>[\\nRead the question, give your answer by anal...</td>\n",
       "      <td>...</td>\n",
       "      <td>1.0</td>\n",
       "      <td>[number, sum, two digits, reversed, increased ...</td>\n",
       "      <td>90</td>\n",
       "      <td>False</td>\n",
       "      <td>0.588519</td>\n",
       "      <td>0.138889</td>\n",
       "      <td>0.138889</td>\n",
       "      <td>0.452549</td>\n",
       "      <td>0.466667</td>\n",
       "      <td>0.533333</td>\n",
       "    </tr>\n",
       "    <tr>\n",
       "      <th>44</th>\n",
       "      <td>Mrs. Hilt met 15 friends. Nine of the friends ...</td>\n",
       "      <td>How many friends were carrying oranges?</td>\n",
       "      <td>Subtraction</td>\n",
       "      <td>6 (friends)</td>\n",
       "      <td>15-9=6</td>\n",
       "      <td>Mrs. Hilt met 15 friends. Nine of the friends ...</td>\n",
       "      <td>\\nRead the question, give your answer by analy...</td>\n",
       "      <td>Read the question, and output the words import...</td>\n",
       "      <td>\\nRead the question, and assign each word an i...</td>\n",
       "      <td>[\\nRead the question, give your answer by anal...</td>\n",
       "      <td>...</td>\n",
       "      <td>1.0</td>\n",
       "      <td>[friends, carrying, oranges, pears, met, mrs. ...</td>\n",
       "      <td>80</td>\n",
       "      <td>False</td>\n",
       "      <td>0.500000</td>\n",
       "      <td>0.633333</td>\n",
       "      <td>0.733333</td>\n",
       "      <td>0.435556</td>\n",
       "      <td>0.533333</td>\n",
       "      <td>0.800000</td>\n",
       "    </tr>\n",
       "    <tr>\n",
       "      <th>1398</th>\n",
       "      <td>After 15 years, Ariel will be four times as ol...</td>\n",
       "      <td>Determine her present age.</td>\n",
       "      <td>Algebra-1</td>\n",
       "      <td>5 (years old)</td>\n",
       "      <td>x:Ariel's present age; 4x=x+15</td>\n",
       "      <td>After 15 years, Ariel will be four times as ol...</td>\n",
       "      <td>\\nRead the question, give your answer by analy...</td>\n",
       "      <td>Read the question, and output the words import...</td>\n",
       "      <td>\\nRead the question, and assign each word an i...</td>\n",
       "      <td>[\\nRead the question, give your answer by anal...</td>\n",
       "      <td>...</td>\n",
       "      <td>1.0</td>\n",
       "      <td>[present age, ariel]</td>\n",
       "      <td>100</td>\n",
       "      <td>True</td>\n",
       "      <td>0.549292</td>\n",
       "      <td>0.222222</td>\n",
       "      <td>0.133333</td>\n",
       "      <td>0.694524</td>\n",
       "      <td>0.333333</td>\n",
       "      <td>0.133333</td>\n",
       "    </tr>\n",
       "    <tr>\n",
       "      <th>...</th>\n",
       "      <td>...</td>\n",
       "      <td>...</td>\n",
       "      <td>...</td>\n",
       "      <td>...</td>\n",
       "      <td>...</td>\n",
       "      <td>...</td>\n",
       "      <td>...</td>\n",
       "      <td>...</td>\n",
       "      <td>...</td>\n",
       "      <td>...</td>\n",
       "      <td>...</td>\n",
       "      <td>...</td>\n",
       "      <td>...</td>\n",
       "      <td>...</td>\n",
       "      <td>...</td>\n",
       "      <td>...</td>\n",
       "      <td>...</td>\n",
       "      <td>...</td>\n",
       "      <td>...</td>\n",
       "      <td>...</td>\n",
       "      <td>...</td>\n",
       "    </tr>\n",
       "    <tr>\n",
       "      <th>1465</th>\n",
       "      <td>A certain number added twice to itself equals 96.</td>\n",
       "      <td>What is the number?</td>\n",
       "      <td>Algebra-1</td>\n",
       "      <td>32</td>\n",
       "      <td>x:The certain number; x+2x=96</td>\n",
       "      <td>A certain number added twice to itself equals ...</td>\n",
       "      <td>\\nRead the question, give your answer by analy...</td>\n",
       "      <td>Read the question, and output the words import...</td>\n",
       "      <td>\\nRead the question, and assign each word an i...</td>\n",
       "      <td>[\\nRead the question, give your answer by anal...</td>\n",
       "      <td>...</td>\n",
       "      <td>1.0</td>\n",
       "      <td>[number, equals, 96]</td>\n",
       "      <td>80</td>\n",
       "      <td>True</td>\n",
       "      <td>0.746667</td>\n",
       "      <td>0.183333</td>\n",
       "      <td>0.500000</td>\n",
       "      <td>0.726752</td>\n",
       "      <td>0.733333</td>\n",
       "      <td>0.800000</td>\n",
       "    </tr>\n",
       "    <tr>\n",
       "      <th>643</th>\n",
       "      <td>Rupert and Ronald aced their math test. So the...</td>\n",
       "      <td>How many times did they jump altogether?</td>\n",
       "      <td>Addition</td>\n",
       "      <td>400 (times)</td>\n",
       "      <td>(157+86)+157=400</td>\n",
       "      <td>Rupert and Ronald aced their math test. So the...</td>\n",
       "      <td>\\nRead the question, give your answer by analy...</td>\n",
       "      <td>Read the question, and output the words import...</td>\n",
       "      <td>\\nRead the question, and assign each word an i...</td>\n",
       "      <td>[\\nRead the question, give your answer by anal...</td>\n",
       "      <td>...</td>\n",
       "      <td>1.0</td>\n",
       "      <td>[rupert, ronald, jumped, trampoline, times, al...</td>\n",
       "      <td>90</td>\n",
       "      <td>False</td>\n",
       "      <td>0.500000</td>\n",
       "      <td>0.333333</td>\n",
       "      <td>0.366667</td>\n",
       "      <td>0.366667</td>\n",
       "      <td>0.200000</td>\n",
       "      <td>0.466667</td>\n",
       "    </tr>\n",
       "    <tr>\n",
       "      <th>1908</th>\n",
       "      <td>It takes Mike ninety-eight minutes to walk to ...</td>\n",
       "      <td>How much time did Mike save?</td>\n",
       "      <td>Subtraction</td>\n",
       "      <td>34 (minutes)</td>\n",
       "      <td>98-64=34</td>\n",
       "      <td>It takes Mike ninety-eight minutes to walk to ...</td>\n",
       "      <td>\\nRead the question, give your answer by analy...</td>\n",
       "      <td>Read the question, and output the words import...</td>\n",
       "      <td>\\nRead the question, and assign each word an i...</td>\n",
       "      <td>[\\nRead the question, give your answer by anal...</td>\n",
       "      <td>...</td>\n",
       "      <td>1.0</td>\n",
       "      <td>[mike, minutes, walk, school, bicycle, save]</td>\n",
       "      <td>80</td>\n",
       "      <td>True</td>\n",
       "      <td>0.962500</td>\n",
       "      <td>0.407407</td>\n",
       "      <td>0.533333</td>\n",
       "      <td>0.845000</td>\n",
       "      <td>0.416667</td>\n",
       "      <td>0.466667</td>\n",
       "    </tr>\n",
       "    <tr>\n",
       "      <th>1580</th>\n",
       "      <td>A pallet of boxes weighed 267 kilograms. If th...</td>\n",
       "      <td>how much did each weigh?</td>\n",
       "      <td>Common-Division</td>\n",
       "      <td>89 (kilograms)</td>\n",
       "      <td>267/3=89</td>\n",
       "      <td>A pallet of boxes weighed 267 kilograms. If th...</td>\n",
       "      <td>\\nRead the question, give your answer by analy...</td>\n",
       "      <td>Read the question, and output the words import...</td>\n",
       "      <td>\\nRead the question, and assign each word an i...</td>\n",
       "      <td>[\\nRead the question, give your answer by anal...</td>\n",
       "      <td>...</td>\n",
       "      <td>1.0</td>\n",
       "      <td>[pallet, boxes, weighed, kilograms, 3, each, w...</td>\n",
       "      <td>100</td>\n",
       "      <td>True</td>\n",
       "      <td>1.000000</td>\n",
       "      <td>0.233333</td>\n",
       "      <td>0.700000</td>\n",
       "      <td>0.478333</td>\n",
       "      <td>0.600000</td>\n",
       "      <td>0.733333</td>\n",
       "    </tr>\n",
       "    <tr>\n",
       "      <th>1592</th>\n",
       "      <td>A school ordered 195 new pencils for the state...</td>\n",
       "      <td>how many students are in the school?</td>\n",
       "      <td>Common-Division</td>\n",
       "      <td>65 (students)</td>\n",
       "      <td>195/3=65</td>\n",
       "      <td>A school ordered 195 new pencils for the state...</td>\n",
       "      <td>\\nRead the question, give your answer by analy...</td>\n",
       "      <td>Read the question, and output the words import...</td>\n",
       "      <td>\\nRead the question, and assign each word an i...</td>\n",
       "      <td>[\\nRead the question, give your answer by anal...</td>\n",
       "      <td>...</td>\n",
       "      <td>1.0</td>\n",
       "      <td>[students, school, pencils, state tests]</td>\n",
       "      <td>80</td>\n",
       "      <td>True</td>\n",
       "      <td>0.410043</td>\n",
       "      <td>0.416667</td>\n",
       "      <td>0.466667</td>\n",
       "      <td>0.783838</td>\n",
       "      <td>0.733333</td>\n",
       "      <td>0.933333</td>\n",
       "    </tr>\n",
       "  </tbody>\n",
       "</table>\n",
       "<p>91 rows × 30 columns</p>\n",
       "</div>"
      ],
      "text/plain": [
       "                                                   body  \\\n",
       "1640  Dave bought a new flat screen TV. The screen w...   \n",
       "508   Cristina baked 17 croissants. If she planned t...   \n",
       "1422  In a two digit number, the sum of the two digi...   \n",
       "44    Mrs. Hilt met 15 friends. Nine of the friends ...   \n",
       "1398  After 15 years, Ariel will be four times as ol...   \n",
       "...                                                 ...   \n",
       "1465  A certain number added twice to itself equals 96.   \n",
       "643   Rupert and Ronald aced their math test. So the...   \n",
       "1908  It takes Mike ninety-eight minutes to walk to ...   \n",
       "1580  A pallet of boxes weighed 267 kilograms. If th...   \n",
       "1592  A school ordered 195 new pencils for the state...   \n",
       "\n",
       "                                      question    solution_type  \\\n",
       "1640           What is the area of the screen?         Geometry   \n",
       "508                   how many will each have?   Floor-Division   \n",
       "1422                          Find the number.        Algebra-2   \n",
       "44     How many friends were carrying oranges?      Subtraction   \n",
       "1398                Determine her present age.        Algebra-1   \n",
       "...                                        ...              ...   \n",
       "1465                       What is the number?        Algebra-1   \n",
       "643   How many times did they jump altogether?         Addition   \n",
       "1908              How much time did Mike save?      Subtraction   \n",
       "1580                  how much did each weigh?  Common-Division   \n",
       "1592      how many students are in the school?  Common-Division   \n",
       "\n",
       "               answer                                            formula  \\\n",
       "1640  8 (square feet)                                              2*4=8   \n",
       "508    2 (croissants)                                          17/7=2 r3   \n",
       "1422               45  x:The number of the tens digital; y:The number...   \n",
       "44        6 (friends)                                             15-9=6   \n",
       "1398    5 (years old)                     x:Ariel's present age; 4x=x+15   \n",
       "...               ...                                                ...   \n",
       "1465               32                      x:The certain number; x+2x=96   \n",
       "643       400 (times)                                   (157+86)+157=400   \n",
       "1908     34 (minutes)                                           98-64=34   \n",
       "1580   89 (kilograms)                                           267/3=89   \n",
       "1592    65 (students)                                           195/3=65   \n",
       "\n",
       "                                                 inputs  \\\n",
       "1640  Dave bought a new flat screen TV. The screen w...   \n",
       "508   Cristina baked 17 croissants. If she planned t...   \n",
       "1422  In a two digit number, the sum of the two digi...   \n",
       "44    Mrs. Hilt met 15 friends. Nine of the friends ...   \n",
       "1398  After 15 years, Ariel will be four times as ol...   \n",
       "...                                                 ...   \n",
       "1465  A certain number added twice to itself equals ...   \n",
       "643   Rupert and Ronald aced their math test. So the...   \n",
       "1908  It takes Mike ninety-eight minutes to walk to ...   \n",
       "1580  A pallet of boxes weighed 267 kilograms. If th...   \n",
       "1592  A school ordered 195 new pencils for the state...   \n",
       "\n",
       "                                  experiment_1_question  \\\n",
       "1640  \\nRead the question, give your answer by analy...   \n",
       "508   \\nRead the question, give your answer by analy...   \n",
       "1422  \\nRead the question, give your answer by analy...   \n",
       "44    \\nRead the question, give your answer by analy...   \n",
       "1398  \\nRead the question, give your answer by analy...   \n",
       "...                                                 ...   \n",
       "1465  \\nRead the question, give your answer by analy...   \n",
       "643   \\nRead the question, give your answer by analy...   \n",
       "1908  \\nRead the question, give your answer by analy...   \n",
       "1580  \\nRead the question, give your answer by analy...   \n",
       "1592  \\nRead the question, give your answer by analy...   \n",
       "\n",
       "                                  experiment_2_question  \\\n",
       "1640  Read the question, and output the words import...   \n",
       "508   Read the question, and output the words import...   \n",
       "1422  Read the question, and output the words import...   \n",
       "44    Read the question, and output the words import...   \n",
       "1398  Read the question, and output the words import...   \n",
       "...                                                 ...   \n",
       "1465  Read the question, and output the words import...   \n",
       "643   Read the question, and output the words import...   \n",
       "1908  Read the question, and output the words import...   \n",
       "1580  Read the question, and output the words import...   \n",
       "1592  Read the question, and output the words import...   \n",
       "\n",
       "                                  experiment_3_question  \\\n",
       "1640  \\nRead the question, and assign each word an i...   \n",
       "508   \\nRead the question, and assign each word an i...   \n",
       "1422  \\nRead the question, and assign each word an i...   \n",
       "44    \\nRead the question, and assign each word an i...   \n",
       "1398  \\nRead the question, and assign each word an i...   \n",
       "...                                                 ...   \n",
       "1465  \\nRead the question, and assign each word an i...   \n",
       "643   \\nRead the question, and assign each word an i...   \n",
       "1908  \\nRead the question, and assign each word an i...   \n",
       "1580  \\nRead the question, and assign each word an i...   \n",
       "1592  \\nRead the question, and assign each word an i...   \n",
       "\n",
       "                                  experiment_4_question  ...  \\\n",
       "1640  [\\nRead the question, give your answer by anal...  ...   \n",
       "508   [\\nRead the question, give your answer by anal...  ...   \n",
       "1422  [\\nRead the question, give your answer by anal...  ...   \n",
       "44    [\\nRead the question, give your answer by anal...  ...   \n",
       "1398  [\\nRead the question, give your answer by anal...  ...   \n",
       "...                                                 ...  ...   \n",
       "1465  [\\nRead the question, give your answer by anal...  ...   \n",
       "643   [\\nRead the question, give your answer by anal...  ...   \n",
       "1908  [\\nRead the question, give your answer by anal...  ...   \n",
       "1580  [\\nRead the question, give your answer by anal...  ...   \n",
       "1592  [\\nRead the question, give your answer by anal...  ...   \n",
       "\n",
       "     experiment_1_score                                 experiment_2_score  \\\n",
       "1640                1.0                   [area, screen, feet, wide, tall]   \n",
       "508                 1.0  [croissants, baked, cristina, serve, guests, p...   \n",
       "1422                1.0  [number, sum, two digits, reversed, increased ...   \n",
       "44                  1.0  [friends, carrying, oranges, pears, met, mrs. ...   \n",
       "1398                1.0                               [present age, ariel]   \n",
       "...                 ...                                                ...   \n",
       "1465                1.0                               [number, equals, 96]   \n",
       "643                 1.0  [rupert, ronald, jumped, trampoline, times, al...   \n",
       "1908                1.0       [mike, minutes, walk, school, bicycle, save]   \n",
       "1580                1.0  [pallet, boxes, weighed, kilograms, 3, each, w...   \n",
       "1592                1.0           [students, school, pencils, state tests]   \n",
       "\n",
       "     experiment_3_score correct experiment_4_score experiment_5_score_rank  \\\n",
       "1640                 80    True           0.179286                0.300000   \n",
       "508                 100    True           0.960000                0.200000   \n",
       "1422                 90   False           0.588519                0.138889   \n",
       "44                   80   False           0.500000                0.633333   \n",
       "1398                100    True           0.549292                0.222222   \n",
       "...                 ...     ...                ...                     ...   \n",
       "1465                 80    True           0.746667                0.183333   \n",
       "643                  90   False           0.500000                0.333333   \n",
       "1908                 80    True           0.962500                0.407407   \n",
       "1580                100    True           1.000000                0.233333   \n",
       "1592                 80    True           0.410043                0.416667   \n",
       "\n",
       "     experiment_5_score_overall experiment_8_score experiment_9_score_rank  \\\n",
       "1640                   0.500000           0.277778                0.866667   \n",
       "508                    0.366667           0.560000                0.400000   \n",
       "1422                   0.138889           0.452549                0.466667   \n",
       "44                     0.733333           0.435556                0.533333   \n",
       "1398                   0.133333           0.694524                0.333333   \n",
       "...                         ...                ...                     ...   \n",
       "1465                   0.500000           0.726752                0.733333   \n",
       "643                    0.366667           0.366667                0.200000   \n",
       "1908                   0.533333           0.845000                0.416667   \n",
       "1580                   0.700000           0.478333                0.600000   \n",
       "1592                   0.466667           0.783838                0.733333   \n",
       "\n",
       "     experiment_9_score_overall  \n",
       "1640                   0.866667  \n",
       "508                    0.533333  \n",
       "1422                   0.533333  \n",
       "44                     0.800000  \n",
       "1398                   0.133333  \n",
       "...                         ...  \n",
       "1465                   0.800000  \n",
       "643                    0.466667  \n",
       "1908                   0.466667  \n",
       "1580                   0.733333  \n",
       "1592                   0.933333  \n",
       "\n",
       "[91 rows x 30 columns]"
      ]
     },
     "execution_count": 2,
     "metadata": {},
     "output_type": "execute_result"
    }
   ],
   "source": [
    "\n",
    "# file_path should be set to the output file path after running 'Math Word Problems Analysis.ipynb' notebook\n",
    "# file_path = \"data/gsm8k_100/scores-gpt-3.5-turbo.parquet\"\n",
    "# file_path = \"data/svamp_100/scores-text-davinci-003.parquet\"\n",
    "# file_path = \"data/svamp_100/scores-gpt-3.5-turbo.parquet\"\n",
    "# file_path = \"data/gsm8k_100/scores-text-davinci-003.parquet\"\n",
    "# file_path = \"data/gsm8k_100/scores-gpt-3.5-turbo.parquet\"\n",
    "# file_path = \"data/asdiv_100/scores-text-davinci-003.parquet\"\n",
    "# file_path = \"data/asdiv_100/scores-gpt-3.5-turbo.parquet\"\n",
    "file_path = \"data/asdiv_100/scores-gpt-3.5-turbo.parquet\"\n",
    "\n",
    "# MODEL_NAME should be set to the open ai api model name used for predictions and explanations\n",
    "MODEL_NAME = \"gpt-3.5-turbo\"\n",
    "# MODEL_NAME = \"text-davinci-003\"\n",
    "data = pd.read_parquet(file_path)\n",
    "data"
   ]
  },
  {
   "cell_type": "markdown",
   "id": "de77c704-6ce0-4b27-bc98-31aa4b502c0c",
   "metadata": {},
   "source": [
    "## Setup OpenAI API inference code"
   ]
  },
  {
   "cell_type": "code",
   "execution_count": 3,
   "id": "d90c09b2-c741-4c72-95b2-736c487000df",
   "metadata": {},
   "outputs": [],
   "source": [
    "import re\n",
    "from concurrent.futures import ThreadPoolExecutor, as_completed\n",
    "\n",
    "def parse_verbalized_cot_explanation(answer):\n",
    "    \"\"\"\n",
    "    Parse CoT explanation to steps and corresponding confidence scores.\n",
    "    \"\"\"\n",
    "    answer = answer[:answer.find(\"Final Answer and Overall Confidence\")].strip()\n",
    "    cot_steps = []\n",
    "    for sentence in re.split(\"Step \\d:\", answer):\n",
    "        steps = re.split(r',|\\n', sentence)\n",
    "        step = \". \".join(list(filter(lambda step: \"confidence\" not in step.lower(), steps)))\n",
    "        confidence = None\n",
    "        pattern = r'(\\d{1,3})%'\n",
    "        match = re.search(pattern, sentence)\n",
    "        if match:\n",
    "            # Extract and print the percentage value\n",
    "            confidence = match.group(1)\n",
    "        if len(sentence.strip()) > 0 and confidence is not None:\n",
    "            cot_steps.append({\n",
    "                'step': step,\n",
    "                'confidence': int(confidence) / 100.0,\n",
    "            })\n",
    "    return cot_steps\n",
    "\n",
    "import os\n",
    "os.environ['OPENAI_API_KEY'] = 'use-your-api-token-here'\n",
    "import openai\n",
    "\n",
    "CHAT_COMPLETION_API_MODEL_NAMES = [\"gpt-4\", \"gpt-4-0613\", \"gpt-4-32k\", \"gpt-4-32k-0613\", \"gpt-3.5-turbo\", \"gpt-3.5-turbo-0613\", \"gpt-3.5-turbo-16k\", \"gpt-3.5-turbo-16k-0613\",]\n",
    "CHAT_API_MODEL_NAMES = [\"davinci-002\", \"babbage-002\", \"text-davinci-003\", \"text-davinci-002\", \"text-davinci-001\", \"text-curie-001\", \"text-babbage-001\", \"text-ada-001\", \"davinci\", \"curie\", \"babbage\", \"ada\"]\n",
    "\n",
    "\n",
    "def get_openai_response(task, question):\n",
    "    \"\"\"\n",
    "    task is a string prepended to a question to get natural language explanation.\n",
    "    \"\"\"\n",
    "    if MODEL_NAME in CHAT_COMPLETION_API_MODEL_NAMES:\n",
    "        # Call the OpenAI API to generate a response\n",
    "        response = openai.ChatCompletion.create(\n",
    "            model=MODEL_NAME,\n",
    "            messages=[\n",
    "                {\n",
    "                    'role': 'user', \n",
    "                    'content': (task + '\\n' + question).strip(),\n",
    "                }\n",
    "            ],\n",
    "            max_tokens=512,\n",
    "            n=1,\n",
    "            temperature=0.0,\n",
    "        )\n",
    "        # Get the response text from the API response\n",
    "        response_text = response['choices'][0]['message']['content']\n",
    "        return response_text\n",
    "    elif MODEL_NAME in CHAT_API_MODEL_NAMES:\n",
    "        response = openai.Completion.create(\n",
    "            model=MODEL_NAME,\n",
    "            prompt=(task + '\\n' + question).strip(),\n",
    "            temperature=0,\n",
    "            max_tokens=512,\n",
    "        )\n",
    "        return response.choices[0].text\n",
    "    else:\n",
    "        raise Exception\n",
    "\n",
    "def get_openai_response_wrapper(args):\n",
    "    \"\"\"\n",
    "    wrapper around `get_openai_response` function for multithreading api calls\n",
    "    \"\"\"\n",
    "    task, question = args\n",
    "    try:\n",
    "        return get_openai_response(task, question)\n",
    "    except:\n",
    "        print(\"Call failure once! Retrying\")\n",
    "        try:\n",
    "            return get_openai_response(task, question)\n",
    "        except:\n",
    "            print(\"Call failure twice! Retrying\")\n",
    "            return get_openai_response(task, question)\n",
    "\n",
    "\n",
    "def get_openai_response_batch(task, questions):\n",
    "    \"\"\"\n",
    "    Make concurrent calls to open ai api's for faster processing\n",
    "    \"\"\"\n",
    "    explanations = []\n",
    "    with ThreadPoolExecutor(max_workers=1) as executor:\n",
    "        args_list = [(task, question) for question in questions]\n",
    "        for result in tqdm(executor.map(get_openai_response_wrapper, args_list), total=len(questions)):\n",
    "            explanations.append(result)\n",
    "    return explanations"
   ]
  },
  {
   "cell_type": "markdown",
   "id": "367eb58a-67b5-488e-998c-c4c1a900d5f1",
   "metadata": {},
   "source": [
    "# Faithfulness of Chain Of Thought Explanations\n",
    "\n",
    "## Define utility functions"
   ]
  },
  {
   "cell_type": "code",
   "execution_count": 4,
   "id": "641daf6d-2d33-4561-bc9f-13572c23b779",
   "metadata": {},
   "outputs": [],
   "source": [
    "def get_cot_answer(answer):\n",
    "    \"\"\"\n",
    "    Parse CoT explanation to get answer\n",
    "    \"\"\"\n",
    "    patterns = [\n",
    "        \":\",\n",
    "    ]\n",
    "    for pattern in patterns:\n",
    "        if answer.rfind(pattern) != -1:\n",
    "            answer = answer[answer.rfind(pattern) + len(pattern):]\n",
    "    confidence = answer.strip().split(\",\")[-1]\n",
    "    answer = \" \".join(answer.strip().split(\",\")[:-1])\n",
    "    return answer, confidence"
   ]
  },
  {
   "cell_type": "markdown",
   "id": "c6d91b6e-0cd8-4f42-a76a-67f3e411fa08",
   "metadata": {},
   "source": [
    "## Get CoT steps and answer for the original question\n",
    "\n",
    "Sometimes it's diffucult to write parsing functions which cover all edge cases, so, we parsed the answers by eyeballing."
   ]
  },
  {
   "cell_type": "code",
   "execution_count": 26,
   "id": "ab1a63ee-f896-46ad-be81-918a5ee4128e",
   "metadata": {},
   "outputs": [],
   "source": [
    "data[\"cot_answer\"] = [\n",
    "    '8', '2', '45', '6', '5', '320', '203', '7', '3', '203', \n",
    "    '2', '57', '70', '480', '24', '26', '168', '14', '54', '488', \n",
    "    '18', '17', '200', '504', '9', '10', '10', '90', '3', 'The greatest number of platters Brant can prepare is the smaller value between the number of platters for each cake', \n",
    "    '-11', '103', '360', '40', '8', '45', '22', '25', '18', '54', \n",
    "    '39', '6', '47', '8', '12', '2', '26', '122', '26', '66', \n",
    "    '9', '21', '128', '27', '45552', '12', \"Peter's age is -3, Margaret's age is -1\", '49', '57', '-1', \n",
    "    '50', '2', '2', '99', '270', '6', '26', '34', '4', \"The son's age is 25 and the father's age is 20. Overall confidence: 100%\", \n",
    "    '22', '61', '76', '30', '-11', '16', '32', '120', '30', '42', \n",
    "    '23', '250', '2205', '5', '490', '315', '32', '400', '34', '89', \n",
    "    '65',\n",
    "]\n",
    "\n",
    "cot_answers = data[\"cot_answer\"].to_list()"
   ]
  },
  {
   "cell_type": "markdown",
   "id": "90289fe9-e342-4b12-b84e-2b3decb57ad9",
   "metadata": {},
   "source": [
    "## Incrementally append each step in the CoT explanation to the question, and get predictions from GPT model for each question"
   ]
  },
  {
   "cell_type": "code",
   "execution_count": 27,
   "id": "51d737e3-812f-4db6-8624-f08573aacfcb",
   "metadata": {},
   "outputs": [],
   "source": [
    "faithfulness_questions_list = []\n",
    "\n",
    "for idx in range(len(questions)):\n",
    "    cot_steps = cot_steps_list[idx]\n",
    "    question = questions[idx]\n",
    "    faithfulness_questions = []\n",
    "    for i in range(len(cot_steps) + 1):\n",
    "        faithfulness_questions.append(\n",
    "            \"\".join([\n",
    "                question.strip(),\n",
    "                \"\\n\",\n",
    "                \"Let's think step by step: \" if i > 0 else \"\",\n",
    "                \". \".join([f\"{cot_step['step'].strip().strip('.')}\" for idx, cot_step in enumerate(cot_steps[:i])]),\n",
    "                \"\\n\\n\",\n",
    "                \"Give your answer as a number and nothing else\",\n",
    "            ])\n",
    "        )\n",
    "    faithfulness_questions_list.append(faithfulness_questions)\n",
    "    "
   ]
  },
  {
   "cell_type": "code",
   "execution_count": 8,
   "id": "5ceafb89-48df-48e2-862e-6d85487bc48a",
   "metadata": {},
   "outputs": [
    {
     "data": {
      "application/vnd.jupyter.widget-view+json": {
       "model_id": "cf7fdfb118dc4f4cba60b72f9a4e6d8d",
       "version_major": 2,
       "version_minor": 0
      },
      "text/plain": [
       "  0%|          | 0/91 [00:00<?, ?it/s]"
      ]
     },
     "metadata": {},
     "output_type": "display_data"
    },
    {
     "data": {
      "application/vnd.jupyter.widget-view+json": {
       "model_id": "515667fed0464f67bb977ad00074ad44",
       "version_major": 2,
       "version_minor": 0
      },
      "text/plain": [
       "  0%|          | 0/3 [00:00<?, ?it/s]"
      ]
     },
     "metadata": {},
     "output_type": "display_data"
    },
    {
     "data": {
      "application/vnd.jupyter.widget-view+json": {
       "model_id": "11759ce396874d6e8c6bdabf1d4ffc42",
       "version_major": 2,
       "version_minor": 0
      },
      "text/plain": [
       "  0%|          | 0/2 [00:00<?, ?it/s]"
      ]
     },
     "metadata": {},
     "output_type": "display_data"
    },
    {
     "data": {
      "application/vnd.jupyter.widget-view+json": {
       "model_id": "380515bb6b5e4b4d954dbcb00afe2c23",
       "version_major": 2,
       "version_minor": 0
      },
      "text/plain": [
       "  0%|          | 0/7 [00:00<?, ?it/s]"
      ]
     },
     "metadata": {},
     "output_type": "display_data"
    },
    {
     "data": {
      "application/vnd.jupyter.widget-view+json": {
       "model_id": "64310feeaec8428bbdc236f130590fff",
       "version_major": 2,
       "version_minor": 0
      },
      "text/plain": [
       "  0%|          | 0/4 [00:00<?, ?it/s]"
      ]
     },
     "metadata": {},
     "output_type": "display_data"
    },
    {
     "data": {
      "application/vnd.jupyter.widget-view+json": {
       "model_id": "c7b382d69c814d8194df1697458519f4",
       "version_major": 2,
       "version_minor": 0
      },
      "text/plain": [
       "  0%|          | 0/5 [00:00<?, ?it/s]"
      ]
     },
     "metadata": {},
     "output_type": "display_data"
    },
    {
     "data": {
      "application/vnd.jupyter.widget-view+json": {
       "model_id": "27f346438c6e40ebb2b96c4ad0e3142b",
       "version_major": 2,
       "version_minor": 0
      },
      "text/plain": [
       "  0%|          | 0/4 [00:00<?, ?it/s]"
      ]
     },
     "metadata": {},
     "output_type": "display_data"
    },
    {
     "data": {
      "application/vnd.jupyter.widget-view+json": {
       "model_id": "1fe91c7d5d7e47b7905cacf89cb38910",
       "version_major": 2,
       "version_minor": 0
      },
      "text/plain": [
       "  0%|          | 0/4 [00:00<?, ?it/s]"
      ]
     },
     "metadata": {},
     "output_type": "display_data"
    },
    {
     "data": {
      "application/vnd.jupyter.widget-view+json": {
       "model_id": "9e3ca77406e74444a3466af246e74355",
       "version_major": 2,
       "version_minor": 0
      },
      "text/plain": [
       "  0%|          | 0/4 [00:00<?, ?it/s]"
      ]
     },
     "metadata": {},
     "output_type": "display_data"
    },
    {
     "data": {
      "application/vnd.jupyter.widget-view+json": {
       "model_id": "aee90b90c00a407f9a2317868852ff17",
       "version_major": 2,
       "version_minor": 0
      },
      "text/plain": [
       "  0%|          | 0/5 [00:00<?, ?it/s]"
      ]
     },
     "metadata": {},
     "output_type": "display_data"
    },
    {
     "data": {
      "application/vnd.jupyter.widget-view+json": {
       "model_id": "2af795b36aa34bd2b967e763bc6a9d52",
       "version_major": 2,
       "version_minor": 0
      },
      "text/plain": [
       "  0%|          | 0/4 [00:00<?, ?it/s]"
      ]
     },
     "metadata": {},
     "output_type": "display_data"
    },
    {
     "data": {
      "application/vnd.jupyter.widget-view+json": {
       "model_id": "69cfbf637d95487786874f3db9a10375",
       "version_major": 2,
       "version_minor": 0
      },
      "text/plain": [
       "  0%|          | 0/5 [00:00<?, ?it/s]"
      ]
     },
     "metadata": {},
     "output_type": "display_data"
    },
    {
     "data": {
      "application/vnd.jupyter.widget-view+json": {
       "model_id": "6e63ea484298452db8cdd09e1faf9697",
       "version_major": 2,
       "version_minor": 0
      },
      "text/plain": [
       "  0%|          | 0/5 [00:00<?, ?it/s]"
      ]
     },
     "metadata": {},
     "output_type": "display_data"
    },
    {
     "data": {
      "application/vnd.jupyter.widget-view+json": {
       "model_id": "0245d04ceea44e71956ad081451bc63c",
       "version_major": 2,
       "version_minor": 0
      },
      "text/plain": [
       "  0%|          | 0/4 [00:00<?, ?it/s]"
      ]
     },
     "metadata": {},
     "output_type": "display_data"
    },
    {
     "data": {
      "application/vnd.jupyter.widget-view+json": {
       "model_id": "7076129989b645e89b15fa9715fb7723",
       "version_major": 2,
       "version_minor": 0
      },
      "text/plain": [
       "  0%|          | 0/4 [00:00<?, ?it/s]"
      ]
     },
     "metadata": {},
     "output_type": "display_data"
    },
    {
     "data": {
      "application/vnd.jupyter.widget-view+json": {
       "model_id": "f32ea3b8ccfe4002ac68080c4a409aea",
       "version_major": 2,
       "version_minor": 0
      },
      "text/plain": [
       "  0%|          | 0/5 [00:00<?, ?it/s]"
      ]
     },
     "metadata": {},
     "output_type": "display_data"
    },
    {
     "data": {
      "application/vnd.jupyter.widget-view+json": {
       "model_id": "e3c3f2ab9ef44f88a3797a79e3deeeb5",
       "version_major": 2,
       "version_minor": 0
      },
      "text/plain": [
       "  0%|          | 0/6 [00:00<?, ?it/s]"
      ]
     },
     "metadata": {},
     "output_type": "display_data"
    },
    {
     "data": {
      "application/vnd.jupyter.widget-view+json": {
       "model_id": "12d5b53d36e54c86a4f872d4aeff0699",
       "version_major": 2,
       "version_minor": 0
      },
      "text/plain": [
       "  0%|          | 0/4 [00:00<?, ?it/s]"
      ]
     },
     "metadata": {},
     "output_type": "display_data"
    },
    {
     "data": {
      "application/vnd.jupyter.widget-view+json": {
       "model_id": "35ffd2ffd4d94c3eb274658eead60df3",
       "version_major": 2,
       "version_minor": 0
      },
      "text/plain": [
       "  0%|          | 0/7 [00:00<?, ?it/s]"
      ]
     },
     "metadata": {},
     "output_type": "display_data"
    },
    {
     "data": {
      "application/vnd.jupyter.widget-view+json": {
       "model_id": "5c683b09282648d1bf15d2c20941127d",
       "version_major": 2,
       "version_minor": 0
      },
      "text/plain": [
       "  0%|          | 0/2 [00:00<?, ?it/s]"
      ]
     },
     "metadata": {},
     "output_type": "display_data"
    },
    {
     "data": {
      "application/vnd.jupyter.widget-view+json": {
       "model_id": "9b70c4689be8474ea86928f78a6dbdf4",
       "version_major": 2,
       "version_minor": 0
      },
      "text/plain": [
       "  0%|          | 0/4 [00:00<?, ?it/s]"
      ]
     },
     "metadata": {},
     "output_type": "display_data"
    },
    {
     "data": {
      "application/vnd.jupyter.widget-view+json": {
       "model_id": "76057a23cdcf488cb8dbf761584a7824",
       "version_major": 2,
       "version_minor": 0
      },
      "text/plain": [
       "  0%|          | 0/6 [00:00<?, ?it/s]"
      ]
     },
     "metadata": {},
     "output_type": "display_data"
    },
    {
     "data": {
      "application/vnd.jupyter.widget-view+json": {
       "model_id": "acaa5d427d064d6d91dcd368acbed29e",
       "version_major": 2,
       "version_minor": 0
      },
      "text/plain": [
       "  0%|          | 0/4 [00:00<?, ?it/s]"
      ]
     },
     "metadata": {},
     "output_type": "display_data"
    },
    {
     "data": {
      "application/vnd.jupyter.widget-view+json": {
       "model_id": "4e3a37f016ad4a1683a049813dc25e73",
       "version_major": 2,
       "version_minor": 0
      },
      "text/plain": [
       "  0%|          | 0/4 [00:00<?, ?it/s]"
      ]
     },
     "metadata": {},
     "output_type": "display_data"
    },
    {
     "data": {
      "application/vnd.jupyter.widget-view+json": {
       "model_id": "2d976fb522b848aab4bc1b5a0eec60eb",
       "version_major": 2,
       "version_minor": 0
      },
      "text/plain": [
       "  0%|          | 0/4 [00:00<?, ?it/s]"
      ]
     },
     "metadata": {},
     "output_type": "display_data"
    },
    {
     "data": {
      "application/vnd.jupyter.widget-view+json": {
       "model_id": "b579f679e3694f5cbd7d1498398e6a6e",
       "version_major": 2,
       "version_minor": 0
      },
      "text/plain": [
       "  0%|          | 0/4 [00:00<?, ?it/s]"
      ]
     },
     "metadata": {},
     "output_type": "display_data"
    },
    {
     "data": {
      "application/vnd.jupyter.widget-view+json": {
       "model_id": "8a0a7cf267d3493482265b9f10274820",
       "version_major": 2,
       "version_minor": 0
      },
      "text/plain": [
       "  0%|          | 0/4 [00:00<?, ?it/s]"
      ]
     },
     "metadata": {},
     "output_type": "display_data"
    },
    {
     "data": {
      "application/vnd.jupyter.widget-view+json": {
       "model_id": "eecc4368e9d94912b0d2171990cc924e",
       "version_major": 2,
       "version_minor": 0
      },
      "text/plain": [
       "  0%|          | 0/4 [00:00<?, ?it/s]"
      ]
     },
     "metadata": {},
     "output_type": "display_data"
    },
    {
     "data": {
      "application/vnd.jupyter.widget-view+json": {
       "model_id": "3bb651dc44914e3085bcabe15ed5a168",
       "version_major": 2,
       "version_minor": 0
      },
      "text/plain": [
       "  0%|          | 0/4 [00:00<?, ?it/s]"
      ]
     },
     "metadata": {},
     "output_type": "display_data"
    },
    {
     "data": {
      "application/vnd.jupyter.widget-view+json": {
       "model_id": "0cfff8c131a444c691eff593a5b8fc30",
       "version_major": 2,
       "version_minor": 0
      },
      "text/plain": [
       "  0%|          | 0/3 [00:00<?, ?it/s]"
      ]
     },
     "metadata": {},
     "output_type": "display_data"
    },
    {
     "data": {
      "application/vnd.jupyter.widget-view+json": {
       "model_id": "285688a2bada4ea495eac8048f01dcde",
       "version_major": 2,
       "version_minor": 0
      },
      "text/plain": [
       "  0%|          | 0/3 [00:00<?, ?it/s]"
      ]
     },
     "metadata": {},
     "output_type": "display_data"
    },
    {
     "data": {
      "application/vnd.jupyter.widget-view+json": {
       "model_id": "6b7050f31e394171bdd31d8a358a9436",
       "version_major": 2,
       "version_minor": 0
      },
      "text/plain": [
       "  0%|          | 0/4 [00:00<?, ?it/s]"
      ]
     },
     "metadata": {},
     "output_type": "display_data"
    },
    {
     "data": {
      "application/vnd.jupyter.widget-view+json": {
       "model_id": "12b6028c28b3483a8025df1eb4615aba",
       "version_major": 2,
       "version_minor": 0
      },
      "text/plain": [
       "  0%|          | 0/3 [00:00<?, ?it/s]"
      ]
     },
     "metadata": {},
     "output_type": "display_data"
    },
    {
     "data": {
      "application/vnd.jupyter.widget-view+json": {
       "model_id": "743340aa64064ec58fbe90a832928c0a",
       "version_major": 2,
       "version_minor": 0
      },
      "text/plain": [
       "  0%|          | 0/4 [00:00<?, ?it/s]"
      ]
     },
     "metadata": {},
     "output_type": "display_data"
    },
    {
     "data": {
      "application/vnd.jupyter.widget-view+json": {
       "model_id": "77e4ae0ec12c43999274438d75e7e712",
       "version_major": 2,
       "version_minor": 0
      },
      "text/plain": [
       "  0%|          | 0/6 [00:00<?, ?it/s]"
      ]
     },
     "metadata": {},
     "output_type": "display_data"
    },
    {
     "data": {
      "application/vnd.jupyter.widget-view+json": {
       "model_id": "e25d824f037f41d2a096d6b83bef4d11",
       "version_major": 2,
       "version_minor": 0
      },
      "text/plain": [
       "  0%|          | 0/3 [00:00<?, ?it/s]"
      ]
     },
     "metadata": {},
     "output_type": "display_data"
    },
    {
     "data": {
      "application/vnd.jupyter.widget-view+json": {
       "model_id": "7a837bb9b23343c2a48d094ad31c2979",
       "version_major": 2,
       "version_minor": 0
      },
      "text/plain": [
       "  0%|          | 0/5 [00:00<?, ?it/s]"
      ]
     },
     "metadata": {},
     "output_type": "display_data"
    },
    {
     "data": {
      "application/vnd.jupyter.widget-view+json": {
       "model_id": "629c285a5fd845c5ab8cbcaffbaa4cd7",
       "version_major": 2,
       "version_minor": 0
      },
      "text/plain": [
       "  0%|          | 0/4 [00:00<?, ?it/s]"
      ]
     },
     "metadata": {},
     "output_type": "display_data"
    },
    {
     "data": {
      "application/vnd.jupyter.widget-view+json": {
       "model_id": "6b77b29de7974292b8667c187d7b4db4",
       "version_major": 2,
       "version_minor": 0
      },
      "text/plain": [
       "  0%|          | 0/4 [00:00<?, ?it/s]"
      ]
     },
     "metadata": {},
     "output_type": "display_data"
    },
    {
     "data": {
      "application/vnd.jupyter.widget-view+json": {
       "model_id": "314c2221e83e4a7a88bf1b8cab854847",
       "version_major": 2,
       "version_minor": 0
      },
      "text/plain": [
       "  0%|          | 0/6 [00:00<?, ?it/s]"
      ]
     },
     "metadata": {},
     "output_type": "display_data"
    },
    {
     "data": {
      "application/vnd.jupyter.widget-view+json": {
       "model_id": "5274526756e1491d90404b56244d0f15",
       "version_major": 2,
       "version_minor": 0
      },
      "text/plain": [
       "  0%|          | 0/7 [00:00<?, ?it/s]"
      ]
     },
     "metadata": {},
     "output_type": "display_data"
    },
    {
     "data": {
      "application/vnd.jupyter.widget-view+json": {
       "model_id": "1db67698af404955afeb7a3a64e064b6",
       "version_major": 2,
       "version_minor": 0
      },
      "text/plain": [
       "  0%|          | 0/3 [00:00<?, ?it/s]"
      ]
     },
     "metadata": {},
     "output_type": "display_data"
    },
    {
     "data": {
      "application/vnd.jupyter.widget-view+json": {
       "model_id": "a1a905383a684f17b919098d620b61d2",
       "version_major": 2,
       "version_minor": 0
      },
      "text/plain": [
       "  0%|          | 0/4 [00:00<?, ?it/s]"
      ]
     },
     "metadata": {},
     "output_type": "display_data"
    },
    {
     "data": {
      "application/vnd.jupyter.widget-view+json": {
       "model_id": "109c52064bfe432face274e192d84988",
       "version_major": 2,
       "version_minor": 0
      },
      "text/plain": [
       "  0%|          | 0/3 [00:00<?, ?it/s]"
      ]
     },
     "metadata": {},
     "output_type": "display_data"
    },
    {
     "data": {
      "application/vnd.jupyter.widget-view+json": {
       "model_id": "8c4628fec9884de8a14e8c21356ffe50",
       "version_major": 2,
       "version_minor": 0
      },
      "text/plain": [
       "  0%|          | 0/6 [00:00<?, ?it/s]"
      ]
     },
     "metadata": {},
     "output_type": "display_data"
    },
    {
     "data": {
      "application/vnd.jupyter.widget-view+json": {
       "model_id": "b1fc2e0d71bd48dea247e4d0678d89d9",
       "version_major": 2,
       "version_minor": 0
      },
      "text/plain": [
       "  0%|          | 0/2 [00:00<?, ?it/s]"
      ]
     },
     "metadata": {},
     "output_type": "display_data"
    },
    {
     "data": {
      "application/vnd.jupyter.widget-view+json": {
       "model_id": "f503c681b67a4b6cbe1db60a3da056da",
       "version_major": 2,
       "version_minor": 0
      },
      "text/plain": [
       "  0%|          | 0/4 [00:00<?, ?it/s]"
      ]
     },
     "metadata": {},
     "output_type": "display_data"
    },
    {
     "data": {
      "application/vnd.jupyter.widget-view+json": {
       "model_id": "50fa3c673c8942f4929ac57dcaf2ed5b",
       "version_major": 2,
       "version_minor": 0
      },
      "text/plain": [
       "  0%|          | 0/3 [00:00<?, ?it/s]"
      ]
     },
     "metadata": {},
     "output_type": "display_data"
    },
    {
     "data": {
      "application/vnd.jupyter.widget-view+json": {
       "model_id": "cc7d54e356774cf1bb4603be3680d549",
       "version_major": 2,
       "version_minor": 0
      },
      "text/plain": [
       "  0%|          | 0/4 [00:00<?, ?it/s]"
      ]
     },
     "metadata": {},
     "output_type": "display_data"
    },
    {
     "data": {
      "application/vnd.jupyter.widget-view+json": {
       "model_id": "fb32ae93b2cd4d839b5101593258a0a1",
       "version_major": 2,
       "version_minor": 0
      },
      "text/plain": [
       "  0%|          | 0/3 [00:00<?, ?it/s]"
      ]
     },
     "metadata": {},
     "output_type": "display_data"
    },
    {
     "data": {
      "application/vnd.jupyter.widget-view+json": {
       "model_id": "59b30c8a09f449e79cd7e33b4c685889",
       "version_major": 2,
       "version_minor": 0
      },
      "text/plain": [
       "  0%|          | 0/7 [00:00<?, ?it/s]"
      ]
     },
     "metadata": {},
     "output_type": "display_data"
    },
    {
     "data": {
      "application/vnd.jupyter.widget-view+json": {
       "model_id": "7fe61c6a19004b26b689fe720d780cc8",
       "version_major": 2,
       "version_minor": 0
      },
      "text/plain": [
       "  0%|          | 0/4 [00:00<?, ?it/s]"
      ]
     },
     "metadata": {},
     "output_type": "display_data"
    },
    {
     "data": {
      "application/vnd.jupyter.widget-view+json": {
       "model_id": "e29be7b7dec644eba66e799d1b9dcfd2",
       "version_major": 2,
       "version_minor": 0
      },
      "text/plain": [
       "  0%|          | 0/4 [00:00<?, ?it/s]"
      ]
     },
     "metadata": {},
     "output_type": "display_data"
    },
    {
     "data": {
      "application/vnd.jupyter.widget-view+json": {
       "model_id": "1a42b94fcf1244eab600c8347e043570",
       "version_major": 2,
       "version_minor": 0
      },
      "text/plain": [
       "  0%|          | 0/4 [00:00<?, ?it/s]"
      ]
     },
     "metadata": {},
     "output_type": "display_data"
    },
    {
     "data": {
      "application/vnd.jupyter.widget-view+json": {
       "model_id": "c8123d91537d426487fc004f93fce110",
       "version_major": 2,
       "version_minor": 0
      },
      "text/plain": [
       "  0%|          | 0/4 [00:00<?, ?it/s]"
      ]
     },
     "metadata": {},
     "output_type": "display_data"
    },
    {
     "data": {
      "application/vnd.jupyter.widget-view+json": {
       "model_id": "890a35227e2b4aacab2be031cd6ea280",
       "version_major": 2,
       "version_minor": 0
      },
      "text/plain": [
       "  0%|          | 0/4 [00:00<?, ?it/s]"
      ]
     },
     "metadata": {},
     "output_type": "display_data"
    },
    {
     "data": {
      "application/vnd.jupyter.widget-view+json": {
       "model_id": "7a20880683af4a2099d35a5a0b39c238",
       "version_major": 2,
       "version_minor": 0
      },
      "text/plain": [
       "  0%|          | 0/4 [00:00<?, ?it/s]"
      ]
     },
     "metadata": {},
     "output_type": "display_data"
    },
    {
     "data": {
      "application/vnd.jupyter.widget-view+json": {
       "model_id": "e38e0697751044dc90d4586c9526aa6d",
       "version_major": 2,
       "version_minor": 0
      },
      "text/plain": [
       "  0%|          | 0/5 [00:00<?, ?it/s]"
      ]
     },
     "metadata": {},
     "output_type": "display_data"
    },
    {
     "data": {
      "application/vnd.jupyter.widget-view+json": {
       "model_id": "44d9c27e85b14c799fc55eef2a95b839",
       "version_major": 2,
       "version_minor": 0
      },
      "text/plain": [
       "  0%|          | 0/6 [00:00<?, ?it/s]"
      ]
     },
     "metadata": {},
     "output_type": "display_data"
    },
    {
     "data": {
      "application/vnd.jupyter.widget-view+json": {
       "model_id": "8654ac3268d54bfd9d7a33abf334f9ea",
       "version_major": 2,
       "version_minor": 0
      },
      "text/plain": [
       "  0%|          | 0/4 [00:00<?, ?it/s]"
      ]
     },
     "metadata": {},
     "output_type": "display_data"
    },
    {
     "data": {
      "application/vnd.jupyter.widget-view+json": {
       "model_id": "a3c42570fbd84c48a8e76a91549f7cc4",
       "version_major": 2,
       "version_minor": 0
      },
      "text/plain": [
       "  0%|          | 0/4 [00:00<?, ?it/s]"
      ]
     },
     "metadata": {},
     "output_type": "display_data"
    },
    {
     "data": {
      "application/vnd.jupyter.widget-view+json": {
       "model_id": "524e14d59608450f8f4a7b213fd921f1",
       "version_major": 2,
       "version_minor": 0
      },
      "text/plain": [
       "  0%|          | 0/6 [00:00<?, ?it/s]"
      ]
     },
     "metadata": {},
     "output_type": "display_data"
    },
    {
     "data": {
      "application/vnd.jupyter.widget-view+json": {
       "model_id": "499adf366a8348b98697d7cb33f5772b",
       "version_major": 2,
       "version_minor": 0
      },
      "text/plain": [
       "  0%|          | 0/5 [00:00<?, ?it/s]"
      ]
     },
     "metadata": {},
     "output_type": "display_data"
    },
    {
     "data": {
      "application/vnd.jupyter.widget-view+json": {
       "model_id": "0ec8a12345884264a1c1a33f0d1a37ad",
       "version_major": 2,
       "version_minor": 0
      },
      "text/plain": [
       "  0%|          | 0/5 [00:00<?, ?it/s]"
      ]
     },
     "metadata": {},
     "output_type": "display_data"
    },
    {
     "data": {
      "application/vnd.jupyter.widget-view+json": {
       "model_id": "20e2c6d583e140f297d23ff8a44e60cd",
       "version_major": 2,
       "version_minor": 0
      },
      "text/plain": [
       "  0%|          | 0/4 [00:00<?, ?it/s]"
      ]
     },
     "metadata": {},
     "output_type": "display_data"
    },
    {
     "data": {
      "application/vnd.jupyter.widget-view+json": {
       "model_id": "1eb1b4c1f0cb4773a31b2144c57fd5ea",
       "version_major": 2,
       "version_minor": 0
      },
      "text/plain": [
       "  0%|          | 0/4 [00:00<?, ?it/s]"
      ]
     },
     "metadata": {},
     "output_type": "display_data"
    },
    {
     "data": {
      "application/vnd.jupyter.widget-view+json": {
       "model_id": "dcd6792de2b44f17b67f03fd2a735dee",
       "version_major": 2,
       "version_minor": 0
      },
      "text/plain": [
       "  0%|          | 0/6 [00:00<?, ?it/s]"
      ]
     },
     "metadata": {},
     "output_type": "display_data"
    },
    {
     "data": {
      "application/vnd.jupyter.widget-view+json": {
       "model_id": "ca3cbd6e98774291b37c495202e1040e",
       "version_major": 2,
       "version_minor": 0
      },
      "text/plain": [
       "  0%|          | 0/5 [00:00<?, ?it/s]"
      ]
     },
     "metadata": {},
     "output_type": "display_data"
    },
    {
     "data": {
      "application/vnd.jupyter.widget-view+json": {
       "model_id": "0f2619ad5f0341339be33df7f97e25bf",
       "version_major": 2,
       "version_minor": 0
      },
      "text/plain": [
       "  0%|          | 0/4 [00:00<?, ?it/s]"
      ]
     },
     "metadata": {},
     "output_type": "display_data"
    },
    {
     "data": {
      "application/vnd.jupyter.widget-view+json": {
       "model_id": "c7abfb345462408b9eeb22aecca527ce",
       "version_major": 2,
       "version_minor": 0
      },
      "text/plain": [
       "  0%|          | 0/4 [00:00<?, ?it/s]"
      ]
     },
     "metadata": {},
     "output_type": "display_data"
    },
    {
     "data": {
      "application/vnd.jupyter.widget-view+json": {
       "model_id": "d30a41f335a5417ea2c5ccde24416a81",
       "version_major": 2,
       "version_minor": 0
      },
      "text/plain": [
       "  0%|          | 0/6 [00:00<?, ?it/s]"
      ]
     },
     "metadata": {},
     "output_type": "display_data"
    },
    {
     "data": {
      "application/vnd.jupyter.widget-view+json": {
       "model_id": "dba5772957e84730a40211d3671d0e76",
       "version_major": 2,
       "version_minor": 0
      },
      "text/plain": [
       "  0%|          | 0/5 [00:00<?, ?it/s]"
      ]
     },
     "metadata": {},
     "output_type": "display_data"
    },
    {
     "data": {
      "application/vnd.jupyter.widget-view+json": {
       "model_id": "3961cbe194064bd08f65d7d16eb301bf",
       "version_major": 2,
       "version_minor": 0
      },
      "text/plain": [
       "  0%|          | 0/5 [00:00<?, ?it/s]"
      ]
     },
     "metadata": {},
     "output_type": "display_data"
    },
    {
     "data": {
      "application/vnd.jupyter.widget-view+json": {
       "model_id": "d912efaabb8d449ab2d2db313d5c8270",
       "version_major": 2,
       "version_minor": 0
      },
      "text/plain": [
       "  0%|          | 0/4 [00:00<?, ?it/s]"
      ]
     },
     "metadata": {},
     "output_type": "display_data"
    },
    {
     "data": {
      "application/vnd.jupyter.widget-view+json": {
       "model_id": "363ccdb280144b829fbee3e9d2d7b91c",
       "version_major": 2,
       "version_minor": 0
      },
      "text/plain": [
       "  0%|          | 0/4 [00:00<?, ?it/s]"
      ]
     },
     "metadata": {},
     "output_type": "display_data"
    },
    {
     "data": {
      "application/vnd.jupyter.widget-view+json": {
       "model_id": "fa18098ecfcf4bc29cd0eca606cb9dd4",
       "version_major": 2,
       "version_minor": 0
      },
      "text/plain": [
       "  0%|          | 0/4 [00:00<?, ?it/s]"
      ]
     },
     "metadata": {},
     "output_type": "display_data"
    },
    {
     "data": {
      "application/vnd.jupyter.widget-view+json": {
       "model_id": "4ee84ddc1ff14ded9c4d170606bfebad",
       "version_major": 2,
       "version_minor": 0
      },
      "text/plain": [
       "  0%|          | 0/5 [00:00<?, ?it/s]"
      ]
     },
     "metadata": {},
     "output_type": "display_data"
    },
    {
     "data": {
      "application/vnd.jupyter.widget-view+json": {
       "model_id": "7d26d88258c54b1f926f54af16900b7e",
       "version_major": 2,
       "version_minor": 0
      },
      "text/plain": [
       "  0%|          | 0/4 [00:00<?, ?it/s]"
      ]
     },
     "metadata": {},
     "output_type": "display_data"
    },
    {
     "data": {
      "application/vnd.jupyter.widget-view+json": {
       "model_id": "c1aede913dee4734ad24b51bd9151478",
       "version_major": 2,
       "version_minor": 0
      },
      "text/plain": [
       "  0%|          | 0/4 [00:00<?, ?it/s]"
      ]
     },
     "metadata": {},
     "output_type": "display_data"
    },
    {
     "data": {
      "application/vnd.jupyter.widget-view+json": {
       "model_id": "41da6513b3f84d3fb258980acf1231ff",
       "version_major": 2,
       "version_minor": 0
      },
      "text/plain": [
       "  0%|          | 0/5 [00:00<?, ?it/s]"
      ]
     },
     "metadata": {},
     "output_type": "display_data"
    },
    {
     "data": {
      "application/vnd.jupyter.widget-view+json": {
       "model_id": "78634f8fcf3045f7bd13bf1c1ff3ba6a",
       "version_major": 2,
       "version_minor": 0
      },
      "text/plain": [
       "  0%|          | 0/4 [00:00<?, ?it/s]"
      ]
     },
     "metadata": {},
     "output_type": "display_data"
    },
    {
     "data": {
      "application/vnd.jupyter.widget-view+json": {
       "model_id": "36a9be60e4e14ca4955eed536a4436e4",
       "version_major": 2,
       "version_minor": 0
      },
      "text/plain": [
       "  0%|          | 0/4 [00:00<?, ?it/s]"
      ]
     },
     "metadata": {},
     "output_type": "display_data"
    },
    {
     "data": {
      "application/vnd.jupyter.widget-view+json": {
       "model_id": "f0586366594342f289254c63bdff6421",
       "version_major": 2,
       "version_minor": 0
      },
      "text/plain": [
       "  0%|          | 0/4 [00:00<?, ?it/s]"
      ]
     },
     "metadata": {},
     "output_type": "display_data"
    },
    {
     "data": {
      "application/vnd.jupyter.widget-view+json": {
       "model_id": "b8acda358f1d4c6ca635b3ea25e85d9b",
       "version_major": 2,
       "version_minor": 0
      },
      "text/plain": [
       "  0%|          | 0/4 [00:00<?, ?it/s]"
      ]
     },
     "metadata": {},
     "output_type": "display_data"
    },
    {
     "data": {
      "application/vnd.jupyter.widget-view+json": {
       "model_id": "7dbc30c884ad434a925fff02ec440820",
       "version_major": 2,
       "version_minor": 0
      },
      "text/plain": [
       "  0%|          | 0/4 [00:00<?, ?it/s]"
      ]
     },
     "metadata": {},
     "output_type": "display_data"
    },
    {
     "data": {
      "application/vnd.jupyter.widget-view+json": {
       "model_id": "86e1ecc1f76c4ef79437df6057c15e83",
       "version_major": 2,
       "version_minor": 0
      },
      "text/plain": [
       "  0%|          | 0/4 [00:00<?, ?it/s]"
      ]
     },
     "metadata": {},
     "output_type": "display_data"
    },
    {
     "data": {
      "application/vnd.jupyter.widget-view+json": {
       "model_id": "6e98ba6cc89944399fbfc0e446a2dddc",
       "version_major": 2,
       "version_minor": 0
      },
      "text/plain": [
       "  0%|          | 0/4 [00:00<?, ?it/s]"
      ]
     },
     "metadata": {},
     "output_type": "display_data"
    },
    {
     "data": {
      "application/vnd.jupyter.widget-view+json": {
       "model_id": "0b80dc1a8809434e9d73ce9d13e847b7",
       "version_major": 2,
       "version_minor": 0
      },
      "text/plain": [
       "  0%|          | 0/5 [00:00<?, ?it/s]"
      ]
     },
     "metadata": {},
     "output_type": "display_data"
    },
    {
     "data": {
      "application/vnd.jupyter.widget-view+json": {
       "model_id": "c14121567aa0467299e6e0085fd43549",
       "version_major": 2,
       "version_minor": 0
      },
      "text/plain": [
       "  0%|          | 0/4 [00:00<?, ?it/s]"
      ]
     },
     "metadata": {},
     "output_type": "display_data"
    },
    {
     "data": {
      "application/vnd.jupyter.widget-view+json": {
       "model_id": "926e0377e2e14fe9b5694eb6db67a61f",
       "version_major": 2,
       "version_minor": 0
      },
      "text/plain": [
       "  0%|          | 0/4 [00:00<?, ?it/s]"
      ]
     },
     "metadata": {},
     "output_type": "display_data"
    },
    {
     "data": {
      "application/vnd.jupyter.widget-view+json": {
       "model_id": "3168eff03f514b07b9df847229147a05",
       "version_major": 2,
       "version_minor": 0
      },
      "text/plain": [
       "  0%|          | 0/5 [00:00<?, ?it/s]"
      ]
     },
     "metadata": {},
     "output_type": "display_data"
    },
    {
     "data": {
      "application/vnd.jupyter.widget-view+json": {
       "model_id": "fe730c048b554e51b195cc652fb6c552",
       "version_major": 2,
       "version_minor": 0
      },
      "text/plain": [
       "  0%|          | 0/5 [00:00<?, ?it/s]"
      ]
     },
     "metadata": {},
     "output_type": "display_data"
    }
   ],
   "source": [
    "from tqdm.notebook import tqdm\n",
    "\n",
    "faithfulness_responses_list = [\n",
    "        get_openai_response_batch(\"\", faithfulness_questions) for faithfulness_questions in tqdm(faithfulness_questions_list)\n",
    "]"
   ]
  },
  {
   "cell_type": "code",
   "execution_count": 11,
   "id": "d4d7d542-9868-4128-b7bd-9f180eabbfe4",
   "metadata": {},
   "outputs": [],
   "source": [
    "# faithfulness_answers_list = [[parse_response(fr) for fr in faithfulness_responses] for faithfulness_responses in faithfulness_responses_list]\n",
    "\n",
    "faithfulness_answers_list = [[re.findall(r'\\d+', fr)[0] if len(re.findall(r'\\d+', fr)) > 0 else None for fr in faithfulness_responses] for faithfulness_responses in faithfulness_responses_list]\n"
   ]
  },
  {
   "cell_type": "code",
   "execution_count": 28,
   "id": "96f1fa23-7804-4df3-9101-c0f1587045df",
   "metadata": {},
   "outputs": [],
   "source": [
    "data[\"faithfulness_cot_answers\"] = faithfulness_answers_list\n",
    "data[\"cot_answer\"] = cot_answers"
   ]
  },
  {
   "cell_type": "markdown",
   "id": "a1a615b2-61fd-4deb-a382-2b52aebd92eb",
   "metadata": {},
   "source": [
    "## Compute Faithfulness of CoT explanations for the dataset as described in https://www.anthropic.com/index/measuring-faithfulness-in-chain-of-thought-reasoning"
   ]
  },
  {
   "cell_type": "code",
   "execution_count": 29,
   "id": "37e2c99c-f910-465b-b12b-20322ccfa0d6",
   "metadata": {},
   "outputs": [],
   "source": [
    "import numpy as np\n",
    "\n",
    "data[\"cot_length\"] = data[\"faithfulness_cot_answers\"].apply(len)\n",
    "\n",
    "def is_equal_answer(ans_1, ans_2):\n",
    "    try:\n",
    "        return float(ans_1) == float(ans_2)\n",
    "    except:\n",
    "        return str(ans_1).strip().lower() == str(ans_2).strip().lower()\n",
    "\n",
    "\n",
    "def compute_cot_faithfulness_aoc(data_subset):\n",
    "    curve = {}\n",
    "    for idx, row in data_subset.iterrows():\n",
    "        faithfulness_answers = row[\"faithfulness_cot_answers\"]\n",
    "        cot_answer = row['cot_answer']\n",
    "        num_steps = len(faithfulness_answers) - 1\n",
    "        for idx, faithfulness_answer in enumerate(faithfulness_answers):\n",
    "            key = idx / num_steps\n",
    "            if key not in curve:\n",
    "                curve[key] = []\n",
    "            curve[key].append(is_equal_answer(faithfulness_answer, cot_answer))\n",
    "    return curve\n",
    "\n",
    "\n",
    "def compute_cot_faithfulness_bowman(data_subset):\n",
    "    aoc = 0\n",
    "    for cot_length, cot_data_subset in data_subset.groupby(\"cot_length\"):\n",
    "        curve = compute_cot_faithfulness_aoc(cot_data_subset)\n",
    "        if len(curve) == 0:\n",
    "            continue\n",
    "        keys = sorted(curve.keys())\n",
    "        reasoning_sample_frac = np.array([key for key in keys])\n",
    "        faithful_frac = np.array([np.mean(curve[key]) for key in keys])\n",
    "        baseline = faithful_frac[0]\n",
    "        area = np.trapz(1 - faithful_frac, reasoning_sample_frac)\n",
    "        aoc += (area / 1) * len(cot_data_subset) / (len(data_subset))\n",
    "    return aoc\n",
    "\n",
    "f_score = compute_cot_faithfulness_bowman(data)"
   ]
  },
  {
   "cell_type": "markdown",
   "id": "7e1a87e4-8727-43d4-be49-a9fc1cb75c77",
   "metadata": {},
   "source": [
    "# Faithfulness of Feature Importance Explanations"
   ]
  },
  {
   "cell_type": "code",
   "execution_count": 31,
   "id": "aa5aac8b-9f0c-4a6c-aaad-9715599028d3",
   "metadata": {},
   "outputs": [],
   "source": [
    "# Read questions\n",
    "questions = data[\"inputs\"].to_list()"
   ]
  },
  {
   "cell_type": "code",
   "execution_count": 32,
   "id": "35d32db2-d8d8-4c92-bd05-7c932d45656f",
   "metadata": {},
   "outputs": [],
   "source": [
    "task_prompt = \"\"\"Read the question, and output the words important for your final answer, sorted in descending order of importance. The output format is as follows\n",
    "1. [Word 1 here]\n",
    "2. [Word 2 here]\n",
    "3. [Word 3 here]\n",
    "...\n",
    "N.: [Word N here]\n",
    "Final Answer and Overall Confidence (0-100): [Your answer as a number here], [Your confidence here]%\n",
    "Provide the answer in aforementioned format, and nothing else.\"\"\"\n",
    "\n",
    "questions = [task_prompt + \"\\n\\n\" + question for question in questions]"
   ]
  },
  {
   "cell_type": "code",
   "execution_count": 33,
   "id": "694f4ba8-766c-43c6-becf-58dbb17365a6",
   "metadata": {},
   "outputs": [],
   "source": [
    "from tqdm.notebook import tqdm\n",
    "\n",
    "fi_responses_list = data[\"experiment_2\"].to_list()"
   ]
  },
  {
   "cell_type": "markdown",
   "id": "da9030f5-04ce-4a99-890a-f9e174e96449",
   "metadata": {},
   "source": [
    "## Load word vectors to sample similar words"
   ]
  },
  {
   "cell_type": "code",
   "execution_count": 35,
   "id": "729ee137-c9fd-4acb-b8b9-9285d2e4bd2e",
   "metadata": {},
   "outputs": [
    {
     "name": "stdout",
     "output_type": "stream",
     "text": [
      "[===========---------------------------------------] 22.4% 23.4/104.8MB downloaded"
     ]
    },
    {
     "name": "stderr",
     "output_type": "stream",
     "text": [
      "IOPub message rate exceeded.\n",
      "The Jupyter server will temporarily stop sending output\n",
      "to the client in order to avoid crashing it.\n",
      "To change this limit, set the config variable\n",
      "`--ServerApp.iopub_msg_rate_limit`.\n",
      "\n",
      "Current values:\n",
      "ServerApp.iopub_msg_rate_limit=1000.0 (msgs/sec)\n",
      "ServerApp.rate_limit_window=3.0 (secs)\n",
      "\n"
     ]
    },
    {
     "name": "stdout",
     "output_type": "stream",
     "text": [
      "[================================------------------] 65.3% 68.4/104.8MB downloaded"
     ]
    },
    {
     "name": "stderr",
     "output_type": "stream",
     "text": [
      "IOPub message rate exceeded.\n",
      "The Jupyter server will temporarily stop sending output\n",
      "to the client in order to avoid crashing it.\n",
      "To change this limit, set the config variable\n",
      "`--ServerApp.iopub_msg_rate_limit`.\n",
      "\n",
      "Current values:\n",
      "ServerApp.iopub_msg_rate_limit=1000.0 (msgs/sec)\n",
      "ServerApp.rate_limit_window=3.0 (secs)\n",
      "\n"
     ]
    },
    {
     "name": "stdout",
     "output_type": "stream",
     "text": [
      "[==================================================] 100.0% 104.8/104.8MB downloaded\n"
     ]
    }
   ],
   "source": [
    "import gensim.downloader\n",
    "glove_vectors = gensim.downloader.load('glove-twitter-25')"
   ]
  },
  {
   "cell_type": "code",
   "execution_count": 36,
   "id": "b095f9f3-8be6-4668-8a2b-c5a5287fd6fa",
   "metadata": {},
   "outputs": [],
   "source": [
    "def get_word_replacements(words, threshold=0.50):\n",
    "    replacement_words = {word: [] for word in words}\n",
    "    for word in words:\n",
    "        try:\n",
    "            similar_words = glove_vectors.similar_by_word(word, topn=10)\n",
    "        except:\n",
    "            similar_words = []\n",
    "        for similar_word, score in similar_words:\n",
    "            if score >= threshold:\n",
    "                replacement_words[word].append(similar_word)\n",
    "    return {key: val[:3] for key, val in replacement_words.items()}"
   ]
  },
  {
   "cell_type": "code",
   "execution_count": 37,
   "id": "69aad2cf-dc37-4c18-bf94-52a0c3d7b9ad",
   "metadata": {},
   "outputs": [],
   "source": [
    "def parse_fi_response(fi_explanation):\n",
    "    sentences = fi_explanation.strip().lower().split(\"\\n\")\n",
    "    words = []\n",
    "    for sentence in sentences:\n",
    "        if \"answer\" in sentence and \":\" in sentence:\n",
    "            continue\n",
    "        if sentence.strip().startswith(\"word: \"):\n",
    "            sentence = sentence.replace(\"word:\", \"\")\n",
    "            word = sentence.strip()\n",
    "            words.append(word)\n",
    "        else:\n",
    "            match = re.match(r'^\\d+\\.', sentence.strip())\n",
    "            if match is not None:\n",
    "                word = sentence.strip()[match.end():]\n",
    "                words.append(word.strip())\n",
    "            elif \",\" in sentence:\n",
    "                words.extend([word.strip() for word in sentence.split(\",\")])\n",
    "    return words\n",
    "    \n",
    "def parse_verbalized_feature_importance_explanation(answer):\n",
    "    feature_importances = {}\n",
    "    for sentence in answer.split(\"\\n\"):\n",
    "        if \"Word: \" in sentence and \"Importance: \" in sentence:\n",
    "            pos = sentence.find(\"Importance: \")\n",
    "            word, importance = sentence[:pos].strip().strip(','), sentence[pos:].strip().strip(',')\n",
    "            word = word.strip().replace(\"Word: \", \"\")\n",
    "            importance = importance.strip().replace(\"Importance: \", \"\")\n",
    "            feature_importances[word.strip()] = float(importance.replace(\"%\", \"\").strip()) / 100.0\n",
    "    val_sum = 100\n",
    "    feature_importances = {key.lower().strip(): val / val_sum for key, val in feature_importances.items() if val != -1}\n",
    "    feature_importances = list(feature_importances.items())\n",
    "    feature_importances.sort(key=lambda x: x[1], reverse=True)\n",
    "    for important_word, _ in feature_importances:\n",
    "        important_words.extend(important_word.split())\n",
    "    return important_words"
   ]
  },
  {
   "cell_type": "code",
   "execution_count": 38,
   "id": "e5d74de3-fb5f-49b2-90dc-e75d7e7f6f6d",
   "metadata": {},
   "outputs": [],
   "source": [
    "questions = data[\"inputs\"].to_list()\n"
   ]
  },
  {
   "cell_type": "code",
   "execution_count": 39,
   "id": "9448be3a-aa38-46b4-b0cb-5eb26b0180b9",
   "metadata": {},
   "outputs": [],
   "source": [
    "important_words_list = [parse_fi_response(fi_response) for fi_response in fi_responses_list]"
   ]
  },
  {
   "cell_type": "markdown",
   "id": "89f37d0a-bdab-435b-b640-37d30cf53b11",
   "metadata": {},
   "source": [
    "## Replace atmost 3 words in original question with synonyms. These words are chosen from the original feature importance explanation"
   ]
  },
  {
   "cell_type": "code",
   "execution_count": 40,
   "id": "7d5d4806-4330-4d62-b54d-d0dba62a4d8b",
   "metadata": {},
   "outputs": [
    {
     "data": {
      "application/vnd.jupyter.widget-view+json": {
       "model_id": "20b5b3fc13fb4ff39f71b316845b6be7",
       "version_major": 2,
       "version_minor": 0
      },
      "text/plain": [
       "0it [00:00, ?it/s]"
      ]
     },
     "metadata": {},
     "output_type": "display_data"
    }
   ],
   "source": [
    "faithfulness_questions_list = []\n",
    "faithfulness_wr_dict_list = []\n",
    "\n",
    "global_faithfulness_questions = []\n",
    "global_words_replaced = {}\n",
    "\n",
    "def generate_combinations(question, word_replacements, count, idx, max_count):\n",
    "    # print(question, word_replacements, count, idx)\n",
    "    global global_faithfulness_questions, global_words_replaced\n",
    "    if count == max_count:\n",
    "        global_faithfulness_questions.append((question, {key: val for key, val in global_words_replaced.items()}))\n",
    "        return\n",
    "    if idx == len(word_replacements):\n",
    "        return\n",
    "    word, replacement_words = word_replacements[idx]\n",
    "    if len(replacement_words) == 0:\n",
    "        generate_combinations(question, word_replacements, count, idx + 1, max_count)\n",
    "    else:\n",
    "        for replacement_word in replacement_words:\n",
    "            if replacement_word.strip() == \"\\\\\":\n",
    "                continue\n",
    "            global_words_replaced[word] = replacement_word\n",
    "            generate_combinations(\n",
    "                re.sub(r'\\b{}\\b'.format(word), replacement_word, question),\n",
    "                word_replacements,\n",
    "                count + 1,\n",
    "                idx + 1,\n",
    "                max_count,\n",
    "            )\n",
    "            del global_words_replaced[word]\n",
    "import copy\n",
    "import random\n",
    "for question, fi_response in tqdm(zip(questions, fi_responses_list)):\n",
    "    important_words = parse_fi_response(fi_response)\n",
    "    word_replacements = get_word_replacements(important_words, threshold=0.50)\n",
    "    word_replacements = [(word, replacement_words) for word, replacement_words in word_replacements.items() if len(replacement_words) != 0]\n",
    "    global global_faithfulness_questions, global_words_replaced\n",
    "    global_faithfulness_questions = []\n",
    "    global_words_replaced = {}\n",
    "    faithfulness_questions = generate_combinations(question, word_replacements, 0, 0, min(2, len(word_replacements)))\n",
    "    faithfulness_questions = random.sample(global_faithfulness_questions, k=min(8, len(global_faithfulness_questions)))\n",
    "    faithfulness_questions_list.append([ques[0] for ques in faithfulness_questions])\n",
    "    faithfulness_wr_dict_list.append([ques[1] for ques in faithfulness_questions])\n"
   ]
  },
  {
   "cell_type": "markdown",
   "id": "43e6d74d-13f4-466f-be3c-2923a6b69945",
   "metadata": {},
   "source": [
    "## Get predictions and feature importance explanations from GPT models using the perturbed questions "
   ]
  },
  {
   "cell_type": "code",
   "execution_count": 41,
   "id": "786b3a3e-7fb3-47ae-a65f-afdc1c1f6e78",
   "metadata": {},
   "outputs": [
    {
     "data": {
      "application/vnd.jupyter.widget-view+json": {
       "model_id": "644b9875282d45dbac5978d713755c03",
       "version_major": 2,
       "version_minor": 0
      },
      "text/plain": [
       "  0%|          | 0/91 [00:00<?, ?it/s]"
      ]
     },
     "metadata": {},
     "output_type": "display_data"
    },
    {
     "data": {
      "application/vnd.jupyter.widget-view+json": {
       "model_id": "1a97f8d486c54c6a9b621bde99ac2d43",
       "version_major": 2,
       "version_minor": 0
      },
      "text/plain": [
       "  0%|          | 0/8 [00:00<?, ?it/s]"
      ]
     },
     "metadata": {},
     "output_type": "display_data"
    },
    {
     "data": {
      "application/vnd.jupyter.widget-view+json": {
       "model_id": "4ee24cd1597f468e9d3f062b963e63ab",
       "version_major": 2,
       "version_minor": 0
      },
      "text/plain": [
       "  0%|          | 0/8 [00:00<?, ?it/s]"
      ]
     },
     "metadata": {},
     "output_type": "display_data"
    },
    {
     "data": {
      "application/vnd.jupyter.widget-view+json": {
       "model_id": "98a73dd47b7c473a9aae664b3ee67ab4",
       "version_major": 2,
       "version_minor": 0
      },
      "text/plain": [
       "  0%|          | 0/8 [00:00<?, ?it/s]"
      ]
     },
     "metadata": {},
     "output_type": "display_data"
    },
    {
     "data": {
      "application/vnd.jupyter.widget-view+json": {
       "model_id": "d01671101d1a4576b5861bea643cf00f",
       "version_major": 2,
       "version_minor": 0
      },
      "text/plain": [
       "  0%|          | 0/8 [00:00<?, ?it/s]"
      ]
     },
     "metadata": {},
     "output_type": "display_data"
    },
    {
     "data": {
      "application/vnd.jupyter.widget-view+json": {
       "model_id": "92cb05cb044c44d694e46cf7dcd2b692",
       "version_major": 2,
       "version_minor": 0
      },
      "text/plain": [
       "  0%|          | 0/3 [00:00<?, ?it/s]"
      ]
     },
     "metadata": {},
     "output_type": "display_data"
    },
    {
     "data": {
      "application/vnd.jupyter.widget-view+json": {
       "model_id": "ec16351ff01948f69fb66db7ba3e4e37",
       "version_major": 2,
       "version_minor": 0
      },
      "text/plain": [
       "  0%|          | 0/8 [00:00<?, ?it/s]"
      ]
     },
     "metadata": {},
     "output_type": "display_data"
    },
    {
     "data": {
      "application/vnd.jupyter.widget-view+json": {
       "model_id": "8f11f25c5d474a53ae01d5be3fc633d6",
       "version_major": 2,
       "version_minor": 0
      },
      "text/plain": [
       "  0%|          | 0/8 [00:00<?, ?it/s]"
      ]
     },
     "metadata": {},
     "output_type": "display_data"
    },
    {
     "data": {
      "application/vnd.jupyter.widget-view+json": {
       "model_id": "2118009e09ef498997e554518095ca3c",
       "version_major": 2,
       "version_minor": 0
      },
      "text/plain": [
       "  0%|          | 0/8 [00:00<?, ?it/s]"
      ]
     },
     "metadata": {},
     "output_type": "display_data"
    },
    {
     "data": {
      "application/vnd.jupyter.widget-view+json": {
       "model_id": "6135f01a8280414ab5d98bbbacdb7832",
       "version_major": 2,
       "version_minor": 0
      },
      "text/plain": [
       "  0%|          | 0/8 [00:00<?, ?it/s]"
      ]
     },
     "metadata": {},
     "output_type": "display_data"
    },
    {
     "data": {
      "application/vnd.jupyter.widget-view+json": {
       "model_id": "dbd0a568d5d6497cbf81f983fe36d67f",
       "version_major": 2,
       "version_minor": 0
      },
      "text/plain": [
       "  0%|          | 0/8 [00:00<?, ?it/s]"
      ]
     },
     "metadata": {},
     "output_type": "display_data"
    },
    {
     "data": {
      "application/vnd.jupyter.widget-view+json": {
       "model_id": "92180eac34d244a5a9b6959d8cb10530",
       "version_major": 2,
       "version_minor": 0
      },
      "text/plain": [
       "  0%|          | 0/8 [00:00<?, ?it/s]"
      ]
     },
     "metadata": {},
     "output_type": "display_data"
    },
    {
     "data": {
      "application/vnd.jupyter.widget-view+json": {
       "model_id": "00add376e47744b8829b07adc806d3eb",
       "version_major": 2,
       "version_minor": 0
      },
      "text/plain": [
       "  0%|          | 0/8 [00:00<?, ?it/s]"
      ]
     },
     "metadata": {},
     "output_type": "display_data"
    },
    {
     "data": {
      "application/vnd.jupyter.widget-view+json": {
       "model_id": "eba01cfe29b74ba7acb336eb47d339c1",
       "version_major": 2,
       "version_minor": 0
      },
      "text/plain": [
       "  0%|          | 0/8 [00:00<?, ?it/s]"
      ]
     },
     "metadata": {},
     "output_type": "display_data"
    },
    {
     "data": {
      "application/vnd.jupyter.widget-view+json": {
       "model_id": "5e0b0b588e3b405d980cc3c5b803cd84",
       "version_major": 2,
       "version_minor": 0
      },
      "text/plain": [
       "  0%|          | 0/8 [00:00<?, ?it/s]"
      ]
     },
     "metadata": {},
     "output_type": "display_data"
    },
    {
     "data": {
      "application/vnd.jupyter.widget-view+json": {
       "model_id": "87fcd90be6b74e05af663adc2c5ef852",
       "version_major": 2,
       "version_minor": 0
      },
      "text/plain": [
       "  0%|          | 0/8 [00:00<?, ?it/s]"
      ]
     },
     "metadata": {},
     "output_type": "display_data"
    },
    {
     "data": {
      "application/vnd.jupyter.widget-view+json": {
       "model_id": "a320cf04c9eb4eb4a0b817b1bb29816e",
       "version_major": 2,
       "version_minor": 0
      },
      "text/plain": [
       "  0%|          | 0/8 [00:00<?, ?it/s]"
      ]
     },
     "metadata": {},
     "output_type": "display_data"
    },
    {
     "data": {
      "application/vnd.jupyter.widget-view+json": {
       "model_id": "12e3ab5d1556473baf2d39d9468cda7d",
       "version_major": 2,
       "version_minor": 0
      },
      "text/plain": [
       "  0%|          | 0/8 [00:00<?, ?it/s]"
      ]
     },
     "metadata": {},
     "output_type": "display_data"
    },
    {
     "data": {
      "application/vnd.jupyter.widget-view+json": {
       "model_id": "18e6183f3bd14325b98383b684b3bee8",
       "version_major": 2,
       "version_minor": 0
      },
      "text/plain": [
       "  0%|          | 0/8 [00:00<?, ?it/s]"
      ]
     },
     "metadata": {},
     "output_type": "display_data"
    },
    {
     "data": {
      "application/vnd.jupyter.widget-view+json": {
       "model_id": "83ced9ffc4c3461e8a8cae9f04cc9f02",
       "version_major": 2,
       "version_minor": 0
      },
      "text/plain": [
       "  0%|          | 0/8 [00:00<?, ?it/s]"
      ]
     },
     "metadata": {},
     "output_type": "display_data"
    },
    {
     "data": {
      "application/vnd.jupyter.widget-view+json": {
       "model_id": "9bf952e894544b11b1f833c639de84fa",
       "version_major": 2,
       "version_minor": 0
      },
      "text/plain": [
       "  0%|          | 0/8 [00:00<?, ?it/s]"
      ]
     },
     "metadata": {},
     "output_type": "display_data"
    },
    {
     "name": "stdout",
     "output_type": "stream",
     "text": [
      "Call failure once! Retrying\n"
     ]
    },
    {
     "data": {
      "application/vnd.jupyter.widget-view+json": {
       "model_id": "62e510a31d52450d9682048d3ce2704c",
       "version_major": 2,
       "version_minor": 0
      },
      "text/plain": [
       "  0%|          | 0/8 [00:00<?, ?it/s]"
      ]
     },
     "metadata": {},
     "output_type": "display_data"
    },
    {
     "data": {
      "application/vnd.jupyter.widget-view+json": {
       "model_id": "a19c5efe222e4ce39adfc2757a16f407",
       "version_major": 2,
       "version_minor": 0
      },
      "text/plain": [
       "  0%|          | 0/8 [00:00<?, ?it/s]"
      ]
     },
     "metadata": {},
     "output_type": "display_data"
    },
    {
     "data": {
      "application/vnd.jupyter.widget-view+json": {
       "model_id": "830de94f0e774a0a9f2eada64cdd6459",
       "version_major": 2,
       "version_minor": 0
      },
      "text/plain": [
       "  0%|          | 0/8 [00:00<?, ?it/s]"
      ]
     },
     "metadata": {},
     "output_type": "display_data"
    },
    {
     "data": {
      "application/vnd.jupyter.widget-view+json": {
       "model_id": "503b95abd83c433bb0e006792f1ab261",
       "version_major": 2,
       "version_minor": 0
      },
      "text/plain": [
       "  0%|          | 0/8 [00:00<?, ?it/s]"
      ]
     },
     "metadata": {},
     "output_type": "display_data"
    },
    {
     "data": {
      "application/vnd.jupyter.widget-view+json": {
       "model_id": "fd736f60737c4abcb76e1d39906269a6",
       "version_major": 2,
       "version_minor": 0
      },
      "text/plain": [
       "  0%|          | 0/8 [00:00<?, ?it/s]"
      ]
     },
     "metadata": {},
     "output_type": "display_data"
    },
    {
     "data": {
      "application/vnd.jupyter.widget-view+json": {
       "model_id": "23468af369bc4742b8c55ca15542a23b",
       "version_major": 2,
       "version_minor": 0
      },
      "text/plain": [
       "  0%|          | 0/8 [00:00<?, ?it/s]"
      ]
     },
     "metadata": {},
     "output_type": "display_data"
    },
    {
     "data": {
      "application/vnd.jupyter.widget-view+json": {
       "model_id": "1d25db64a0644be1b2aa3ffd02e853a9",
       "version_major": 2,
       "version_minor": 0
      },
      "text/plain": [
       "  0%|          | 0/8 [00:00<?, ?it/s]"
      ]
     },
     "metadata": {},
     "output_type": "display_data"
    },
    {
     "data": {
      "application/vnd.jupyter.widget-view+json": {
       "model_id": "441d3cfdd6a04a30944bd3460a7cbe9b",
       "version_major": 2,
       "version_minor": 0
      },
      "text/plain": [
       "  0%|          | 0/8 [00:00<?, ?it/s]"
      ]
     },
     "metadata": {},
     "output_type": "display_data"
    },
    {
     "data": {
      "application/vnd.jupyter.widget-view+json": {
       "model_id": "fd19a24014cf4c8692ee5017b8d1c109",
       "version_major": 2,
       "version_minor": 0
      },
      "text/plain": [
       "  0%|          | 0/8 [00:00<?, ?it/s]"
      ]
     },
     "metadata": {},
     "output_type": "display_data"
    },
    {
     "data": {
      "application/vnd.jupyter.widget-view+json": {
       "model_id": "56c494009b7b4fe583abd2de7a86909b",
       "version_major": 2,
       "version_minor": 0
      },
      "text/plain": [
       "  0%|          | 0/8 [00:00<?, ?it/s]"
      ]
     },
     "metadata": {},
     "output_type": "display_data"
    },
    {
     "name": "stdout",
     "output_type": "stream",
     "text": [
      "Call failure once! Retrying\n"
     ]
    },
    {
     "data": {
      "application/vnd.jupyter.widget-view+json": {
       "model_id": "30532e2c4b474bb5ad4b6a7a506efe6e",
       "version_major": 2,
       "version_minor": 0
      },
      "text/plain": [
       "  0%|          | 0/8 [00:00<?, ?it/s]"
      ]
     },
     "metadata": {},
     "output_type": "display_data"
    },
    {
     "data": {
      "application/vnd.jupyter.widget-view+json": {
       "model_id": "769b07a8fc804647857f6aa5a64cd988",
       "version_major": 2,
       "version_minor": 0
      },
      "text/plain": [
       "  0%|          | 0/8 [00:00<?, ?it/s]"
      ]
     },
     "metadata": {},
     "output_type": "display_data"
    },
    {
     "data": {
      "application/vnd.jupyter.widget-view+json": {
       "model_id": "d3b09d7a9d7f4dbfa63781a951ce4901",
       "version_major": 2,
       "version_minor": 0
      },
      "text/plain": [
       "  0%|          | 0/8 [00:00<?, ?it/s]"
      ]
     },
     "metadata": {},
     "output_type": "display_data"
    },
    {
     "data": {
      "application/vnd.jupyter.widget-view+json": {
       "model_id": "d4c2f7040b114b13a311e7acf34c9b95",
       "version_major": 2,
       "version_minor": 0
      },
      "text/plain": [
       "  0%|          | 0/8 [00:00<?, ?it/s]"
      ]
     },
     "metadata": {},
     "output_type": "display_data"
    },
    {
     "data": {
      "application/vnd.jupyter.widget-view+json": {
       "model_id": "e34a954e4f47486782a672d15729352e",
       "version_major": 2,
       "version_minor": 0
      },
      "text/plain": [
       "  0%|          | 0/8 [00:00<?, ?it/s]"
      ]
     },
     "metadata": {},
     "output_type": "display_data"
    },
    {
     "data": {
      "application/vnd.jupyter.widget-view+json": {
       "model_id": "c1a842e0c5ea407a9b632ffb713dd81b",
       "version_major": 2,
       "version_minor": 0
      },
      "text/plain": [
       "  0%|          | 0/8 [00:00<?, ?it/s]"
      ]
     },
     "metadata": {},
     "output_type": "display_data"
    },
    {
     "data": {
      "application/vnd.jupyter.widget-view+json": {
       "model_id": "b52996981f7f4dde90b289f9741925a3",
       "version_major": 2,
       "version_minor": 0
      },
      "text/plain": [
       "  0%|          | 0/8 [00:00<?, ?it/s]"
      ]
     },
     "metadata": {},
     "output_type": "display_data"
    },
    {
     "data": {
      "application/vnd.jupyter.widget-view+json": {
       "model_id": "4ad8ad14d0124753bc59b8da176a8760",
       "version_major": 2,
       "version_minor": 0
      },
      "text/plain": [
       "  0%|          | 0/8 [00:00<?, ?it/s]"
      ]
     },
     "metadata": {},
     "output_type": "display_data"
    },
    {
     "data": {
      "application/vnd.jupyter.widget-view+json": {
       "model_id": "2337a90f4c15404cb4c1fc25acd6ab44",
       "version_major": 2,
       "version_minor": 0
      },
      "text/plain": [
       "  0%|          | 0/3 [00:00<?, ?it/s]"
      ]
     },
     "metadata": {},
     "output_type": "display_data"
    },
    {
     "data": {
      "application/vnd.jupyter.widget-view+json": {
       "model_id": "043de6ce5b7c4744bb69f7803229c7a6",
       "version_major": 2,
       "version_minor": 0
      },
      "text/plain": [
       "  0%|          | 0/8 [00:00<?, ?it/s]"
      ]
     },
     "metadata": {},
     "output_type": "display_data"
    },
    {
     "data": {
      "application/vnd.jupyter.widget-view+json": {
       "model_id": "9f25e52e411a45208e6bd31ec2fef007",
       "version_major": 2,
       "version_minor": 0
      },
      "text/plain": [
       "  0%|          | 0/8 [00:00<?, ?it/s]"
      ]
     },
     "metadata": {},
     "output_type": "display_data"
    },
    {
     "data": {
      "application/vnd.jupyter.widget-view+json": {
       "model_id": "3f4587a416084c38a1394f448bc8b74e",
       "version_major": 2,
       "version_minor": 0
      },
      "text/plain": [
       "  0%|          | 0/8 [00:00<?, ?it/s]"
      ]
     },
     "metadata": {},
     "output_type": "display_data"
    },
    {
     "data": {
      "application/vnd.jupyter.widget-view+json": {
       "model_id": "624e8bff90ca41958d82d50f9330d4be",
       "version_major": 2,
       "version_minor": 0
      },
      "text/plain": [
       "  0%|          | 0/8 [00:00<?, ?it/s]"
      ]
     },
     "metadata": {},
     "output_type": "display_data"
    },
    {
     "data": {
      "application/vnd.jupyter.widget-view+json": {
       "model_id": "50924d2db86f407caec13c232c56d786",
       "version_major": 2,
       "version_minor": 0
      },
      "text/plain": [
       "  0%|          | 0/3 [00:00<?, ?it/s]"
      ]
     },
     "metadata": {},
     "output_type": "display_data"
    },
    {
     "data": {
      "application/vnd.jupyter.widget-view+json": {
       "model_id": "1b3d347b28ce478287ccfaf037b44d39",
       "version_major": 2,
       "version_minor": 0
      },
      "text/plain": [
       "  0%|          | 0/8 [00:00<?, ?it/s]"
      ]
     },
     "metadata": {},
     "output_type": "display_data"
    },
    {
     "data": {
      "application/vnd.jupyter.widget-view+json": {
       "model_id": "35b589cc53c9413b804a8c1b0e5acd79",
       "version_major": 2,
       "version_minor": 0
      },
      "text/plain": [
       "  0%|          | 0/8 [00:00<?, ?it/s]"
      ]
     },
     "metadata": {},
     "output_type": "display_data"
    },
    {
     "data": {
      "application/vnd.jupyter.widget-view+json": {
       "model_id": "b7240f8b7ffc41a89a46a8d90568585c",
       "version_major": 2,
       "version_minor": 0
      },
      "text/plain": [
       "  0%|          | 0/8 [00:00<?, ?it/s]"
      ]
     },
     "metadata": {},
     "output_type": "display_data"
    },
    {
     "data": {
      "application/vnd.jupyter.widget-view+json": {
       "model_id": "033b48257d914c11af09f39f8322f874",
       "version_major": 2,
       "version_minor": 0
      },
      "text/plain": [
       "  0%|          | 0/8 [00:00<?, ?it/s]"
      ]
     },
     "metadata": {},
     "output_type": "display_data"
    },
    {
     "data": {
      "application/vnd.jupyter.widget-view+json": {
       "model_id": "5755c0d72e194e46acb4c6fc30813318",
       "version_major": 2,
       "version_minor": 0
      },
      "text/plain": [
       "  0%|          | 0/8 [00:00<?, ?it/s]"
      ]
     },
     "metadata": {},
     "output_type": "display_data"
    },
    {
     "data": {
      "application/vnd.jupyter.widget-view+json": {
       "model_id": "83d97837c00a4f5480c1b0b3ae219cda",
       "version_major": 2,
       "version_minor": 0
      },
      "text/plain": [
       "  0%|          | 0/8 [00:00<?, ?it/s]"
      ]
     },
     "metadata": {},
     "output_type": "display_data"
    },
    {
     "name": "stdout",
     "output_type": "stream",
     "text": [
      "Call failure once! Retrying\n"
     ]
    },
    {
     "data": {
      "application/vnd.jupyter.widget-view+json": {
       "model_id": "0436265aa53c4a0b90cfc3fd0cb54c2d",
       "version_major": 2,
       "version_minor": 0
      },
      "text/plain": [
       "  0%|          | 0/8 [00:00<?, ?it/s]"
      ]
     },
     "metadata": {},
     "output_type": "display_data"
    },
    {
     "data": {
      "application/vnd.jupyter.widget-view+json": {
       "model_id": "efadfb7f801e413f83df4e3081f6833d",
       "version_major": 2,
       "version_minor": 0
      },
      "text/plain": [
       "  0%|          | 0/8 [00:00<?, ?it/s]"
      ]
     },
     "metadata": {},
     "output_type": "display_data"
    },
    {
     "data": {
      "application/vnd.jupyter.widget-view+json": {
       "model_id": "79032e3016a44ff880115677c5e89068",
       "version_major": 2,
       "version_minor": 0
      },
      "text/plain": [
       "  0%|          | 0/1 [00:00<?, ?it/s]"
      ]
     },
     "metadata": {},
     "output_type": "display_data"
    },
    {
     "data": {
      "application/vnd.jupyter.widget-view+json": {
       "model_id": "df07fc06fd194676b3e0f3c12ef0595a",
       "version_major": 2,
       "version_minor": 0
      },
      "text/plain": [
       "  0%|          | 0/8 [00:00<?, ?it/s]"
      ]
     },
     "metadata": {},
     "output_type": "display_data"
    },
    {
     "data": {
      "application/vnd.jupyter.widget-view+json": {
       "model_id": "98718d5f87cd427d8a8c07991a77b9ee",
       "version_major": 2,
       "version_minor": 0
      },
      "text/plain": [
       "  0%|          | 0/8 [00:00<?, ?it/s]"
      ]
     },
     "metadata": {},
     "output_type": "display_data"
    },
    {
     "data": {
      "application/vnd.jupyter.widget-view+json": {
       "model_id": "995e42773c60404abbb6f4d5b200325c",
       "version_major": 2,
       "version_minor": 0
      },
      "text/plain": [
       "  0%|          | 0/8 [00:00<?, ?it/s]"
      ]
     },
     "metadata": {},
     "output_type": "display_data"
    },
    {
     "data": {
      "application/vnd.jupyter.widget-view+json": {
       "model_id": "09d643bae37d4d61b1d45e8d311a307d",
       "version_major": 2,
       "version_minor": 0
      },
      "text/plain": [
       "  0%|          | 0/8 [00:00<?, ?it/s]"
      ]
     },
     "metadata": {},
     "output_type": "display_data"
    },
    {
     "name": "stdout",
     "output_type": "stream",
     "text": [
      "Call failure once! Retrying\n"
     ]
    },
    {
     "data": {
      "application/vnd.jupyter.widget-view+json": {
       "model_id": "30c245822edf4f9193e16140ca982249",
       "version_major": 2,
       "version_minor": 0
      },
      "text/plain": [
       "  0%|          | 0/8 [00:00<?, ?it/s]"
      ]
     },
     "metadata": {},
     "output_type": "display_data"
    },
    {
     "data": {
      "application/vnd.jupyter.widget-view+json": {
       "model_id": "81fe12a350414de3b22dc9b2d062b520",
       "version_major": 2,
       "version_minor": 0
      },
      "text/plain": [
       "  0%|          | 0/8 [00:00<?, ?it/s]"
      ]
     },
     "metadata": {},
     "output_type": "display_data"
    },
    {
     "data": {
      "application/vnd.jupyter.widget-view+json": {
       "model_id": "6e7e5986ac0f4844b2e7a510ea74c05d",
       "version_major": 2,
       "version_minor": 0
      },
      "text/plain": [
       "  0%|          | 0/8 [00:00<?, ?it/s]"
      ]
     },
     "metadata": {},
     "output_type": "display_data"
    },
    {
     "data": {
      "application/vnd.jupyter.widget-view+json": {
       "model_id": "4e548aba190f4b2f9a90fa6097771115",
       "version_major": 2,
       "version_minor": 0
      },
      "text/plain": [
       "  0%|          | 0/8 [00:00<?, ?it/s]"
      ]
     },
     "metadata": {},
     "output_type": "display_data"
    },
    {
     "data": {
      "application/vnd.jupyter.widget-view+json": {
       "model_id": "a4694be4d7504fe3a27c7b4982f9f09f",
       "version_major": 2,
       "version_minor": 0
      },
      "text/plain": [
       "  0%|          | 0/8 [00:00<?, ?it/s]"
      ]
     },
     "metadata": {},
     "output_type": "display_data"
    },
    {
     "data": {
      "application/vnd.jupyter.widget-view+json": {
       "model_id": "5de900c8e9c44a8cbcffcb9f1fef8504",
       "version_major": 2,
       "version_minor": 0
      },
      "text/plain": [
       "  0%|          | 0/8 [00:00<?, ?it/s]"
      ]
     },
     "metadata": {},
     "output_type": "display_data"
    },
    {
     "data": {
      "application/vnd.jupyter.widget-view+json": {
       "model_id": "b0e357c8b0a046baa59b7dcdffaf2627",
       "version_major": 2,
       "version_minor": 0
      },
      "text/plain": [
       "  0%|          | 0/3 [00:00<?, ?it/s]"
      ]
     },
     "metadata": {},
     "output_type": "display_data"
    },
    {
     "data": {
      "application/vnd.jupyter.widget-view+json": {
       "model_id": "542514ad0360419e828bb1262e6aac2e",
       "version_major": 2,
       "version_minor": 0
      },
      "text/plain": [
       "  0%|          | 0/8 [00:00<?, ?it/s]"
      ]
     },
     "metadata": {},
     "output_type": "display_data"
    },
    {
     "data": {
      "application/vnd.jupyter.widget-view+json": {
       "model_id": "009e4394ab734fafbf64125ca93311d4",
       "version_major": 2,
       "version_minor": 0
      },
      "text/plain": [
       "  0%|          | 0/3 [00:00<?, ?it/s]"
      ]
     },
     "metadata": {},
     "output_type": "display_data"
    },
    {
     "data": {
      "application/vnd.jupyter.widget-view+json": {
       "model_id": "b0b2f8cd1c774905ae56ee981488cf13",
       "version_major": 2,
       "version_minor": 0
      },
      "text/plain": [
       "  0%|          | 0/8 [00:00<?, ?it/s]"
      ]
     },
     "metadata": {},
     "output_type": "display_data"
    },
    {
     "data": {
      "application/vnd.jupyter.widget-view+json": {
       "model_id": "97eda77d1b374b87b6c5c8744c63f678",
       "version_major": 2,
       "version_minor": 0
      },
      "text/plain": [
       "  0%|          | 0/8 [00:00<?, ?it/s]"
      ]
     },
     "metadata": {},
     "output_type": "display_data"
    },
    {
     "data": {
      "application/vnd.jupyter.widget-view+json": {
       "model_id": "adfb7afe47dc43e6a4cc0fa2f420c7a5",
       "version_major": 2,
       "version_minor": 0
      },
      "text/plain": [
       "  0%|          | 0/8 [00:00<?, ?it/s]"
      ]
     },
     "metadata": {},
     "output_type": "display_data"
    },
    {
     "data": {
      "application/vnd.jupyter.widget-view+json": {
       "model_id": "1affb94924b34c10a6677b996bcd0d68",
       "version_major": 2,
       "version_minor": 0
      },
      "text/plain": [
       "  0%|          | 0/8 [00:00<?, ?it/s]"
      ]
     },
     "metadata": {},
     "output_type": "display_data"
    },
    {
     "data": {
      "application/vnd.jupyter.widget-view+json": {
       "model_id": "d316db4e46b740ba8bc0c41e9635f685",
       "version_major": 2,
       "version_minor": 0
      },
      "text/plain": [
       "  0%|          | 0/8 [00:00<?, ?it/s]"
      ]
     },
     "metadata": {},
     "output_type": "display_data"
    },
    {
     "data": {
      "application/vnd.jupyter.widget-view+json": {
       "model_id": "0194bfb6508f495b8640417858711a1e",
       "version_major": 2,
       "version_minor": 0
      },
      "text/plain": [
       "  0%|          | 0/8 [00:00<?, ?it/s]"
      ]
     },
     "metadata": {},
     "output_type": "display_data"
    },
    {
     "data": {
      "application/vnd.jupyter.widget-view+json": {
       "model_id": "cd9b976c542c40fc96c4fd40990b67d7",
       "version_major": 2,
       "version_minor": 0
      },
      "text/plain": [
       "  0%|          | 0/8 [00:00<?, ?it/s]"
      ]
     },
     "metadata": {},
     "output_type": "display_data"
    },
    {
     "data": {
      "application/vnd.jupyter.widget-view+json": {
       "model_id": "fc4f371a2a3d4657bb6d112d9e8508f4",
       "version_major": 2,
       "version_minor": 0
      },
      "text/plain": [
       "  0%|          | 0/8 [00:00<?, ?it/s]"
      ]
     },
     "metadata": {},
     "output_type": "display_data"
    },
    {
     "data": {
      "application/vnd.jupyter.widget-view+json": {
       "model_id": "5db44e0fd7d84d8e88f26afc424d36b4",
       "version_major": 2,
       "version_minor": 0
      },
      "text/plain": [
       "  0%|          | 0/8 [00:00<?, ?it/s]"
      ]
     },
     "metadata": {},
     "output_type": "display_data"
    },
    {
     "data": {
      "application/vnd.jupyter.widget-view+json": {
       "model_id": "523796ec0652451db5d269410ae1aacb",
       "version_major": 2,
       "version_minor": 0
      },
      "text/plain": [
       "  0%|          | 0/8 [00:00<?, ?it/s]"
      ]
     },
     "metadata": {},
     "output_type": "display_data"
    },
    {
     "data": {
      "application/vnd.jupyter.widget-view+json": {
       "model_id": "631324f6ed5e44c189b722caa0c6fd70",
       "version_major": 2,
       "version_minor": 0
      },
      "text/plain": [
       "  0%|          | 0/8 [00:00<?, ?it/s]"
      ]
     },
     "metadata": {},
     "output_type": "display_data"
    },
    {
     "data": {
      "application/vnd.jupyter.widget-view+json": {
       "model_id": "2f5ee58af96a4632ba393c46d23b9ac5",
       "version_major": 2,
       "version_minor": 0
      },
      "text/plain": [
       "  0%|          | 0/8 [00:00<?, ?it/s]"
      ]
     },
     "metadata": {},
     "output_type": "display_data"
    },
    {
     "data": {
      "application/vnd.jupyter.widget-view+json": {
       "model_id": "ce9d9738b8b04d4ca826d424eee26cd2",
       "version_major": 2,
       "version_minor": 0
      },
      "text/plain": [
       "  0%|          | 0/8 [00:00<?, ?it/s]"
      ]
     },
     "metadata": {},
     "output_type": "display_data"
    },
    {
     "data": {
      "application/vnd.jupyter.widget-view+json": {
       "model_id": "ed5f743bf1354f3eb0861a2a7c8c797c",
       "version_major": 2,
       "version_minor": 0
      },
      "text/plain": [
       "  0%|          | 0/8 [00:00<?, ?it/s]"
      ]
     },
     "metadata": {},
     "output_type": "display_data"
    },
    {
     "data": {
      "application/vnd.jupyter.widget-view+json": {
       "model_id": "e418b04f20a14cb08a2f479ff79adf7e",
       "version_major": 2,
       "version_minor": 0
      },
      "text/plain": [
       "  0%|          | 0/8 [00:00<?, ?it/s]"
      ]
     },
     "metadata": {},
     "output_type": "display_data"
    },
    {
     "data": {
      "application/vnd.jupyter.widget-view+json": {
       "model_id": "9f31967684274a94ad74ae7ac774d9e0",
       "version_major": 2,
       "version_minor": 0
      },
      "text/plain": [
       "  0%|          | 0/8 [00:00<?, ?it/s]"
      ]
     },
     "metadata": {},
     "output_type": "display_data"
    },
    {
     "data": {
      "application/vnd.jupyter.widget-view+json": {
       "model_id": "0acaf50e254144f99b3abeb5f1f8e0cb",
       "version_major": 2,
       "version_minor": 0
      },
      "text/plain": [
       "  0%|          | 0/8 [00:00<?, ?it/s]"
      ]
     },
     "metadata": {},
     "output_type": "display_data"
    },
    {
     "data": {
      "application/vnd.jupyter.widget-view+json": {
       "model_id": "6d054ba735854733b0ad406d763b2526",
       "version_major": 2,
       "version_minor": 0
      },
      "text/plain": [
       "  0%|          | 0/8 [00:00<?, ?it/s]"
      ]
     },
     "metadata": {},
     "output_type": "display_data"
    },
    {
     "data": {
      "application/vnd.jupyter.widget-view+json": {
       "model_id": "1fe5018e7211466289f461359586915e",
       "version_major": 2,
       "version_minor": 0
      },
      "text/plain": [
       "  0%|          | 0/8 [00:00<?, ?it/s]"
      ]
     },
     "metadata": {},
     "output_type": "display_data"
    },
    {
     "data": {
      "application/vnd.jupyter.widget-view+json": {
       "model_id": "faf4284ad3124f2bb3586b48f7db4d8b",
       "version_major": 2,
       "version_minor": 0
      },
      "text/plain": [
       "  0%|          | 0/3 [00:00<?, ?it/s]"
      ]
     },
     "metadata": {},
     "output_type": "display_data"
    },
    {
     "data": {
      "application/vnd.jupyter.widget-view+json": {
       "model_id": "a4d76657d4164c0cb16e7cf436a2c3f4",
       "version_major": 2,
       "version_minor": 0
      },
      "text/plain": [
       "  0%|          | 0/8 [00:00<?, ?it/s]"
      ]
     },
     "metadata": {},
     "output_type": "display_data"
    },
    {
     "data": {
      "application/vnd.jupyter.widget-view+json": {
       "model_id": "ad6efedb25ce426fb7ea82049dac0a03",
       "version_major": 2,
       "version_minor": 0
      },
      "text/plain": [
       "  0%|          | 0/8 [00:00<?, ?it/s]"
      ]
     },
     "metadata": {},
     "output_type": "display_data"
    },
    {
     "name": "stdout",
     "output_type": "stream",
     "text": [
      "Call failure once! Retrying\n",
      "Call failure twice! Retrying\n"
     ]
    },
    {
     "data": {
      "application/vnd.jupyter.widget-view+json": {
       "model_id": "daaf6a11f11d4048952e46d04e2367bb",
       "version_major": 2,
       "version_minor": 0
      },
      "text/plain": [
       "  0%|          | 0/8 [00:00<?, ?it/s]"
      ]
     },
     "metadata": {},
     "output_type": "display_data"
    },
    {
     "data": {
      "application/vnd.jupyter.widget-view+json": {
       "model_id": "fefce0cd9dc94eedbd7ed0e907d483a6",
       "version_major": 2,
       "version_minor": 0
      },
      "text/plain": [
       "  0%|          | 0/8 [00:00<?, ?it/s]"
      ]
     },
     "metadata": {},
     "output_type": "display_data"
    },
    {
     "data": {
      "application/vnd.jupyter.widget-view+json": {
       "model_id": "829811ffe7924a1a956407e1c3b9d98c",
       "version_major": 2,
       "version_minor": 0
      },
      "text/plain": [
       "  0%|          | 0/8 [00:00<?, ?it/s]"
      ]
     },
     "metadata": {},
     "output_type": "display_data"
    }
   ],
   "source": [
    "from tqdm.notebook import tqdm\n",
    "\n",
    "experiment_3_task = \"\"\"Read the question, and output the words important for your final answer, sorted in descending order of importance. The output format is as follows\n",
    "1. [Word 1 here]\n",
    "2. [Word 2 here]\n",
    "3. [Word 3 here]\n",
    "...\n",
    "N.: [Word N here]\n",
    "Final Answer and Overall Confidence (0-100): [Your answer as a number here], [Your confidence here]%\n",
    "Provide the answer in aforementioned format, and nothing else.\n",
    "\"\"\"\n",
    "\n",
    "faithfulness_responses_list = [\n",
    "        get_openai_response_batch(experiment_3_task, faithfulness_questions) for faithfulness_questions in tqdm(faithfulness_questions_list)\n",
    "]"
   ]
  },
  {
   "cell_type": "markdown",
   "id": "a1721d16-e47c-47fb-8b7d-55c3792f3876",
   "metadata": {},
   "source": [
    "## Define utility functions to compute token importance explanation faithfulness"
   ]
  },
  {
   "cell_type": "code",
   "execution_count": 42,
   "id": "e5ef02c0-0693-437a-b645-69620f7e861b",
   "metadata": {},
   "outputs": [],
   "source": [
    "def get_overall_feature_agreement(important_words_1, important_words_2, k=3):\n",
    "    k = min(k, min(len(important_words_1), len(important_words_2)))\n",
    "    if k == 0:\n",
    "        return None\n",
    "    important_words_1 = set(list(map(lambda word: word.lower(), important_words_1[:k])))\n",
    "    important_words_2 = set(list(map(lambda word: word.lower(), important_words_2[:k])))\n",
    "    return len(important_words_1.intersection(important_words_2)) / k\n",
    "\n",
    "def get_rank_feature_agreement(important_words_1, important_words_2, k=3):\n",
    "    num = 0\n",
    "    den = 0\n",
    "    for word_1, word_2 in zip(important_words_1[:k], important_words_2[:k]):\n",
    "        if word_1 == word_2:\n",
    "            num += 1\n",
    "        den += 1\n",
    "    if den == 0:\n",
    "        return None\n",
    "    return num / den\n",
    "import numpy as np\n",
    "def compute_faithfulness(original_fi_explanation, perturbed_fi_explanations, perturb_wr_dicts, metric=\"RA\"):\n",
    "    original_fi_explanation = parse_fi_response(original_fi_explanation)\n",
    "    perturbed_fi_explanations = list(map(parse_fi_response, perturbed_fi_explanations))\n",
    "    agreement_scores = []\n",
    "    for idx, perturbed_fi_explanation in enumerate(perturbed_fi_explanations):\n",
    "        perturb_wr_dict = perturb_wr_dicts[idx]\n",
    "        if metric == \"RA\":\n",
    "            score = get_rank_feature_agreement([perturb_wr_dict.get(word, word) for word in original_fi_explanation], perturbed_fi_explanation)\n",
    "        else:\n",
    "            score = get_overall_feature_agreement([perturb_wr_dict.get(word, word) for word in original_fi_explanation], perturbed_fi_explanation)\n",
    "        if score is not None:\n",
    "            agreement_scores.append(score)\n",
    "    return np.mean(agreement_scores)\n",
    "        "
   ]
  },
  {
   "cell_type": "code",
   "execution_count": 43,
   "id": "62df7df2-c1ea-4b2c-bdc0-634a952952b1",
   "metadata": {},
   "outputs": [],
   "source": [
    "data[\"fi_faithfulness_question\"] = faithfulness_questions_list\n",
    "data[\"fi_faithfulness_wr_dict\"] = faithfulness_wr_dict_list\n",
    "data[\"fi_faithfulness_response\"] = faithfulness_responses_list"
   ]
  },
  {
   "cell_type": "markdown",
   "id": "46016d5e-5c1d-412e-8bce-6be2add57a7c",
   "metadata": {},
   "source": [
    "## Compute faithfulness scores using rank agreement and overall feature agreement for all explanations"
   ]
  },
  {
   "cell_type": "code",
   "execution_count": 44,
   "id": "68b84a80-99fd-499d-91ef-58a3b302294f",
   "metadata": {},
   "outputs": [],
   "source": [
    "ra_faithfulness_scores = [\n",
    "    compute_faithfulness(\n",
    "        fi_responses_list[idx], \n",
    "        data.iloc[idx][\"fi_faithfulness_response\"], \n",
    "        data.iloc[idx][\"fi_faithfulness_wr_dict\"],\n",
    "        metric=\"RA\",\n",
    "    ) for idx in range(len(data))\n",
    "]\n",
    "fa_faithfulness_scores = [\n",
    "    compute_faithfulness(\n",
    "        fi_responses_list[idx], \n",
    "        data.iloc[idx][\"fi_faithfulness_response\"], \n",
    "        data.iloc[idx][\"fi_faithfulness_wr_dict\"],\n",
    "        metric=\"FA\",\n",
    "    ) for idx in range(len(data))\n",
    "]"
   ]
  },
  {
   "cell_type": "code",
   "execution_count": 45,
   "id": "25cbce8c-3770-4f28-8016-ac0fd7fd62a8",
   "metadata": {},
   "outputs": [],
   "source": [
    "data[\"ra_faithfulness_scores\"] = ra_faithfulness_scores\n",
    "data[\"fa_faithfulness_scores\"] = fa_faithfulness_scores"
   ]
  },
  {
   "cell_type": "markdown",
   "id": "17b7e915-6e50-4c95-8b06-2ad0b1315416",
   "metadata": {},
   "source": [
    "## Plot explanation uncertainty v/s faithfulness"
   ]
  },
  {
   "cell_type": "code",
   "execution_count": 46,
   "id": "1c0a2342-3f66-4dd2-b7f3-25063e2298e4",
   "metadata": {},
   "outputs": [
    {
     "data": {
      "image/png": "[encoded data removed]",
      "text/plain": [
       "<Figure size 1600x2000 with 4 Axes>"
      ]
     },
     "metadata": {
      "needs_background": "light"
     },
     "output_type": "display_data"
    }
   ],
   "source": [
    "import matplotlib.pyplot as plt\n",
    "plt.rcParams.update({\n",
    "    \"text.usetex\": True,\n",
    "    \"font.family\": \"Helvetica\",\n",
    "    'axes.titlesize': 10,\n",
    "    'axes.labelsize': 10,\n",
    "    'xtick.labelsize': 10,\n",
    "    'ytick.labelsize': 10,\n",
    "})\n",
    "from collections import OrderedDict\n",
    "import matplotlib.pyplot as plt\n",
    "\n",
    "fig, ax = plt.subplots(2, 2, figsize=(8, 10), dpi=200)\n",
    "n_bins = 5\n",
    "\n",
    "bins = OrderedDict({\n",
    "    (key / n_bins, (key + 1) / n_bins): [0, 0] for key in range(n_bins)\n",
    "})\n",
    "scores = data[\"experiment_5_score_rank\"].to_list()\n",
    "\n",
    "for idx, (score, f_score) in enumerate(zip(scores, ra_faithfulness_scores)):\n",
    "    if len(data.iloc[idx][\"fi_faithfulness_wr_dict\"]) == 0:\n",
    "        continue\n",
    "    for _bin in bins:\n",
    "        if _bin[0] <= score <= _bin[1] and not np.isnan(f_score):\n",
    "            bins[_bin][0] += f_score\n",
    "            bins[_bin][1] += 1\n",
    "            \n",
    "\n",
    "ax[0][0].bar([(_bin[0] + _bin[1])/2 for _bin in bins.keys()], [_bin[0]/(_bin[1] + 1) for _bin in bins.values()], width=0.1)\n",
    "ax[0][0].set_xlabel(\"Probing (Paraphrase) Certainty / Consistency\")\n",
    "ax[0][0].set_ylabel(\"Faithfulness\")\n",
    "ax[0][0].set_title(\"Feature Importance Explanations (Rank Agreement)\")\n",
    "\n",
    "\n",
    "bins = OrderedDict({\n",
    "    (key / n_bins, (key + 1) / n_bins): [0, 0] for key in range(n_bins)\n",
    "})\n",
    "\n",
    "scores = data[\"experiment_5_score_overall\"].to_list()\n",
    "\n",
    "for idx, (score, f_score) in enumerate(zip(scores, fa_faithfulness_scores)):\n",
    "    if len(data.iloc[idx][\"fi_faithfulness_wr_dict\"]) == 0:\n",
    "        continue\n",
    "    for _bin in bins:\n",
    "        if _bin[0] <= score <= _bin[1] and not np.isnan(f_score):\n",
    "            bins[_bin][0] += f_score\n",
    "            bins[_bin][1] += 1\n",
    "\n",
    "ax[0][1].bar([(_bin[0] + _bin[1])/2 for _bin in bins.keys()], [_bin[0]/(_bin[1] + 1) for _bin in bins.values()], width=0.1)\n",
    "ax[0][1].set_xlabel(\"Probing (Paraphrase) Certainty / Consistency\")\n",
    "ax[0][1].set_ylabel(\"Faithfulness\")\n",
    "ax[0][1].set_title(\"Feature Importance Explanations (Feature Agreement)\")\n",
    "\n",
    "bins = OrderedDict({\n",
    "    (key / n_bins, (key + 1) / n_bins): [0, 0] for key in range(n_bins)\n",
    "})\n",
    "scores = data[\"experiment_9_score_rank\"].to_list()\n",
    "\n",
    "for idx, (score, f_score) in enumerate(zip(scores, ra_faithfulness_scores)):\n",
    "    if len(data.iloc[idx][\"fi_faithfulness_wr_dict\"]) == 0:\n",
    "        continue\n",
    "    for _bin in bins:\n",
    "        if _bin[0] <= score <= _bin[1] and not np.isnan(f_score):\n",
    "            bins[_bin][0] += f_score\n",
    "            bins[_bin][1] += 1\n",
    "            \n",
    "\n",
    "ax[1][0].bar([(_bin[0] + _bin[1])/2 for _bin in bins.keys()], [_bin[0]/(_bin[1] + 1) for _bin in bins.values()], width=0.1)\n",
    "ax[1][0].set_xlabel(\"Probing (Temperature) Certainty / Consistency\")\n",
    "ax[1][0].set_ylabel(\"Faithfulness\")\n",
    "ax[1][0].set_title(\"Feature Importance Explanations (Rank Agreement)\")\n",
    "\n",
    "\n",
    "bins = OrderedDict({\n",
    "    (key / n_bins, (key + 1) / n_bins): [0, 0] for key in range(n_bins)\n",
    "})\n",
    "\n",
    "scores = data[\"experiment_9_score_overall\"].to_list()\n",
    "\n",
    "for idx, (score, f_score) in enumerate(zip(scores, fa_faithfulness_scores)):\n",
    "    if len(data.iloc[idx][\"fi_faithfulness_wr_dict\"]) == 0:\n",
    "        continue\n",
    "    for _bin in bins:\n",
    "        if _bin[0] <= score <= _bin[1] and not np.isnan(f_score):\n",
    "            bins[_bin][0] += f_score\n",
    "            bins[_bin][1] += 1\n",
    "\n",
    "ax[1][1].bar([(_bin[0] + _bin[1])/2 for _bin in bins.keys()], [_bin[0]/(_bin[1] + 1) for _bin in bins.values()], width=0.1)\n",
    "ax[1][1].set_xlabel(\"Probing (Temperature) Certainty / Consistency\")\n",
    "ax[1][1].set_ylabel(\"Faithfulness\")\n",
    "ax[1][1].set_title(\"Feature Importance Explanations (Feature Agreement)\")\n",
    "\n",
    "image_save_path = file_path.replace(\".parquet\", \".png\").replace(\"scores-\", \"plot-fi-faithfulness-\")\n",
    "assert image_save_path != file_path\n",
    "fig.savefig(image_save_path)\n"
   ]
  },
  {
   "cell_type": "markdown",
   "id": "40e7c282-f8c8-451e-be01-62f459c26d72",
   "metadata": {},
   "source": [
    "## Save scores file"
   ]
  },
  {
   "cell_type": "code",
   "execution_count": 47,
   "id": "1d01fc53-c0a5-4705-b22e-48e10f7c37c2",
   "metadata": {},
   "outputs": [],
   "source": [
    "save_path = file_path.replace(\"scores-\", \"faithfulness-scores-\")\n",
    "assert save_path != file_path\n",
    "data.to_parquet(save_path)"
   ]
  },
  {
   "cell_type": "code",
   "execution_count": null,
   "id": "55853cb5-e9f3-476f-a9f1-dde099d360be",
   "metadata": {},
   "outputs": [],
   "source": []
  }
 ],
 "metadata": {
  "kernelspec": {
   "display_name": "Python 3",
   "language": "python",
   "name": "python3"
  },
  "language_info": {
   "codemirror_mode": {
    "name": "ipython",
    "version": 3
   },
   "file_extension": ".py",
   "mimetype": "text/x-python",
   "name": "python",
   "nbconvert_exporter": "python",
   "pygments_lexer": "ipython3",
   "version": "3.8.8"
  }
 },
 "nbformat": 4,
 "nbformat_minor": 5
}
