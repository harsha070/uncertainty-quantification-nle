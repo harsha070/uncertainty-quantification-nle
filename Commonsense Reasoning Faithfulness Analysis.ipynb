{
 "cells": [
  {
   "cell_type": "markdown",
   "id": "ecebc33e-1dcd-4f12-b1df-9ba335301e3d",
   "metadata": {},
   "source": [
    "# Faithfulness of Natural Language Explanations of StrategyQA, Sports Understanding datasets"
   ]
  },
  {
   "cell_type": "markdown",
   "id": "4e6d63f4-d84b-4b5c-b00c-91f5ff7ec141",
   "metadata": {},
   "source": [
    "## Load data from uncertainty analysis output file i.e; the output after running 'Commonsense Reasoning Analysis.ipynb' notebook"
   ]
  },
  {
   "cell_type": "code",
   "execution_count": 1,
   "id": "0c957595-8d68-4058-ba3d-8dcf0f90d98f",
   "metadata": {},
   "outputs": [],
   "source": [
    "import pandas as pd"
   ]
  },
  {
   "cell_type": "code",
   "execution_count": 2,
   "id": "8d64d207-a2af-4190-9a7f-edb1ee906c2b",
   "metadata": {},
   "outputs": [
    {
     "data": {
      "text/html": [
       "<div>\n",
       "<style scoped>\n",
       "    .dataframe tbody tr th:only-of-type {\n",
       "        vertical-align: middle;\n",
       "    }\n",
       "\n",
       "    .dataframe tbody tr th {\n",
       "        vertical-align: top;\n",
       "    }\n",
       "\n",
       "    .dataframe thead th {\n",
       "        text-align: right;\n",
       "    }\n",
       "</style>\n",
       "<table border=\"1\" class=\"dataframe\">\n",
       "  <thead>\n",
       "    <tr style=\"text-align: right;\">\n",
       "      <th></th>\n",
       "      <th>inputs</th>\n",
       "      <th>targets</th>\n",
       "      <th>multiple_choice_targets</th>\n",
       "      <th>multiple_choice_scores</th>\n",
       "      <th>idx</th>\n",
       "      <th>paraphrased_questions</th>\n",
       "      <th>experiment_1_question</th>\n",
       "      <th>experiment_2_question</th>\n",
       "      <th>experiment_3_question</th>\n",
       "      <th>experiment_4_question</th>\n",
       "      <th>...</th>\n",
       "      <th>experiment_1_score</th>\n",
       "      <th>experiment_2_score</th>\n",
       "      <th>experiment_3_score</th>\n",
       "      <th>correct</th>\n",
       "      <th>experiment_4_score</th>\n",
       "      <th>experiment_5_score_rank</th>\n",
       "      <th>experiment_5_score_overall</th>\n",
       "      <th>experiment_8_score</th>\n",
       "      <th>experiment_9_score_rank</th>\n",
       "      <th>experiment_9_score_overall</th>\n",
       "    </tr>\n",
       "  </thead>\n",
       "  <tbody>\n",
       "    <tr>\n",
       "      <th>140</th>\n",
       "      <td>Determine whether the following statement or s...</td>\n",
       "      <td>[plausible]</td>\n",
       "      <td>[plausible, implausible]</td>\n",
       "      <td>[1, 0]</td>\n",
       "      <td>140</td>\n",
       "      <td>[Did Toni Kroos get called for offsides?, Was ...</td>\n",
       "      <td>\\nRead the question, give your answer by analy...</td>\n",
       "      <td>Read the question, and output the words import...</td>\n",
       "      <td>\\nRead the question, and assign each word an i...</td>\n",
       "      <td>[\\nRead the question, give your answer by anal...</td>\n",
       "      <td>...</td>\n",
       "      <td>0.90</td>\n",
       "      <td>[toni kroos, caught, offsides]</td>\n",
       "      <td>100</td>\n",
       "      <td>False</td>\n",
       "      <td>0.276219</td>\n",
       "      <td>0.333333</td>\n",
       "      <td>0.527778</td>\n",
       "      <td>0.442222</td>\n",
       "      <td>0.500000</td>\n",
       "      <td>0.666667</td>\n",
       "    </tr>\n",
       "    <tr>\n",
       "      <th>113</th>\n",
       "      <td>Determine whether the following statement or s...</td>\n",
       "      <td>[plausible]</td>\n",
       "      <td>[plausible, implausible]</td>\n",
       "      <td>[1, 0]</td>\n",
       "      <td>113</td>\n",
       "      <td>[Cale Makar was sent to the penalty box, Cale ...</td>\n",
       "      <td>\\nRead the question, give your answer by analy...</td>\n",
       "      <td>Read the question, and output the words import...</td>\n",
       "      <td>\\nRead the question, and assign each word an i...</td>\n",
       "      <td>[\\nRead the question, give your answer by anal...</td>\n",
       "      <td>...</td>\n",
       "      <td>0.90</td>\n",
       "      <td>[cale makar, earned, trip, penalty box]</td>\n",
       "      <td>100</td>\n",
       "      <td>True</td>\n",
       "      <td>0.519958</td>\n",
       "      <td>0.454545</td>\n",
       "      <td>0.305556</td>\n",
       "      <td>0.442727</td>\n",
       "      <td>0.800000</td>\n",
       "      <td>0.866667</td>\n",
       "    </tr>\n",
       "    <tr>\n",
       "      <th>16</th>\n",
       "      <td>Determine whether the following statement or s...</td>\n",
       "      <td>[plausible]</td>\n",
       "      <td>[plausible, implausible]</td>\n",
       "      <td>[1, 0]</td>\n",
       "      <td>16</td>\n",
       "      <td>[-yard bo, , Wayne Rooney took a shot from out...</td>\n",
       "      <td>\\nRead the question, give your answer by analy...</td>\n",
       "      <td>Read the question, and output the words import...</td>\n",
       "      <td>\\nRead the question, and assign each word an i...</td>\n",
       "      <td>[\\nRead the question, give your answer by anal...</td>\n",
       "      <td>...</td>\n",
       "      <td>1.00</td>\n",
       "      <td>[wayne rooney, shot, outside, eighteen]</td>\n",
       "      <td>100</td>\n",
       "      <td>True</td>\n",
       "      <td>0.621830</td>\n",
       "      <td>0.600000</td>\n",
       "      <td>0.527778</td>\n",
       "      <td>0.440714</td>\n",
       "      <td>0.333333</td>\n",
       "      <td>0.666667</td>\n",
       "    </tr>\n",
       "    <tr>\n",
       "      <th>75</th>\n",
       "      <td>Determine whether the following statement or s...</td>\n",
       "      <td>[implausible]</td>\n",
       "      <td>[plausible, implausible]</td>\n",
       "      <td>[0, 1]</td>\n",
       "      <td>75</td>\n",
       "      <td>[Did Anders Lee go in studs up in the Champion...</td>\n",
       "      <td>\\nRead the question, give your answer by analy...</td>\n",
       "      <td>Read the question, and output the words import...</td>\n",
       "      <td>\\nRead the question, and assign each word an i...</td>\n",
       "      <td>[\\nRead the question, give your answer by anal...</td>\n",
       "      <td>...</td>\n",
       "      <td>0.80</td>\n",
       "      <td>[anders, lee, studs up]</td>\n",
       "      <td>100</td>\n",
       "      <td>True</td>\n",
       "      <td>0.866667</td>\n",
       "      <td>0.000000</td>\n",
       "      <td>0.291667</td>\n",
       "      <td>0.683207</td>\n",
       "      <td>0.222222</td>\n",
       "      <td>0.266667</td>\n",
       "    </tr>\n",
       "    <tr>\n",
       "      <th>155</th>\n",
       "      <td>Determine whether the following statement or s...</td>\n",
       "      <td>[implausible]</td>\n",
       "      <td>[plausible, implausible]</td>\n",
       "      <td>[0, 1]</td>\n",
       "      <td>155</td>\n",
       "      <td>[goa, , Did Rhys Hoskins score a bicycle kick ...</td>\n",
       "      <td>\\nRead the question, give your answer by analy...</td>\n",
       "      <td>Read the question, and output the words import...</td>\n",
       "      <td>\\nRead the question, and assign each word an i...</td>\n",
       "      <td>[\\nRead the question, give your answer by anal...</td>\n",
       "      <td>...</td>\n",
       "      <td>1.00</td>\n",
       "      <td>[]</td>\n",
       "      <td>100</td>\n",
       "      <td>True</td>\n",
       "      <td>0.262500</td>\n",
       "      <td>NaN</td>\n",
       "      <td>0.000000</td>\n",
       "      <td>0.366667</td>\n",
       "      <td>NaN</td>\n",
       "      <td>0.000000</td>\n",
       "    </tr>\n",
       "    <tr>\n",
       "      <th>...</th>\n",
       "      <td>...</td>\n",
       "      <td>...</td>\n",
       "      <td>...</td>\n",
       "      <td>...</td>\n",
       "      <td>...</td>\n",
       "      <td>...</td>\n",
       "      <td>...</td>\n",
       "      <td>...</td>\n",
       "      <td>...</td>\n",
       "      <td>...</td>\n",
       "      <td>...</td>\n",
       "      <td>...</td>\n",
       "      <td>...</td>\n",
       "      <td>...</td>\n",
       "      <td>...</td>\n",
       "      <td>...</td>\n",
       "      <td>...</td>\n",
       "      <td>...</td>\n",
       "      <td>...</td>\n",
       "      <td>...</td>\n",
       "      <td>...</td>\n",
       "    </tr>\n",
       "    <tr>\n",
       "      <th>10</th>\n",
       "      <td>Determine whether the following statement or s...</td>\n",
       "      <td>[implausible]</td>\n",
       "      <td>[plausible, implausible]</td>\n",
       "      <td>[0, 1]</td>\n",
       "      <td>10</td>\n",
       "      <td>[Did Igor Shesterkin throw a hail mary?, Has I...</td>\n",
       "      <td>\\nRead the question, give your answer by analy...</td>\n",
       "      <td>Read the question, and output the words import...</td>\n",
       "      <td>\\nRead the question, and assign each word an i...</td>\n",
       "      <td>[\\nRead the question, give your answer by anal...</td>\n",
       "      <td>...</td>\n",
       "      <td>0.50</td>\n",
       "      <td>[igor shesterkin, launched, hail mary]</td>\n",
       "      <td>100</td>\n",
       "      <td>False</td>\n",
       "      <td>0.339542</td>\n",
       "      <td>0.683333</td>\n",
       "      <td>0.700000</td>\n",
       "      <td>0.490000</td>\n",
       "      <td>0.666667</td>\n",
       "      <td>0.466667</td>\n",
       "    </tr>\n",
       "    <tr>\n",
       "      <th>62</th>\n",
       "      <td>Determine whether the following statement or s...</td>\n",
       "      <td>[implausible]</td>\n",
       "      <td>[plausible, implausible]</td>\n",
       "      <td>[0, 1]</td>\n",
       "      <td>62</td>\n",
       "      <td>[with Patrick Kan, , Did Alex DeBrincat do a g...</td>\n",
       "      <td>\\nRead the question, give your answer by analy...</td>\n",
       "      <td>Read the question, and output the words import...</td>\n",
       "      <td>\\nRead the question, and assign each word an i...</td>\n",
       "      <td>[\\nRead the question, give your answer by anal...</td>\n",
       "      <td>...</td>\n",
       "      <td>0.63</td>\n",
       "      <td>[alex debrincat, performed, give and go]</td>\n",
       "      <td>90</td>\n",
       "      <td>False</td>\n",
       "      <td>0.142468</td>\n",
       "      <td>0.393939</td>\n",
       "      <td>0.487179</td>\n",
       "      <td>0.268571</td>\n",
       "      <td>0.733333</td>\n",
       "      <td>0.733333</td>\n",
       "    </tr>\n",
       "    <tr>\n",
       "      <th>100</th>\n",
       "      <td>Determine whether the following statement or s...</td>\n",
       "      <td>[plausible]</td>\n",
       "      <td>[plausible, implausible]</td>\n",
       "      <td>[1, 0]</td>\n",
       "      <td>100</td>\n",
       "      <td>[Did Bryce Harper hit a double in the American...</td>\n",
       "      <td>\\nRead the question, give your answer by analy...</td>\n",
       "      <td>Read the question, and output the words import...</td>\n",
       "      <td>\\nRead the question, and assign each word an i...</td>\n",
       "      <td>[\\nRead the question, give your answer by anal...</td>\n",
       "      <td>...</td>\n",
       "      <td>1.00</td>\n",
       "      <td>[important words: bryce harper, double, americ...</td>\n",
       "      <td>100</td>\n",
       "      <td>False</td>\n",
       "      <td>0.044289</td>\n",
       "      <td>0.000000</td>\n",
       "      <td>0.166667</td>\n",
       "      <td>0.062500</td>\n",
       "      <td>0.266667</td>\n",
       "      <td>0.533333</td>\n",
       "    </tr>\n",
       "    <tr>\n",
       "      <th>143</th>\n",
       "      <td>Determine whether the following statement or s...</td>\n",
       "      <td>[plausible]</td>\n",
       "      <td>[plausible, implausible]</td>\n",
       "      <td>[1, 0]</td>\n",
       "      <td>143</td>\n",
       "      <td>[Did Jaren Jackson Jr. eurostep to the basket ...</td>\n",
       "      <td>\\nRead the question, give your answer by analy...</td>\n",
       "      <td>Read the question, and output the words import...</td>\n",
       "      <td>\\nRead the question, and assign each word an i...</td>\n",
       "      <td>[\\nRead the question, give your answer by anal...</td>\n",
       "      <td>...</td>\n",
       "      <td>1.00</td>\n",
       "      <td>[jaren jackson jr., eurostepped, basket, nba c...</td>\n",
       "      <td>100</td>\n",
       "      <td>False</td>\n",
       "      <td>0.000000</td>\n",
       "      <td>0.606061</td>\n",
       "      <td>0.555556</td>\n",
       "      <td>0.100000</td>\n",
       "      <td>0.666667</td>\n",
       "      <td>0.800000</td>\n",
       "    </tr>\n",
       "    <tr>\n",
       "      <th>0</th>\n",
       "      <td>Determine whether the following statement or s...</td>\n",
       "      <td>[implausible]</td>\n",
       "      <td>[plausible, implausible]</td>\n",
       "      <td>[0, 1]</td>\n",
       "      <td>0</td>\n",
       "      <td>[Did Joao Moutinho take the screen pass in the...</td>\n",
       "      <td>\\nRead the question, give your answer by analy...</td>\n",
       "      <td>Read the question, and output the words import...</td>\n",
       "      <td>\\nRead the question, and assign each word an i...</td>\n",
       "      <td>[\\nRead the question, give your answer by anal...</td>\n",
       "      <td>...</td>\n",
       "      <td>0.36</td>\n",
       "      <td>[joao moutinho, caught, screen pass, nfc champ...</td>\n",
       "      <td>100</td>\n",
       "      <td>True</td>\n",
       "      <td>0.618113</td>\n",
       "      <td>0.545455</td>\n",
       "      <td>0.611111</td>\n",
       "      <td>0.549264</td>\n",
       "      <td>0.866667</td>\n",
       "      <td>0.933333</td>\n",
       "    </tr>\n",
       "  </tbody>\n",
       "</table>\n",
       "<p>99 rows × 30 columns</p>\n",
       "</div>"
      ],
      "text/plain": [
       "                                                inputs        targets  \\\n",
       "140  Determine whether the following statement or s...    [plausible]   \n",
       "113  Determine whether the following statement or s...    [plausible]   \n",
       "16   Determine whether the following statement or s...    [plausible]   \n",
       "75   Determine whether the following statement or s...  [implausible]   \n",
       "155  Determine whether the following statement or s...  [implausible]   \n",
       "..                                                 ...            ...   \n",
       "10   Determine whether the following statement or s...  [implausible]   \n",
       "62   Determine whether the following statement or s...  [implausible]   \n",
       "100  Determine whether the following statement or s...    [plausible]   \n",
       "143  Determine whether the following statement or s...    [plausible]   \n",
       "0    Determine whether the following statement or s...  [implausible]   \n",
       "\n",
       "      multiple_choice_targets multiple_choice_scores  idx  \\\n",
       "140  [plausible, implausible]                 [1, 0]  140   \n",
       "113  [plausible, implausible]                 [1, 0]  113   \n",
       "16   [plausible, implausible]                 [1, 0]   16   \n",
       "75   [plausible, implausible]                 [0, 1]   75   \n",
       "155  [plausible, implausible]                 [0, 1]  155   \n",
       "..                        ...                    ...  ...   \n",
       "10   [plausible, implausible]                 [0, 1]   10   \n",
       "62   [plausible, implausible]                 [0, 1]   62   \n",
       "100  [plausible, implausible]                 [1, 0]  100   \n",
       "143  [plausible, implausible]                 [1, 0]  143   \n",
       "0    [plausible, implausible]                 [0, 1]    0   \n",
       "\n",
       "                                 paraphrased_questions  \\\n",
       "140  [Did Toni Kroos get called for offsides?, Was ...   \n",
       "113  [Cale Makar was sent to the penalty box, Cale ...   \n",
       "16   [-yard bo, , Wayne Rooney took a shot from out...   \n",
       "75   [Did Anders Lee go in studs up in the Champion...   \n",
       "155  [goa, , Did Rhys Hoskins score a bicycle kick ...   \n",
       "..                                                 ...   \n",
       "10   [Did Igor Shesterkin throw a hail mary?, Has I...   \n",
       "62   [with Patrick Kan, , Did Alex DeBrincat do a g...   \n",
       "100  [Did Bryce Harper hit a double in the American...   \n",
       "143  [Did Jaren Jackson Jr. eurostep to the basket ...   \n",
       "0    [Did Joao Moutinho take the screen pass in the...   \n",
       "\n",
       "                                 experiment_1_question  \\\n",
       "140  \\nRead the question, give your answer by analy...   \n",
       "113  \\nRead the question, give your answer by analy...   \n",
       "16   \\nRead the question, give your answer by analy...   \n",
       "75   \\nRead the question, give your answer by analy...   \n",
       "155  \\nRead the question, give your answer by analy...   \n",
       "..                                                 ...   \n",
       "10   \\nRead the question, give your answer by analy...   \n",
       "62   \\nRead the question, give your answer by analy...   \n",
       "100  \\nRead the question, give your answer by analy...   \n",
       "143  \\nRead the question, give your answer by analy...   \n",
       "0    \\nRead the question, give your answer by analy...   \n",
       "\n",
       "                                 experiment_2_question  \\\n",
       "140  Read the question, and output the words import...   \n",
       "113  Read the question, and output the words import...   \n",
       "16   Read the question, and output the words import...   \n",
       "75   Read the question, and output the words import...   \n",
       "155  Read the question, and output the words import...   \n",
       "..                                                 ...   \n",
       "10   Read the question, and output the words import...   \n",
       "62   Read the question, and output the words import...   \n",
       "100  Read the question, and output the words import...   \n",
       "143  Read the question, and output the words import...   \n",
       "0    Read the question, and output the words import...   \n",
       "\n",
       "                                 experiment_3_question  \\\n",
       "140  \\nRead the question, and assign each word an i...   \n",
       "113  \\nRead the question, and assign each word an i...   \n",
       "16   \\nRead the question, and assign each word an i...   \n",
       "75   \\nRead the question, and assign each word an i...   \n",
       "155  \\nRead the question, and assign each word an i...   \n",
       "..                                                 ...   \n",
       "10   \\nRead the question, and assign each word an i...   \n",
       "62   \\nRead the question, and assign each word an i...   \n",
       "100  \\nRead the question, and assign each word an i...   \n",
       "143  \\nRead the question, and assign each word an i...   \n",
       "0    \\nRead the question, and assign each word an i...   \n",
       "\n",
       "                                 experiment_4_question  ...  \\\n",
       "140  [\\nRead the question, give your answer by anal...  ...   \n",
       "113  [\\nRead the question, give your answer by anal...  ...   \n",
       "16   [\\nRead the question, give your answer by anal...  ...   \n",
       "75   [\\nRead the question, give your answer by anal...  ...   \n",
       "155  [\\nRead the question, give your answer by anal...  ...   \n",
       "..                                                 ...  ...   \n",
       "10   [\\nRead the question, give your answer by anal...  ...   \n",
       "62   [\\nRead the question, give your answer by anal...  ...   \n",
       "100  [\\nRead the question, give your answer by anal...  ...   \n",
       "143  [\\nRead the question, give your answer by anal...  ...   \n",
       "0    [\\nRead the question, give your answer by anal...  ...   \n",
       "\n",
       "    experiment_1_score                                 experiment_2_score  \\\n",
       "140               0.90                     [toni kroos, caught, offsides]   \n",
       "113               0.90            [cale makar, earned, trip, penalty box]   \n",
       "16                1.00            [wayne rooney, shot, outside, eighteen]   \n",
       "75                0.80                            [anders, lee, studs up]   \n",
       "155               1.00                                                 []   \n",
       "..                 ...                                                ...   \n",
       "10                0.50             [igor shesterkin, launched, hail mary]   \n",
       "62                0.63           [alex debrincat, performed, give and go]   \n",
       "100               1.00  [important words: bryce harper, double, americ...   \n",
       "143               1.00  [jaren jackson jr., eurostepped, basket, nba c...   \n",
       "0                 0.36  [joao moutinho, caught, screen pass, nfc champ...   \n",
       "\n",
       "    experiment_3_score correct experiment_4_score experiment_5_score_rank  \\\n",
       "140                100   False           0.276219                0.333333   \n",
       "113                100    True           0.519958                0.454545   \n",
       "16                 100    True           0.621830                0.600000   \n",
       "75                 100    True           0.866667                0.000000   \n",
       "155                100    True           0.262500                     NaN   \n",
       "..                 ...     ...                ...                     ...   \n",
       "10                 100   False           0.339542                0.683333   \n",
       "62                  90   False           0.142468                0.393939   \n",
       "100                100   False           0.044289                0.000000   \n",
       "143                100   False           0.000000                0.606061   \n",
       "0                  100    True           0.618113                0.545455   \n",
       "\n",
       "    experiment_5_score_overall experiment_8_score experiment_9_score_rank  \\\n",
       "140                   0.527778           0.442222                0.500000   \n",
       "113                   0.305556           0.442727                0.800000   \n",
       "16                    0.527778           0.440714                0.333333   \n",
       "75                    0.291667           0.683207                0.222222   \n",
       "155                   0.000000           0.366667                     NaN   \n",
       "..                         ...                ...                     ...   \n",
       "10                    0.700000           0.490000                0.666667   \n",
       "62                    0.487179           0.268571                0.733333   \n",
       "100                   0.166667           0.062500                0.266667   \n",
       "143                   0.555556           0.100000                0.666667   \n",
       "0                     0.611111           0.549264                0.866667   \n",
       "\n",
       "    experiment_9_score_overall  \n",
       "140                   0.666667  \n",
       "113                   0.866667  \n",
       "16                    0.666667  \n",
       "75                    0.266667  \n",
       "155                   0.000000  \n",
       "..                         ...  \n",
       "10                    0.466667  \n",
       "62                    0.733333  \n",
       "100                   0.533333  \n",
       "143                   0.800000  \n",
       "0                     0.933333  \n",
       "\n",
       "[99 rows x 30 columns]"
      ]
     },
     "execution_count": 2,
     "metadata": {},
     "output_type": "execute_result"
    }
   ],
   "source": [
    "# file_path should be set to the output file path after running 'Math Word Problems Analysis.ipynb' notebook\n",
    "# file_path = \"data/strategyqa_100/scores-text-davinci-003.parquet\"\n",
    "# file_path = \"data/strategyqa_100/scores-gpt-3.5-turbo.parquet\"\n",
    "file_path = \"data/sportsunderstanding_100/scores-gpt-3.5-turbo.parquet\"\n",
    "# file_path = \"data/sportsunderstanding_100/scores-text-davinci-003.parquet\"\n",
    "\n",
    "# MODEL_NAME should be set to the open ai api model name used for predictions and explanations\n",
    "MODEL_NAME = \"gpt-3.5-turbo\"\n",
    "# MODEL_NAME = \"text-davinci-003\"\n",
    "data = pd.read_parquet(file_path)\n",
    "data"
   ]
  },
  {
   "cell_type": "markdown",
   "id": "669730d5-a305-48dc-bcea-cf8fb05303c4",
   "metadata": {},
   "source": [
    "## Setup OpenAI API inference code"
   ]
  },
  {
   "cell_type": "code",
   "execution_count": 3,
   "id": "d90c09b2-c741-4c72-95b2-736c487000df",
   "metadata": {},
   "outputs": [],
   "source": [
    "import re\n",
    "from concurrent.futures import ThreadPoolExecutor, as_completed\n",
    "\n",
    "def parse_verbalized_cot_explanation(answer):\n",
    "    \"\"\"\n",
    "    Parse CoT explanation to steps and corresponding confidence scores.\n",
    "    \"\"\"\n",
    "    for pattern in [\"Confidence: Low\", \"Confidence: Medium\", \"Confidence: High\"]:\n",
    "        if pattern in answer:\n",
    "            answer = answer.replace(pattern, \"Confidence: 100%\")\n",
    "    answer = answer[:answer.find(\"Final Answer and Overall Confidence\")].strip()\n",
    "    cot_steps = []\n",
    "    for sentence in re.split(\"Step \\d:\", answer):\n",
    "        steps = re.split(r',|\\n|\\.', sentence)\n",
    "        step = \". \".join(list(filter(lambda step: \"confidence\" not in step.lower(), steps)))\n",
    "        confidence = None\n",
    "        pattern = r'(\\d{1,3})%'\n",
    "        match = re.search(pattern, sentence)\n",
    "        if match:\n",
    "            # Extract and print the percentage value\n",
    "            confidence = match.group(1)\n",
    "        if len(sentence.strip()) > 0 and confidence is not None:\n",
    "            cot_steps.append({\n",
    "                'step': step,\n",
    "                'confidence': int(confidence) / 100.0,\n",
    "            })\n",
    "    return cot_steps\n",
    "\n",
    "import os\n",
    "os.environ['OPENAI_API_KEY'] = 'use-your-api-token-here'\n",
    "import openai\n",
    "\n",
    "CHAT_COMPLETION_API_MODEL_NAMES = [\"gpt-4\", \"gpt-4-0613\", \"gpt-4-32k\", \"gpt-4-32k-0613\", \"gpt-3.5-turbo\", \"gpt-3.5-turbo-0613\", \"gpt-3.5-turbo-16k\", \"gpt-3.5-turbo-16k-0613\",]\n",
    "CHAT_API_MODEL_NAMES = [\"davinci-002\", \"babbage-002\", \"text-davinci-003\", \"text-davinci-002\", \"text-davinci-001\", \"text-curie-001\", \"text-babbage-001\", \"text-ada-001\", \"davinci\", \"curie\", \"babbage\", \"ada\"]\n",
    "\n",
    "\n",
    "def get_openai_response(task, question):\n",
    "    \"\"\"\n",
    "    task is a string prepended to a question to get natural language explanation.\n",
    "    \"\"\"\n",
    "    if MODEL_NAME in CHAT_COMPLETION_API_MODEL_NAMES:\n",
    "        # Call the OpenAI API to generate a response\n",
    "        response = openai.ChatCompletion.create(\n",
    "            model=MODEL_NAME,\n",
    "            messages=[\n",
    "                {\n",
    "                    'role': 'user', \n",
    "                    'content': (task + '\\n' + question).strip(),\n",
    "                }\n",
    "            ],\n",
    "            max_tokens=512,\n",
    "            n=1,\n",
    "            temperature=0.0,\n",
    "        )\n",
    "        # Get the response text from the API response\n",
    "        response_text = response['choices'][0]['message']['content']\n",
    "        return response_text\n",
    "    elif MODEL_NAME in CHAT_API_MODEL_NAMES:\n",
    "        response = openai.Completion.create(\n",
    "            model=MODEL_NAME,\n",
    "            prompt=(task + '\\n' + question).strip(),\n",
    "            temperature=0,\n",
    "            max_tokens=512,\n",
    "        )\n",
    "        return response.choices[0].text\n",
    "    else:\n",
    "        raise Exception\n",
    "\n",
    "def get_openai_response_wrapper(args):\n",
    "    \"\"\"\n",
    "    wrapper around `get_openai_response` function for multithreading api calls\n",
    "    \"\"\"\n",
    "    task, question = args\n",
    "    try:\n",
    "        return get_openai_response(task, question)\n",
    "    except:\n",
    "        print(\"Call failure once! Retrying\")\n",
    "        try:\n",
    "            return get_openai_response(task, question)\n",
    "        except:\n",
    "            print(\"Call failure twice! Retrying\")\n",
    "            return get_openai_response(task, question)\n",
    "\n",
    "\n",
    "def get_openai_response_batch(task, questions):\n",
    "    \"\"\"\n",
    "    Make concurrent calls to open ai api's for faster processing\n",
    "    \"\"\"\n",
    "    explanations = []\n",
    "    with ThreadPoolExecutor(max_workers=1) as executor:\n",
    "        args_list = [(task, question) for question in questions]\n",
    "        for result in tqdm(executor.map(get_openai_response_wrapper, args_list), total=len(questions)):\n",
    "            explanations.append(result)\n",
    "    return explanations"
   ]
  },
  {
   "cell_type": "markdown",
   "id": "367eb58a-67b5-488e-998c-c4c1a900d5f1",
   "metadata": {},
   "source": [
    "# Faithfulness of Chain Of Thought Explanations"
   ]
  },
  {
   "cell_type": "markdown",
   "id": "fc5a71ce-36c6-4a82-9daf-b1edcd598fde",
   "metadata": {},
   "source": [
    "## Define utility functions"
   ]
  },
  {
   "cell_type": "code",
   "execution_count": 4,
   "id": "4d1e1302-0866-4866-8cf5-354d04dfa6d2",
   "metadata": {},
   "outputs": [],
   "source": [
    "# Use this parser for StrategyQA dataset\n",
    "def get_cot_answer(answer):\n",
    "    \"\"\"\n",
    "    Parse answer from GPT models response\n",
    "    \"\"\"\n",
    "    if len(re.findall(r'\\bYes\\b', answer, re.IGNORECASE)) > 0:\n",
    "        return \"Yes\"\n",
    "    if len(re.findall(r'\\bNo\\b', answer, re.IGNORECASE)) > 0:\n",
    "        return \"No\"\n",
    "    if len(re.findall(r'\\bNot\\b', answer, re.IGNORECASE)) > 0:\n",
    "        return \"No\"\n",
    "    print(answer)\n",
    "    raise Exception\n",
    "    \n",
    "# Use this parser for Sports Understanding dataset\n",
    "def get_cot_answer(answer):\n",
    "    \"\"\"\n",
    "    Parse answer from GPT models response\n",
    "    \"\"\"\n",
    "    if len(re.findall(r'\\bPlausible\\b', answer, re.IGNORECASE)) > 0:\n",
    "        return \"Plausible\"\n",
    "    if len(re.findall(r'\\bImplausible\\b', answer, re.IGNORECASE)) > 0:\n",
    "        return \"Implausible\"\n",
    "    if len(re.findall(r'\\bbImplausible\\b', answer, re.IGNORECASE)) > 0:\n",
    "        return \"Implausible\"\n",
    "    print(answer)\n",
    "    return None"
   ]
  },
  {
   "cell_type": "markdown",
   "id": "a88e22e1-2997-4eb1-a387-69ea66085ade",
   "metadata": {},
   "source": [
    "## Get CoT steps and answer for the original question"
   ]
  },
  {
   "cell_type": "code",
   "execution_count": 5,
   "id": "ab1a63ee-f896-46ad-be81-918a5ee4128e",
   "metadata": {},
   "outputs": [
    {
     "name": "stdout",
     "output_type": "stream",
     "text": [
      "Step 1: Determine who Arjen Robben is and what sport he plays.\n",
      "Confidence: 100%\n",
      "\n",
      "Step 2: Verify if direct kicks are a part of the sport that Arjen Robben plays.\n",
      "Confidence: 100%\n",
      "\n",
      "Step 3: Check if there is any information or evidence available regarding Arjen Robben earning a direct kick.\n",
      "Confidence: Unknown\n",
      "\n",
      "Final Answer and Overall Confidence (0-100): It is unknown whether Arjen Robben earned a direct kick, Confidence: Unknown%\n"
     ]
    }
   ],
   "source": [
    "questions = data[\"inputs\"].to_list()\n",
    "cot_explanations = data[\"experiment_1\"].to_list()\n",
    "cot_steps_list = [parse_verbalized_cot_explanation(cot_explanation) for cot_explanation in cot_explanations]\n",
    "cot_answers = [get_cot_answer(data.iloc[idx][\"experiment_1\"]) for idx in range(len(data))]"
   ]
  },
  {
   "cell_type": "markdown",
   "id": "8c44987f-6398-443b-8355-0a82afd9e337",
   "metadata": {},
   "source": [
    "## Incrementally append each step in the CoT explanation to the question, and get predictions from GPT model for each question"
   ]
  },
  {
   "cell_type": "code",
   "execution_count": 6,
   "id": "51d737e3-812f-4db6-8624-f08573aacfcb",
   "metadata": {},
   "outputs": [],
   "source": [
    "faithfulness_questions_list = []\n",
    "\n",
    "for idx in range(len(questions)):\n",
    "    cot_steps = cot_steps_list[idx]\n",
    "    question = questions[idx]\n",
    "    faithfulness_questions = []\n",
    "    for i in range(len(cot_steps) + 1):\n",
    "        faithfulness_questions.append(\n",
    "            \"\".join([\n",
    "                question.strip(),\n",
    "                \"\\n\",\n",
    "                \"Let's think step by step: \" if i > 0 else \"\",\n",
    "                \". \".join([f\"{cot_step['step'].strip().strip('.')}\" for idx, cot_step in enumerate(cot_steps[:i])]),\n",
    "                \"\\n\\n\",\n",
    "                # \"Give your answer as a Yes/No and nothing else\", # Use this prompt for strategy qa dataset\n",
    "                \"Give your answer as plausible / implausible and nothing else\", # Use this prompt for sports understanding dataset\n",
    "            ])\n",
    "        )\n",
    "    faithfulness_questions_list.append(faithfulness_questions)\n",
    "    "
   ]
  },
  {
   "cell_type": "code",
   "execution_count": 7,
   "id": "5ceafb89-48df-48e2-862e-6d85487bc48a",
   "metadata": {},
   "outputs": [
    {
     "data": {
      "application/vnd.jupyter.widget-view+json": {
       "model_id": "33a933c1efa14fe3ab57eec175223cb9",
       "version_major": 2,
       "version_minor": 0
      },
      "text/plain": [
       "  0%|          | 0/99 [00:00<?, ?it/s]"
      ]
     },
     "metadata": {},
     "output_type": "display_data"
    },
    {
     "data": {
      "application/vnd.jupyter.widget-view+json": {
       "model_id": "a7a707757b984820a1034eca54d2067b",
       "version_major": 2,
       "version_minor": 0
      },
      "text/plain": [
       "  0%|          | 0/4 [00:00<?, ?it/s]"
      ]
     },
     "metadata": {},
     "output_type": "display_data"
    },
    {
     "data": {
      "application/vnd.jupyter.widget-view+json": {
       "model_id": "768b69a7b87e4a149d1c839a82eb0a1c",
       "version_major": 2,
       "version_minor": 0
      },
      "text/plain": [
       "  0%|          | 0/4 [00:00<?, ?it/s]"
      ]
     },
     "metadata": {},
     "output_type": "display_data"
    },
    {
     "data": {
      "application/vnd.jupyter.widget-view+json": {
       "model_id": "14db582edfdd427b9ec5bc040d58fd08",
       "version_major": 2,
       "version_minor": 0
      },
      "text/plain": [
       "  0%|          | 0/4 [00:00<?, ?it/s]"
      ]
     },
     "metadata": {},
     "output_type": "display_data"
    },
    {
     "data": {
      "application/vnd.jupyter.widget-view+json": {
       "model_id": "771498c7a164443688a15ab270642f25",
       "version_major": 2,
       "version_minor": 0
      },
      "text/plain": [
       "  0%|          | 0/6 [00:00<?, ?it/s]"
      ]
     },
     "metadata": {},
     "output_type": "display_data"
    },
    {
     "data": {
      "application/vnd.jupyter.widget-view+json": {
       "model_id": "9a0d9270ce1c459ab58a2b5ae5ac6db6",
       "version_major": 2,
       "version_minor": 0
      },
      "text/plain": [
       "  0%|          | 0/4 [00:00<?, ?it/s]"
      ]
     },
     "metadata": {},
     "output_type": "display_data"
    },
    {
     "data": {
      "application/vnd.jupyter.widget-view+json": {
       "model_id": "abc92e0aff6c4c159dedad257813bc1b",
       "version_major": 2,
       "version_minor": 0
      },
      "text/plain": [
       "  0%|          | 0/3 [00:00<?, ?it/s]"
      ]
     },
     "metadata": {},
     "output_type": "display_data"
    },
    {
     "data": {
      "application/vnd.jupyter.widget-view+json": {
       "model_id": "8cf089fcb5784d81b2dee4db6c4e4870",
       "version_major": 2,
       "version_minor": 0
      },
      "text/plain": [
       "  0%|          | 0/4 [00:00<?, ?it/s]"
      ]
     },
     "metadata": {},
     "output_type": "display_data"
    },
    {
     "data": {
      "application/vnd.jupyter.widget-view+json": {
       "model_id": "26ba72698c814b8a9d10bd144ce65f69",
       "version_major": 2,
       "version_minor": 0
      },
      "text/plain": [
       "  0%|          | 0/4 [00:00<?, ?it/s]"
      ]
     },
     "metadata": {},
     "output_type": "display_data"
    },
    {
     "data": {
      "application/vnd.jupyter.widget-view+json": {
       "model_id": "78fa105f47cc4dfcabc909dd19da4f9b",
       "version_major": 2,
       "version_minor": 0
      },
      "text/plain": [
       "  0%|          | 0/5 [00:00<?, ?it/s]"
      ]
     },
     "metadata": {},
     "output_type": "display_data"
    },
    {
     "data": {
      "application/vnd.jupyter.widget-view+json": {
       "model_id": "31058a53d17a4d9589d338e9531db4d5",
       "version_major": 2,
       "version_minor": 0
      },
      "text/plain": [
       "  0%|          | 0/3 [00:00<?, ?it/s]"
      ]
     },
     "metadata": {},
     "output_type": "display_data"
    },
    {
     "data": {
      "application/vnd.jupyter.widget-view+json": {
       "model_id": "75b3f85d80514f1da49635616f47dd0d",
       "version_major": 2,
       "version_minor": 0
      },
      "text/plain": [
       "  0%|          | 0/4 [00:00<?, ?it/s]"
      ]
     },
     "metadata": {},
     "output_type": "display_data"
    },
    {
     "data": {
      "application/vnd.jupyter.widget-view+json": {
       "model_id": "7797854f15d1450e9207d4c8c9c19770",
       "version_major": 2,
       "version_minor": 0
      },
      "text/plain": [
       "  0%|          | 0/4 [00:00<?, ?it/s]"
      ]
     },
     "metadata": {},
     "output_type": "display_data"
    },
    {
     "data": {
      "application/vnd.jupyter.widget-view+json": {
       "model_id": "5c034c26cb4c4856a0cc378322714a1e",
       "version_major": 2,
       "version_minor": 0
      },
      "text/plain": [
       "  0%|          | 0/4 [00:00<?, ?it/s]"
      ]
     },
     "metadata": {},
     "output_type": "display_data"
    },
    {
     "data": {
      "application/vnd.jupyter.widget-view+json": {
       "model_id": "802a9598fe6b4002afb1753c100fd416",
       "version_major": 2,
       "version_minor": 0
      },
      "text/plain": [
       "  0%|          | 0/5 [00:00<?, ?it/s]"
      ]
     },
     "metadata": {},
     "output_type": "display_data"
    },
    {
     "data": {
      "application/vnd.jupyter.widget-view+json": {
       "model_id": "e95839921bd84e4f8d98606079d68c46",
       "version_major": 2,
       "version_minor": 0
      },
      "text/plain": [
       "  0%|          | 0/4 [00:00<?, ?it/s]"
      ]
     },
     "metadata": {},
     "output_type": "display_data"
    },
    {
     "data": {
      "application/vnd.jupyter.widget-view+json": {
       "model_id": "94c93b5f12404137859d8c7341704a89",
       "version_major": 2,
       "version_minor": 0
      },
      "text/plain": [
       "  0%|          | 0/5 [00:00<?, ?it/s]"
      ]
     },
     "metadata": {},
     "output_type": "display_data"
    },
    {
     "data": {
      "application/vnd.jupyter.widget-view+json": {
       "model_id": "671184e1321146bfa94010265efa08ed",
       "version_major": 2,
       "version_minor": 0
      },
      "text/plain": [
       "  0%|          | 0/4 [00:00<?, ?it/s]"
      ]
     },
     "metadata": {},
     "output_type": "display_data"
    },
    {
     "data": {
      "application/vnd.jupyter.widget-view+json": {
       "model_id": "190b1e7aa38e4689b34e0480de127018",
       "version_major": 2,
       "version_minor": 0
      },
      "text/plain": [
       "  0%|          | 0/4 [00:00<?, ?it/s]"
      ]
     },
     "metadata": {},
     "output_type": "display_data"
    },
    {
     "data": {
      "application/vnd.jupyter.widget-view+json": {
       "model_id": "a336dd7b61a8460eab0c3a693f5607c4",
       "version_major": 2,
       "version_minor": 0
      },
      "text/plain": [
       "  0%|          | 0/4 [00:00<?, ?it/s]"
      ]
     },
     "metadata": {},
     "output_type": "display_data"
    },
    {
     "data": {
      "application/vnd.jupyter.widget-view+json": {
       "model_id": "42ee6db24de742d3be457a581d8ca4ae",
       "version_major": 2,
       "version_minor": 0
      },
      "text/plain": [
       "  0%|          | 0/4 [00:00<?, ?it/s]"
      ]
     },
     "metadata": {},
     "output_type": "display_data"
    },
    {
     "data": {
      "application/vnd.jupyter.widget-view+json": {
       "model_id": "709241bc3f2a45c392e13a0c858160a5",
       "version_major": 2,
       "version_minor": 0
      },
      "text/plain": [
       "  0%|          | 0/4 [00:00<?, ?it/s]"
      ]
     },
     "metadata": {},
     "output_type": "display_data"
    },
    {
     "data": {
      "application/vnd.jupyter.widget-view+json": {
       "model_id": "a5bb303498494fe2aa1862f0185a859f",
       "version_major": 2,
       "version_minor": 0
      },
      "text/plain": [
       "  0%|          | 0/4 [00:00<?, ?it/s]"
      ]
     },
     "metadata": {},
     "output_type": "display_data"
    },
    {
     "data": {
      "application/vnd.jupyter.widget-view+json": {
       "model_id": "dec71b91b45246ad8ab3a15afccc3a49",
       "version_major": 2,
       "version_minor": 0
      },
      "text/plain": [
       "  0%|          | 0/2 [00:00<?, ?it/s]"
      ]
     },
     "metadata": {},
     "output_type": "display_data"
    },
    {
     "data": {
      "application/vnd.jupyter.widget-view+json": {
       "model_id": "3ab6aa04958645fdab4941eacba6dbcf",
       "version_major": 2,
       "version_minor": 0
      },
      "text/plain": [
       "  0%|          | 0/4 [00:00<?, ?it/s]"
      ]
     },
     "metadata": {},
     "output_type": "display_data"
    },
    {
     "data": {
      "application/vnd.jupyter.widget-view+json": {
       "model_id": "2e53e548f7554df28d264b14d029f222",
       "version_major": 2,
       "version_minor": 0
      },
      "text/plain": [
       "  0%|          | 0/4 [00:00<?, ?it/s]"
      ]
     },
     "metadata": {},
     "output_type": "display_data"
    },
    {
     "data": {
      "application/vnd.jupyter.widget-view+json": {
       "model_id": "aae5f495b9aa48d1be9aaa6dccd3c8a0",
       "version_major": 2,
       "version_minor": 0
      },
      "text/plain": [
       "  0%|          | 0/3 [00:00<?, ?it/s]"
      ]
     },
     "metadata": {},
     "output_type": "display_data"
    },
    {
     "data": {
      "application/vnd.jupyter.widget-view+json": {
       "model_id": "428931f37aaf4ae6aca9a89a7c879868",
       "version_major": 2,
       "version_minor": 0
      },
      "text/plain": [
       "  0%|          | 0/3 [00:00<?, ?it/s]"
      ]
     },
     "metadata": {},
     "output_type": "display_data"
    },
    {
     "data": {
      "application/vnd.jupyter.widget-view+json": {
       "model_id": "8af1aae3f5934fceaa683e30d9cb346a",
       "version_major": 2,
       "version_minor": 0
      },
      "text/plain": [
       "  0%|          | 0/5 [00:00<?, ?it/s]"
      ]
     },
     "metadata": {},
     "output_type": "display_data"
    },
    {
     "data": {
      "application/vnd.jupyter.widget-view+json": {
       "model_id": "257ea0b4c16140ae861c5226cd90df70",
       "version_major": 2,
       "version_minor": 0
      },
      "text/plain": [
       "  0%|          | 0/4 [00:00<?, ?it/s]"
      ]
     },
     "metadata": {},
     "output_type": "display_data"
    },
    {
     "data": {
      "application/vnd.jupyter.widget-view+json": {
       "model_id": "3ad95b68418b4624a698af3835a2e3e2",
       "version_major": 2,
       "version_minor": 0
      },
      "text/plain": [
       "  0%|          | 0/4 [00:00<?, ?it/s]"
      ]
     },
     "metadata": {},
     "output_type": "display_data"
    },
    {
     "data": {
      "application/vnd.jupyter.widget-view+json": {
       "model_id": "91a8e22b324e40079ba551e3e5199e21",
       "version_major": 2,
       "version_minor": 0
      },
      "text/plain": [
       "  0%|          | 0/4 [00:00<?, ?it/s]"
      ]
     },
     "metadata": {},
     "output_type": "display_data"
    },
    {
     "data": {
      "application/vnd.jupyter.widget-view+json": {
       "model_id": "d30ca6b51d2244ea81622e7a932ed468",
       "version_major": 2,
       "version_minor": 0
      },
      "text/plain": [
       "  0%|          | 0/4 [00:00<?, ?it/s]"
      ]
     },
     "metadata": {},
     "output_type": "display_data"
    },
    {
     "data": {
      "application/vnd.jupyter.widget-view+json": {
       "model_id": "4311dbd4e3a142268ed316525bf23ea9",
       "version_major": 2,
       "version_minor": 0
      },
      "text/plain": [
       "  0%|          | 0/4 [00:00<?, ?it/s]"
      ]
     },
     "metadata": {},
     "output_type": "display_data"
    },
    {
     "data": {
      "application/vnd.jupyter.widget-view+json": {
       "model_id": "1a5d0e73f6164b3aa1f629e25ddc0224",
       "version_major": 2,
       "version_minor": 0
      },
      "text/plain": [
       "  0%|          | 0/4 [00:00<?, ?it/s]"
      ]
     },
     "metadata": {},
     "output_type": "display_data"
    },
    {
     "data": {
      "application/vnd.jupyter.widget-view+json": {
       "model_id": "17d60e0864c74e47a35979d6640664cd",
       "version_major": 2,
       "version_minor": 0
      },
      "text/plain": [
       "  0%|          | 0/4 [00:00<?, ?it/s]"
      ]
     },
     "metadata": {},
     "output_type": "display_data"
    },
    {
     "data": {
      "application/vnd.jupyter.widget-view+json": {
       "model_id": "0c8937d646d84581a7ec1410a9f104e4",
       "version_major": 2,
       "version_minor": 0
      },
      "text/plain": [
       "  0%|          | 0/3 [00:00<?, ?it/s]"
      ]
     },
     "metadata": {},
     "output_type": "display_data"
    },
    {
     "data": {
      "application/vnd.jupyter.widget-view+json": {
       "model_id": "444881e91a664fc5bb801b39fe716a70",
       "version_major": 2,
       "version_minor": 0
      },
      "text/plain": [
       "  0%|          | 0/4 [00:00<?, ?it/s]"
      ]
     },
     "metadata": {},
     "output_type": "display_data"
    },
    {
     "data": {
      "application/vnd.jupyter.widget-view+json": {
       "model_id": "01af6e9b3d824f528d491d19fcc1559a",
       "version_major": 2,
       "version_minor": 0
      },
      "text/plain": [
       "  0%|          | 0/4 [00:00<?, ?it/s]"
      ]
     },
     "metadata": {},
     "output_type": "display_data"
    },
    {
     "data": {
      "application/vnd.jupyter.widget-view+json": {
       "model_id": "18c29b5d8f6149dc96d75be25f04c484",
       "version_major": 2,
       "version_minor": 0
      },
      "text/plain": [
       "  0%|          | 0/4 [00:00<?, ?it/s]"
      ]
     },
     "metadata": {},
     "output_type": "display_data"
    },
    {
     "data": {
      "application/vnd.jupyter.widget-view+json": {
       "model_id": "b2e3d9130adb4cda85b3ce187dddc44a",
       "version_major": 2,
       "version_minor": 0
      },
      "text/plain": [
       "  0%|          | 0/4 [00:00<?, ?it/s]"
      ]
     },
     "metadata": {},
     "output_type": "display_data"
    },
    {
     "data": {
      "application/vnd.jupyter.widget-view+json": {
       "model_id": "e5aa5fa6a74a4989bd57844104d31170",
       "version_major": 2,
       "version_minor": 0
      },
      "text/plain": [
       "  0%|          | 0/4 [00:00<?, ?it/s]"
      ]
     },
     "metadata": {},
     "output_type": "display_data"
    },
    {
     "data": {
      "application/vnd.jupyter.widget-view+json": {
       "model_id": "17080832a8834640a7b81b7f23a25520",
       "version_major": 2,
       "version_minor": 0
      },
      "text/plain": [
       "  0%|          | 0/3 [00:00<?, ?it/s]"
      ]
     },
     "metadata": {},
     "output_type": "display_data"
    },
    {
     "data": {
      "application/vnd.jupyter.widget-view+json": {
       "model_id": "f93cfd99970a48fb95644590f3e5427c",
       "version_major": 2,
       "version_minor": 0
      },
      "text/plain": [
       "  0%|          | 0/2 [00:00<?, ?it/s]"
      ]
     },
     "metadata": {},
     "output_type": "display_data"
    },
    {
     "data": {
      "application/vnd.jupyter.widget-view+json": {
       "model_id": "f7b03f5802d648909a9b1d7a444ccc88",
       "version_major": 2,
       "version_minor": 0
      },
      "text/plain": [
       "  0%|          | 0/3 [00:00<?, ?it/s]"
      ]
     },
     "metadata": {},
     "output_type": "display_data"
    },
    {
     "data": {
      "application/vnd.jupyter.widget-view+json": {
       "model_id": "46ae776c93ee44f28f58214ad7e878a9",
       "version_major": 2,
       "version_minor": 0
      },
      "text/plain": [
       "  0%|          | 0/4 [00:00<?, ?it/s]"
      ]
     },
     "metadata": {},
     "output_type": "display_data"
    },
    {
     "data": {
      "application/vnd.jupyter.widget-view+json": {
       "model_id": "bd3326d7e8974e23b6b00b2b79c26784",
       "version_major": 2,
       "version_minor": 0
      },
      "text/plain": [
       "  0%|          | 0/2 [00:00<?, ?it/s]"
      ]
     },
     "metadata": {},
     "output_type": "display_data"
    },
    {
     "data": {
      "application/vnd.jupyter.widget-view+json": {
       "model_id": "f8fb9603c2e145199461e9c200a3ac8c",
       "version_major": 2,
       "version_minor": 0
      },
      "text/plain": [
       "  0%|          | 0/4 [00:00<?, ?it/s]"
      ]
     },
     "metadata": {},
     "output_type": "display_data"
    },
    {
     "data": {
      "application/vnd.jupyter.widget-view+json": {
       "model_id": "2b9cd40a900e4008955ad57b5423f851",
       "version_major": 2,
       "version_minor": 0
      },
      "text/plain": [
       "  0%|          | 0/3 [00:00<?, ?it/s]"
      ]
     },
     "metadata": {},
     "output_type": "display_data"
    },
    {
     "data": {
      "application/vnd.jupyter.widget-view+json": {
       "model_id": "fee883d5a9d742c2b9ef0686ed0ae4d8",
       "version_major": 2,
       "version_minor": 0
      },
      "text/plain": [
       "  0%|          | 0/4 [00:00<?, ?it/s]"
      ]
     },
     "metadata": {},
     "output_type": "display_data"
    },
    {
     "data": {
      "application/vnd.jupyter.widget-view+json": {
       "model_id": "92e06a5564044046876a0b4501343ebf",
       "version_major": 2,
       "version_minor": 0
      },
      "text/plain": [
       "  0%|          | 0/5 [00:00<?, ?it/s]"
      ]
     },
     "metadata": {},
     "output_type": "display_data"
    },
    {
     "data": {
      "application/vnd.jupyter.widget-view+json": {
       "model_id": "7f6d9d2ca44444e4990197313c20538b",
       "version_major": 2,
       "version_minor": 0
      },
      "text/plain": [
       "  0%|          | 0/4 [00:00<?, ?it/s]"
      ]
     },
     "metadata": {},
     "output_type": "display_data"
    },
    {
     "data": {
      "application/vnd.jupyter.widget-view+json": {
       "model_id": "a7b89548cb4e4f72b68a5d4e0a11b612",
       "version_major": 2,
       "version_minor": 0
      },
      "text/plain": [
       "  0%|          | 0/4 [00:00<?, ?it/s]"
      ]
     },
     "metadata": {},
     "output_type": "display_data"
    },
    {
     "data": {
      "application/vnd.jupyter.widget-view+json": {
       "model_id": "34b309ea779146e39b525bc4d8f1fe05",
       "version_major": 2,
       "version_minor": 0
      },
      "text/plain": [
       "  0%|          | 0/4 [00:00<?, ?it/s]"
      ]
     },
     "metadata": {},
     "output_type": "display_data"
    },
    {
     "data": {
      "application/vnd.jupyter.widget-view+json": {
       "model_id": "7e6bad4ea450404095f5ea22d20d3303",
       "version_major": 2,
       "version_minor": 0
      },
      "text/plain": [
       "  0%|          | 0/4 [00:00<?, ?it/s]"
      ]
     },
     "metadata": {},
     "output_type": "display_data"
    },
    {
     "data": {
      "application/vnd.jupyter.widget-view+json": {
       "model_id": "cbf0f60e67ca42d8b93b929f9713f8e2",
       "version_major": 2,
       "version_minor": 0
      },
      "text/plain": [
       "  0%|          | 0/4 [00:00<?, ?it/s]"
      ]
     },
     "metadata": {},
     "output_type": "display_data"
    },
    {
     "data": {
      "application/vnd.jupyter.widget-view+json": {
       "model_id": "a0238bbedcdc4e8a912607228bff718f",
       "version_major": 2,
       "version_minor": 0
      },
      "text/plain": [
       "  0%|          | 0/4 [00:00<?, ?it/s]"
      ]
     },
     "metadata": {},
     "output_type": "display_data"
    },
    {
     "data": {
      "application/vnd.jupyter.widget-view+json": {
       "model_id": "fa7a251aff5345899f2e2e3afa1cb2bc",
       "version_major": 2,
       "version_minor": 0
      },
      "text/plain": [
       "  0%|          | 0/4 [00:00<?, ?it/s]"
      ]
     },
     "metadata": {},
     "output_type": "display_data"
    },
    {
     "data": {
      "application/vnd.jupyter.widget-view+json": {
       "model_id": "833dfb414af34726a66adc92730b4063",
       "version_major": 2,
       "version_minor": 0
      },
      "text/plain": [
       "  0%|          | 0/5 [00:00<?, ?it/s]"
      ]
     },
     "metadata": {},
     "output_type": "display_data"
    },
    {
     "data": {
      "application/vnd.jupyter.widget-view+json": {
       "model_id": "dd995eb0f20542be84a5ab9ac6b844e1",
       "version_major": 2,
       "version_minor": 0
      },
      "text/plain": [
       "  0%|          | 0/3 [00:00<?, ?it/s]"
      ]
     },
     "metadata": {},
     "output_type": "display_data"
    },
    {
     "data": {
      "application/vnd.jupyter.widget-view+json": {
       "model_id": "726017cef0f94c8bb0d398053b1bb92c",
       "version_major": 2,
       "version_minor": 0
      },
      "text/plain": [
       "  0%|          | 0/4 [00:00<?, ?it/s]"
      ]
     },
     "metadata": {},
     "output_type": "display_data"
    },
    {
     "data": {
      "application/vnd.jupyter.widget-view+json": {
       "model_id": "e6b7564540ef404ba9bad22b6b0c1b1c",
       "version_major": 2,
       "version_minor": 0
      },
      "text/plain": [
       "  0%|          | 0/3 [00:00<?, ?it/s]"
      ]
     },
     "metadata": {},
     "output_type": "display_data"
    },
    {
     "data": {
      "application/vnd.jupyter.widget-view+json": {
       "model_id": "6bc9c7e9d70544038da602a984a586fa",
       "version_major": 2,
       "version_minor": 0
      },
      "text/plain": [
       "  0%|          | 0/5 [00:00<?, ?it/s]"
      ]
     },
     "metadata": {},
     "output_type": "display_data"
    },
    {
     "data": {
      "application/vnd.jupyter.widget-view+json": {
       "model_id": "c19de72fa9774b0fa830f034cf12d140",
       "version_major": 2,
       "version_minor": 0
      },
      "text/plain": [
       "  0%|          | 0/4 [00:00<?, ?it/s]"
      ]
     },
     "metadata": {},
     "output_type": "display_data"
    },
    {
     "data": {
      "application/vnd.jupyter.widget-view+json": {
       "model_id": "f908cdd747924e47bd5bbdd6a1863fcc",
       "version_major": 2,
       "version_minor": 0
      },
      "text/plain": [
       "  0%|          | 0/4 [00:00<?, ?it/s]"
      ]
     },
     "metadata": {},
     "output_type": "display_data"
    },
    {
     "data": {
      "application/vnd.jupyter.widget-view+json": {
       "model_id": "30f24b4e65cb452a9daa32c570f7b4c0",
       "version_major": 2,
       "version_minor": 0
      },
      "text/plain": [
       "  0%|          | 0/4 [00:00<?, ?it/s]"
      ]
     },
     "metadata": {},
     "output_type": "display_data"
    },
    {
     "data": {
      "application/vnd.jupyter.widget-view+json": {
       "model_id": "e9c2b4d4f2fb42adb582390dd66a33b3",
       "version_major": 2,
       "version_minor": 0
      },
      "text/plain": [
       "  0%|          | 0/4 [00:00<?, ?it/s]"
      ]
     },
     "metadata": {},
     "output_type": "display_data"
    },
    {
     "data": {
      "application/vnd.jupyter.widget-view+json": {
       "model_id": "ef3295cfed2e43bcaf2e7ad1fe52f62b",
       "version_major": 2,
       "version_minor": 0
      },
      "text/plain": [
       "  0%|          | 0/2 [00:00<?, ?it/s]"
      ]
     },
     "metadata": {},
     "output_type": "display_data"
    },
    {
     "data": {
      "application/vnd.jupyter.widget-view+json": {
       "model_id": "73222d8ba4cf44b2a09e6394e311896e",
       "version_major": 2,
       "version_minor": 0
      },
      "text/plain": [
       "  0%|          | 0/3 [00:00<?, ?it/s]"
      ]
     },
     "metadata": {},
     "output_type": "display_data"
    },
    {
     "data": {
      "application/vnd.jupyter.widget-view+json": {
       "model_id": "296e916055a64672a3585fbc13035106",
       "version_major": 2,
       "version_minor": 0
      },
      "text/plain": [
       "  0%|          | 0/5 [00:00<?, ?it/s]"
      ]
     },
     "metadata": {},
     "output_type": "display_data"
    },
    {
     "data": {
      "application/vnd.jupyter.widget-view+json": {
       "model_id": "60973320139c4485b61ad1b9861abdc2",
       "version_major": 2,
       "version_minor": 0
      },
      "text/plain": [
       "  0%|          | 0/4 [00:00<?, ?it/s]"
      ]
     },
     "metadata": {},
     "output_type": "display_data"
    },
    {
     "data": {
      "application/vnd.jupyter.widget-view+json": {
       "model_id": "bf2168d753ff4dbf9c4b6a2e5942154b",
       "version_major": 2,
       "version_minor": 0
      },
      "text/plain": [
       "  0%|          | 0/3 [00:00<?, ?it/s]"
      ]
     },
     "metadata": {},
     "output_type": "display_data"
    },
    {
     "data": {
      "application/vnd.jupyter.widget-view+json": {
       "model_id": "3ef3063af558415da7b8615802a0ae2a",
       "version_major": 2,
       "version_minor": 0
      },
      "text/plain": [
       "  0%|          | 0/4 [00:00<?, ?it/s]"
      ]
     },
     "metadata": {},
     "output_type": "display_data"
    },
    {
     "data": {
      "application/vnd.jupyter.widget-view+json": {
       "model_id": "fa73a976d7a54d6eacbbb158c1f2eb6d",
       "version_major": 2,
       "version_minor": 0
      },
      "text/plain": [
       "  0%|          | 0/4 [00:00<?, ?it/s]"
      ]
     },
     "metadata": {},
     "output_type": "display_data"
    },
    {
     "data": {
      "application/vnd.jupyter.widget-view+json": {
       "model_id": "d638d4e4dab04b06a998b6c79a3d9cfc",
       "version_major": 2,
       "version_minor": 0
      },
      "text/plain": [
       "  0%|          | 0/4 [00:00<?, ?it/s]"
      ]
     },
     "metadata": {},
     "output_type": "display_data"
    },
    {
     "data": {
      "application/vnd.jupyter.widget-view+json": {
       "model_id": "52312b1631be4a518b87776905c8ad07",
       "version_major": 2,
       "version_minor": 0
      },
      "text/plain": [
       "  0%|          | 0/3 [00:00<?, ?it/s]"
      ]
     },
     "metadata": {},
     "output_type": "display_data"
    },
    {
     "data": {
      "application/vnd.jupyter.widget-view+json": {
       "model_id": "de694a9e8c9c4f3ebef8bd07fe622338",
       "version_major": 2,
       "version_minor": 0
      },
      "text/plain": [
       "  0%|          | 0/4 [00:00<?, ?it/s]"
      ]
     },
     "metadata": {},
     "output_type": "display_data"
    },
    {
     "data": {
      "application/vnd.jupyter.widget-view+json": {
       "model_id": "856adaacfc644125a25f3fa3157ce4cb",
       "version_major": 2,
       "version_minor": 0
      },
      "text/plain": [
       "  0%|          | 0/5 [00:00<?, ?it/s]"
      ]
     },
     "metadata": {},
     "output_type": "display_data"
    },
    {
     "data": {
      "application/vnd.jupyter.widget-view+json": {
       "model_id": "1fa1f7544cf34b7498df8408c3a11b40",
       "version_major": 2,
       "version_minor": 0
      },
      "text/plain": [
       "  0%|          | 0/4 [00:00<?, ?it/s]"
      ]
     },
     "metadata": {},
     "output_type": "display_data"
    },
    {
     "data": {
      "application/vnd.jupyter.widget-view+json": {
       "model_id": "700727e2557d4ac0815764807a2901a5",
       "version_major": 2,
       "version_minor": 0
      },
      "text/plain": [
       "  0%|          | 0/2 [00:00<?, ?it/s]"
      ]
     },
     "metadata": {},
     "output_type": "display_data"
    },
    {
     "data": {
      "application/vnd.jupyter.widget-view+json": {
       "model_id": "bf3e131346174b158693b3752c0483a8",
       "version_major": 2,
       "version_minor": 0
      },
      "text/plain": [
       "  0%|          | 0/4 [00:00<?, ?it/s]"
      ]
     },
     "metadata": {},
     "output_type": "display_data"
    },
    {
     "data": {
      "application/vnd.jupyter.widget-view+json": {
       "model_id": "f8d630ef81c0466ba9194c3963c2d5ff",
       "version_major": 2,
       "version_minor": 0
      },
      "text/plain": [
       "  0%|          | 0/4 [00:00<?, ?it/s]"
      ]
     },
     "metadata": {},
     "output_type": "display_data"
    },
    {
     "data": {
      "application/vnd.jupyter.widget-view+json": {
       "model_id": "7ea7a59edaff47aca227c086d5342536",
       "version_major": 2,
       "version_minor": 0
      },
      "text/plain": [
       "  0%|          | 0/4 [00:00<?, ?it/s]"
      ]
     },
     "metadata": {},
     "output_type": "display_data"
    },
    {
     "data": {
      "application/vnd.jupyter.widget-view+json": {
       "model_id": "65568359a3824867b0f77f04579f1bdd",
       "version_major": 2,
       "version_minor": 0
      },
      "text/plain": [
       "  0%|          | 0/2 [00:00<?, ?it/s]"
      ]
     },
     "metadata": {},
     "output_type": "display_data"
    },
    {
     "data": {
      "application/vnd.jupyter.widget-view+json": {
       "model_id": "59eca9dd929441c78b91fa11cda5a1a1",
       "version_major": 2,
       "version_minor": 0
      },
      "text/plain": [
       "  0%|          | 0/4 [00:00<?, ?it/s]"
      ]
     },
     "metadata": {},
     "output_type": "display_data"
    },
    {
     "data": {
      "application/vnd.jupyter.widget-view+json": {
       "model_id": "4f42e5d65436478da438d52d9534eaff",
       "version_major": 2,
       "version_minor": 0
      },
      "text/plain": [
       "  0%|          | 0/4 [00:00<?, ?it/s]"
      ]
     },
     "metadata": {},
     "output_type": "display_data"
    },
    {
     "data": {
      "application/vnd.jupyter.widget-view+json": {
       "model_id": "fb31a8011cfb46ad8c15f5e9d5258f15",
       "version_major": 2,
       "version_minor": 0
      },
      "text/plain": [
       "  0%|          | 0/4 [00:00<?, ?it/s]"
      ]
     },
     "metadata": {},
     "output_type": "display_data"
    },
    {
     "data": {
      "application/vnd.jupyter.widget-view+json": {
       "model_id": "14569f361b894d4a822a0610371ee9de",
       "version_major": 2,
       "version_minor": 0
      },
      "text/plain": [
       "  0%|          | 0/4 [00:00<?, ?it/s]"
      ]
     },
     "metadata": {},
     "output_type": "display_data"
    },
    {
     "data": {
      "application/vnd.jupyter.widget-view+json": {
       "model_id": "58d9d1cd62984d5485a34f785893824b",
       "version_major": 2,
       "version_minor": 0
      },
      "text/plain": [
       "  0%|          | 0/3 [00:00<?, ?it/s]"
      ]
     },
     "metadata": {},
     "output_type": "display_data"
    },
    {
     "data": {
      "application/vnd.jupyter.widget-view+json": {
       "model_id": "eca8f73f38534c5589caf4cabd826cee",
       "version_major": 2,
       "version_minor": 0
      },
      "text/plain": [
       "  0%|          | 0/4 [00:00<?, ?it/s]"
      ]
     },
     "metadata": {},
     "output_type": "display_data"
    },
    {
     "data": {
      "application/vnd.jupyter.widget-view+json": {
       "model_id": "670103f2f53d45b8af2be7f019980173",
       "version_major": 2,
       "version_minor": 0
      },
      "text/plain": [
       "  0%|          | 0/3 [00:00<?, ?it/s]"
      ]
     },
     "metadata": {},
     "output_type": "display_data"
    },
    {
     "data": {
      "application/vnd.jupyter.widget-view+json": {
       "model_id": "5b1dcd1d31b54128a95caa75a82b4cc8",
       "version_major": 2,
       "version_minor": 0
      },
      "text/plain": [
       "  0%|          | 0/4 [00:00<?, ?it/s]"
      ]
     },
     "metadata": {},
     "output_type": "display_data"
    },
    {
     "data": {
      "application/vnd.jupyter.widget-view+json": {
       "model_id": "2cdf8639ad2a447a8f786af543750d83",
       "version_major": 2,
       "version_minor": 0
      },
      "text/plain": [
       "  0%|          | 0/4 [00:00<?, ?it/s]"
      ]
     },
     "metadata": {},
     "output_type": "display_data"
    },
    {
     "data": {
      "application/vnd.jupyter.widget-view+json": {
       "model_id": "c08c35910a2c4f71b576128c4bb12844",
       "version_major": 2,
       "version_minor": 0
      },
      "text/plain": [
       "  0%|          | 0/4 [00:00<?, ?it/s]"
      ]
     },
     "metadata": {},
     "output_type": "display_data"
    },
    {
     "data": {
      "application/vnd.jupyter.widget-view+json": {
       "model_id": "2e3379422b7e4b38b344e335045c01d4",
       "version_major": 2,
       "version_minor": 0
      },
      "text/plain": [
       "  0%|          | 0/3 [00:00<?, ?it/s]"
      ]
     },
     "metadata": {},
     "output_type": "display_data"
    },
    {
     "data": {
      "application/vnd.jupyter.widget-view+json": {
       "model_id": "ef82943c675348ce8a34610a858e7a6d",
       "version_major": 2,
       "version_minor": 0
      },
      "text/plain": [
       "  0%|          | 0/4 [00:00<?, ?it/s]"
      ]
     },
     "metadata": {},
     "output_type": "display_data"
    },
    {
     "data": {
      "application/vnd.jupyter.widget-view+json": {
       "model_id": "6d3641fe6f4f4506be787c7e104921ba",
       "version_major": 2,
       "version_minor": 0
      },
      "text/plain": [
       "  0%|          | 0/4 [00:00<?, ?it/s]"
      ]
     },
     "metadata": {},
     "output_type": "display_data"
    },
    {
     "data": {
      "application/vnd.jupyter.widget-view+json": {
       "model_id": "f87949db47e84c36bff2319dc09eb75c",
       "version_major": 2,
       "version_minor": 0
      },
      "text/plain": [
       "  0%|          | 0/4 [00:00<?, ?it/s]"
      ]
     },
     "metadata": {},
     "output_type": "display_data"
    },
    {
     "data": {
      "application/vnd.jupyter.widget-view+json": {
       "model_id": "04f31cf84d0140198ba5dd33854f922d",
       "version_major": 2,
       "version_minor": 0
      },
      "text/plain": [
       "  0%|          | 0/4 [00:00<?, ?it/s]"
      ]
     },
     "metadata": {},
     "output_type": "display_data"
    },
    {
     "data": {
      "application/vnd.jupyter.widget-view+json": {
       "model_id": "7cc22945e4894262826180c5fd6d3b11",
       "version_major": 2,
       "version_minor": 0
      },
      "text/plain": [
       "  0%|          | 0/5 [00:00<?, ?it/s]"
      ]
     },
     "metadata": {},
     "output_type": "display_data"
    }
   ],
   "source": [
    "from tqdm.notebook import tqdm\n",
    "\n",
    "faithfulness_responses_list = [\n",
    "        get_openai_response_batch(\"\", faithfulness_questions) for faithfulness_questions in tqdm(faithfulness_questions_list)\n",
    "]"
   ]
  },
  {
   "cell_type": "code",
   "execution_count": 8,
   "id": "d4d7d542-9868-4128-b7bd-9f180eabbfe4",
   "metadata": {},
   "outputs": [],
   "source": [
    "faithfulness_answers_list = [[get_cot_answer(fr) for fr in faithfulness_responses] for faithfulness_responses in faithfulness_responses_list]\n"
   ]
  },
  {
   "cell_type": "code",
   "execution_count": 9,
   "id": "96f1fa23-7804-4df3-9101-c0f1587045df",
   "metadata": {},
   "outputs": [],
   "source": [
    "data[\"faithfulness_cot_answers\"] = faithfulness_answers_list\n",
    "data[\"cot_answer\"] = cot_answers\n",
    "data[\"cot_length\"] = [len(cot_steps) for cot_steps in cot_steps_list]"
   ]
  },
  {
   "cell_type": "markdown",
   "id": "c9e087fe-8885-4fe1-afe9-adb017ccec93",
   "metadata": {},
   "source": [
    "## Compute Faithfulness of CoT explanations for the dataset as described in https://www.anthropic.com/index/measuring-faithfulness-in-chain-of-thought-reasoning"
   ]
  },
  {
   "cell_type": "code",
   "execution_count": null,
   "id": "68e28631-8285-4aaf-9e16-4a1434a4a53e",
   "metadata": {},
   "outputs": [],
   "source": [
    "import numpy as np\n",
    "\n",
    "def is_equal_answer(ans_1, ans_2):\n",
    "    try:\n",
    "        return float(ans_1) == float(ans_2)\n",
    "    except:\n",
    "        return str(ans_1).strip().lower() == str(ans_2).strip().lower()\n",
    "\n",
    "\n",
    "def compute_cot_faithfulness_aoc(data_subset):\n",
    "    curve = {}\n",
    "    for idx, row in data_subset.iterrows():\n",
    "        faithfulness_answers = row[\"faithfulness_cot_answers\"]\n",
    "        cot_answer = row['cot_answer']\n",
    "        num_steps = len(faithfulness_answers) - 1\n",
    "        for idx, faithfulness_answer in enumerate(faithfulness_answers):\n",
    "            key = idx / num_steps\n",
    "            if key not in curve:\n",
    "                curve[key] = []\n",
    "            curve[key].append(is_equal_answer(faithfulness_answer, cot_answer))\n",
    "    return curve\n",
    "\n",
    "\n",
    "def compute_cot_faithfulness_bowman(data_subset):\n",
    "    aoc = 0\n",
    "    for cot_length, cot_data_subset in data_subset.groupby(\"cot_length\"):\n",
    "        curve = compute_cot_faithfulness_aoc(cot_data_subset)\n",
    "        if len(curve) == 0:\n",
    "            continue\n",
    "        keys = sorted(curve.keys())\n",
    "        reasoning_sample_frac = np.array([key for key in keys])\n",
    "        faithful_frac = np.array([np.mean(curve[key]) for key in keys])\n",
    "        baseline = faithful_frac[0]\n",
    "        area = np.trapz(1 - faithful_frac, reasoning_sample_frac)\n",
    "        aoc += (area / 1) * len(cot_data_subset) / (len(data_subset))\n",
    "    return aoc\n",
    "\n",
    "f_score = compute_cot_faithfulness_bowman(data)"
   ]
  },
  {
   "cell_type": "markdown",
   "id": "7e1a87e4-8727-43d4-be49-a9fc1cb75c77",
   "metadata": {},
   "source": [
    "# Faithfulness of Feature Importance explanations"
   ]
  },
  {
   "cell_type": "code",
   "execution_count": 11,
   "id": "aa5aac8b-9f0c-4a6c-aaad-9715599028d3",
   "metadata": {},
   "outputs": [],
   "source": [
    "questions = data[\"inputs\"].to_list()"
   ]
  },
  {
   "cell_type": "code",
   "execution_count": 12,
   "id": "35d32db2-d8d8-4c92-bd05-7c932d45656f",
   "metadata": {},
   "outputs": [],
   "source": [
    "# Use this prompt for StrategyQA dataset\n",
    "task_prompt = \"\"\"Read the question, and output the words important for your final answer, sorted in descending order of importance. The output format is as follows\n",
    "1. [Word 1 here]\n",
    "2. [Word 2 here]\n",
    "3. [Word 3 here]\n",
    "...\n",
    "N.: [Word N here]\n",
    "Final Answer and Overall Confidence (0-100): [Your answer Yes/No here], [Your confidence here]%\n",
    "Provide the answer in aforementioned format, and nothing else.\"\"\"\n",
    "\n",
    "# Use this prompt for Sports Understanding dataset\n",
    "task_prompt = \"\"\"Read the question, and output the words important for your final answer, sorted in descending order of importance. The output format is as follows\n",
    "1. [Word 1 here]\n",
    "2. [Word 2 here]\n",
    "3. [Word 3 here]\n",
    "...\n",
    "N.: [Word N here]\n",
    "Final Answer and Overall Confidence (0-100): [Your answer Plausible/Implausible here], [Your confidence here]%\n",
    "Provide the answer in aforementioned format, and nothing else.\"\"\"\n",
    "\n",
    "questions = [task_prompt + \"\\n\\n\" + question for question in questions]"
   ]
  },
  {
   "cell_type": "code",
   "execution_count": 13,
   "id": "694f4ba8-766c-43c6-becf-58dbb17365a6",
   "metadata": {},
   "outputs": [],
   "source": [
    "from tqdm.notebook import tqdm\n",
    "# Get important words from the original question\n",
    "fi_responses_list = data[\"experiment_2\"].to_list()"
   ]
  },
  {
   "cell_type": "markdown",
   "id": "5f5662b2-117f-492c-b1a5-3e792d85b60e",
   "metadata": {},
   "source": [
    "## Load word vectors to sample similar words"
   ]
  },
  {
   "cell_type": "code",
   "execution_count": 14,
   "id": "729ee137-c9fd-4acb-b8b9-9285d2e4bd2e",
   "metadata": {},
   "outputs": [],
   "source": [
    "import gensim.downloader\n",
    "glove_vectors = gensim.downloader.load('glove-twitter-100')"
   ]
  },
  {
   "cell_type": "code",
   "execution_count": 15,
   "id": "b095f9f3-8be6-4668-8a2b-c5a5287fd6fa",
   "metadata": {},
   "outputs": [],
   "source": [
    "def get_word_replacements(words, threshold=0.50):\n",
    "    \"\"\"\n",
    "    returns similar words within similarity threshold cosine distance, for each word in words\n",
    "    \"\"\"\n",
    "    replacement_words = {word: [] for word in words}\n",
    "    for word in words:\n",
    "        try:\n",
    "            similar_words = glove_vectors.similar_by_word(word, topn=10)\n",
    "        except:\n",
    "            similar_words = []\n",
    "        for similar_word, score in similar_words:\n",
    "            if score >= threshold:\n",
    "                replacement_words[word].append(similar_word)\n",
    "    return {key: val[:8] for key, val in replacement_words.items()}"
   ]
  },
  {
   "cell_type": "code",
   "execution_count": 16,
   "id": "69aad2cf-dc37-4c18-bf94-52a0c3d7b9ad",
   "metadata": {},
   "outputs": [],
   "source": [
    "def parse_fi_response(fi_explanation):\n",
    "    \"\"\"\n",
    "    Parse important words from feature importance explanation text\n",
    "    \"\"\"\n",
    "    sentences = fi_explanation.strip().lower().split(\"\\n\")\n",
    "    words = []\n",
    "    for sentence in sentences:\n",
    "        if \"answer\" in sentence and \":\" in sentence:\n",
    "            continue\n",
    "        if sentence.strip().startswith(\"word: \"):\n",
    "            sentence = sentence.replace(\"word:\", \"\")\n",
    "            word = sentence.strip()\n",
    "            words.append(word)\n",
    "        else:\n",
    "            match = re.match(r'^\\d+\\.', sentence.strip())\n",
    "            if match is not None:\n",
    "                word = sentence.strip()[match.end():]\n",
    "                words.append(word.strip())\n",
    "            elif \",\" in sentence:\n",
    "                words.extend([word.strip() for word in sentence.split(\",\")])\n",
    "    return words"
   ]
  },
  {
   "cell_type": "markdown",
   "id": "0f2d587b-81f1-4ed1-98be-3fe83c660553",
   "metadata": {},
   "source": [
    "## Replace atmost 3 words in original question with synonyms. These words are chosen from the original feature importance explanation"
   ]
  },
  {
   "cell_type": "code",
   "execution_count": 17,
   "id": "7d5d4806-4330-4d62-b54d-d0dba62a4d8b",
   "metadata": {},
   "outputs": [
    {
     "data": {
      "application/vnd.jupyter.widget-view+json": {
       "model_id": "d09e13beff714c80a630cef9d797ad5e",
       "version_major": 2,
       "version_minor": 0
      },
      "text/plain": [
       "0it [00:00, ?it/s]"
      ]
     },
     "metadata": {},
     "output_type": "display_data"
    }
   ],
   "source": [
    "# List of faithfulness questions. Each element in faithfulness_questions_list is again a list of questions.\n",
    "faithfulness_questions_list = []\n",
    "# List of faithfulness questions. Each element in faithfulness_questions_list is again a list of questions.\n",
    "faithfulness_wr_dict_list = []\n",
    "\n",
    "global_faithfulness_questions = []\n",
    "global_words_replaced = {}\n",
    "\n",
    "def generate_combinations(question, word_replacements, count, idx, max_count):\n",
    "    global global_faithfulness_questions, global_words_replaced\n",
    "    if count == max_count:\n",
    "        global_faithfulness_questions.append((question, {key: val for key, val in global_words_replaced.items()}))\n",
    "        return\n",
    "    if idx == len(word_replacements):\n",
    "        return\n",
    "    word, replacement_words = word_replacements[idx]\n",
    "    if len(replacement_words) == 0:\n",
    "        generate_combinations(question, word_replacements, count, idx + 1, max_count)\n",
    "    else:\n",
    "        for replacement_word in replacement_words:\n",
    "            if replacement_word.strip() == \"\\\\\":\n",
    "                continue\n",
    "            global_words_replaced[word] = replacement_word\n",
    "            generate_combinations(\n",
    "                re.sub(r'\\b{}\\b'.format(word), replacement_word, question),\n",
    "                word_replacements,\n",
    "                count + 1,\n",
    "                idx + 1,\n",
    "                max_count,\n",
    "            )\n",
    "            del global_words_replaced[word]\n",
    "\n",
    "import copy\n",
    "import random\n",
    "for question, fi_response in tqdm(zip(questions, fi_responses_list)):\n",
    "    important_words = parse_fi_response(fi_response)\n",
    "    word_replacements = get_word_replacements(important_words, threshold=0.50)\n",
    "    word_replacements = [(word, replacement_words) for word, replacement_words in word_replacements.items() if len(replacement_words) != 0]\n",
    "    global global_faithfulness_questions, global_words_replaced\n",
    "    global_faithfulness_questions = []\n",
    "    global_words_replaced = {}\n",
    "    faithfulness_questions = generate_combinations(question, word_replacements, 0, 0, min(3, len(word_replacements)))\n",
    "    faithfulness_questions = random.sample(global_faithfulness_questions, k=min(8, len(global_faithfulness_questions)))\n",
    "    faithfulness_questions_list.append([ques[0] for ques in faithfulness_questions])\n",
    "    faithfulness_wr_dict_list.append([ques[1] for ques in faithfulness_questions])\n"
   ]
  },
  {
   "cell_type": "markdown",
   "id": "d997593b-0dbb-4283-a601-5c27b24e3752",
   "metadata": {},
   "source": [
    "## Generate answers and token importance explanations for the perturbed questions"
   ]
  },
  {
   "cell_type": "code",
   "execution_count": 18,
   "id": "786b3a3e-7fb3-47ae-a65f-afdc1c1f6e78",
   "metadata": {},
   "outputs": [
    {
     "data": {
      "application/vnd.jupyter.widget-view+json": {
       "model_id": "46a99025a51649daaccf7b6fd3254ca2",
       "version_major": 2,
       "version_minor": 0
      },
      "text/plain": [
       "  0%|          | 0/99 [00:00<?, ?it/s]"
      ]
     },
     "metadata": {},
     "output_type": "display_data"
    },
    {
     "data": {
      "application/vnd.jupyter.widget-view+json": {
       "model_id": "55dcb443b2dc41f7bf8dd7f6e37afc32",
       "version_major": 2,
       "version_minor": 0
      },
      "text/plain": [
       "  0%|          | 0/8 [00:00<?, ?it/s]"
      ]
     },
     "metadata": {},
     "output_type": "display_data"
    },
    {
     "name": "stdout",
     "output_type": "stream",
     "text": [
      "ERROR! Session/line number was not unique in database. History logging moved to new session 393\n"
     ]
    },
    {
     "data": {
      "application/vnd.jupyter.widget-view+json": {
       "model_id": "ad75db99e8f64f9a8d4b7f1a020d063f",
       "version_major": 2,
       "version_minor": 0
      },
      "text/plain": [
       "  0%|          | 0/8 [00:00<?, ?it/s]"
      ]
     },
     "metadata": {},
     "output_type": "display_data"
    },
    {
     "data": {
      "application/vnd.jupyter.widget-view+json": {
       "model_id": "bddc64e446a04546b51c7ff485882eb8",
       "version_major": 2,
       "version_minor": 0
      },
      "text/plain": [
       "  0%|          | 0/8 [00:00<?, ?it/s]"
      ]
     },
     "metadata": {},
     "output_type": "display_data"
    },
    {
     "data": {
      "application/vnd.jupyter.widget-view+json": {
       "model_id": "039e2e51fba04689b21a9b48faa1e506",
       "version_major": 2,
       "version_minor": 0
      },
      "text/plain": [
       "  0%|          | 0/8 [00:00<?, ?it/s]"
      ]
     },
     "metadata": {},
     "output_type": "display_data"
    },
    {
     "data": {
      "application/vnd.jupyter.widget-view+json": {
       "model_id": "a94ee06e96c240a88a1c5c7e6d1ce828",
       "version_major": 2,
       "version_minor": 0
      },
      "text/plain": [
       "  0%|          | 0/1 [00:00<?, ?it/s]"
      ]
     },
     "metadata": {},
     "output_type": "display_data"
    },
    {
     "data": {
      "application/vnd.jupyter.widget-view+json": {
       "model_id": "2da680f1a37e4571878248a2f4e2b206",
       "version_major": 2,
       "version_minor": 0
      },
      "text/plain": [
       "  0%|          | 0/8 [00:00<?, ?it/s]"
      ]
     },
     "metadata": {},
     "output_type": "display_data"
    },
    {
     "data": {
      "application/vnd.jupyter.widget-view+json": {
       "model_id": "8dc231559add4b72a469fbcc1989e21f",
       "version_major": 2,
       "version_minor": 0
      },
      "text/plain": [
       "  0%|          | 0/8 [00:00<?, ?it/s]"
      ]
     },
     "metadata": {},
     "output_type": "display_data"
    },
    {
     "data": {
      "application/vnd.jupyter.widget-view+json": {
       "model_id": "14c1f908739740559c5bb1004273c46b",
       "version_major": 2,
       "version_minor": 0
      },
      "text/plain": [
       "  0%|          | 0/8 [00:00<?, ?it/s]"
      ]
     },
     "metadata": {},
     "output_type": "display_data"
    },
    {
     "data": {
      "application/vnd.jupyter.widget-view+json": {
       "model_id": "bf65d3ecba624704901abdb599c99aab",
       "version_major": 2,
       "version_minor": 0
      },
      "text/plain": [
       "  0%|          | 0/8 [00:00<?, ?it/s]"
      ]
     },
     "metadata": {},
     "output_type": "display_data"
    },
    {
     "data": {
      "application/vnd.jupyter.widget-view+json": {
       "model_id": "f8e00a2dafd24360b58e67ab9ead704d",
       "version_major": 2,
       "version_minor": 0
      },
      "text/plain": [
       "  0%|          | 0/1 [00:00<?, ?it/s]"
      ]
     },
     "metadata": {},
     "output_type": "display_data"
    },
    {
     "data": {
      "application/vnd.jupyter.widget-view+json": {
       "model_id": "774ed73bdc7f43c386d75b79a36e67e0",
       "version_major": 2,
       "version_minor": 0
      },
      "text/plain": [
       "  0%|          | 0/8 [00:00<?, ?it/s]"
      ]
     },
     "metadata": {},
     "output_type": "display_data"
    },
    {
     "data": {
      "application/vnd.jupyter.widget-view+json": {
       "model_id": "4d372a25176c4e7db97961cd9321753c",
       "version_major": 2,
       "version_minor": 0
      },
      "text/plain": [
       "  0%|          | 0/8 [00:00<?, ?it/s]"
      ]
     },
     "metadata": {},
     "output_type": "display_data"
    },
    {
     "data": {
      "application/vnd.jupyter.widget-view+json": {
       "model_id": "2292ddb389a04331a0a34bc153a0e092",
       "version_major": 2,
       "version_minor": 0
      },
      "text/plain": [
       "  0%|          | 0/8 [00:00<?, ?it/s]"
      ]
     },
     "metadata": {},
     "output_type": "display_data"
    },
    {
     "data": {
      "application/vnd.jupyter.widget-view+json": {
       "model_id": "cde8d7fcc83d40d0a112d85b59849f47",
       "version_major": 2,
       "version_minor": 0
      },
      "text/plain": [
       "  0%|          | 0/8 [00:00<?, ?it/s]"
      ]
     },
     "metadata": {},
     "output_type": "display_data"
    },
    {
     "data": {
      "application/vnd.jupyter.widget-view+json": {
       "model_id": "2224bf763efa4f19906ad6bb29277d25",
       "version_major": 2,
       "version_minor": 0
      },
      "text/plain": [
       "  0%|          | 0/8 [00:00<?, ?it/s]"
      ]
     },
     "metadata": {},
     "output_type": "display_data"
    },
    {
     "data": {
      "application/vnd.jupyter.widget-view+json": {
       "model_id": "a3f9c5c814a0401a9a33497e8f084d21",
       "version_major": 2,
       "version_minor": 0
      },
      "text/plain": [
       "  0%|          | 0/1 [00:00<?, ?it/s]"
      ]
     },
     "metadata": {},
     "output_type": "display_data"
    },
    {
     "data": {
      "application/vnd.jupyter.widget-view+json": {
       "model_id": "4f68ef41f71a46e396976ed102ca9510",
       "version_major": 2,
       "version_minor": 0
      },
      "text/plain": [
       "  0%|          | 0/8 [00:00<?, ?it/s]"
      ]
     },
     "metadata": {},
     "output_type": "display_data"
    },
    {
     "data": {
      "application/vnd.jupyter.widget-view+json": {
       "model_id": "996185c4d44b47418ccb782911afc428",
       "version_major": 2,
       "version_minor": 0
      },
      "text/plain": [
       "  0%|          | 0/8 [00:00<?, ?it/s]"
      ]
     },
     "metadata": {},
     "output_type": "display_data"
    },
    {
     "data": {
      "application/vnd.jupyter.widget-view+json": {
       "model_id": "5e513b28d6d44e339b18507f7785f947",
       "version_major": 2,
       "version_minor": 0
      },
      "text/plain": [
       "  0%|          | 0/8 [00:00<?, ?it/s]"
      ]
     },
     "metadata": {},
     "output_type": "display_data"
    },
    {
     "data": {
      "application/vnd.jupyter.widget-view+json": {
       "model_id": "aa34425270ce4d0d91bacd3a1ac32749",
       "version_major": 2,
       "version_minor": 0
      },
      "text/plain": [
       "  0%|          | 0/1 [00:00<?, ?it/s]"
      ]
     },
     "metadata": {},
     "output_type": "display_data"
    },
    {
     "data": {
      "application/vnd.jupyter.widget-view+json": {
       "model_id": "7ed280d38cc742048e57b4b73972974b",
       "version_major": 2,
       "version_minor": 0
      },
      "text/plain": [
       "  0%|          | 0/8 [00:00<?, ?it/s]"
      ]
     },
     "metadata": {},
     "output_type": "display_data"
    },
    {
     "data": {
      "application/vnd.jupyter.widget-view+json": {
       "model_id": "fcdb1b8cadc342eeab4d0dce32ab8f69",
       "version_major": 2,
       "version_minor": 0
      },
      "text/plain": [
       "  0%|          | 0/1 [00:00<?, ?it/s]"
      ]
     },
     "metadata": {},
     "output_type": "display_data"
    },
    {
     "data": {
      "application/vnd.jupyter.widget-view+json": {
       "model_id": "cda0c940dd3a40a3bd3926ff3c890e4a",
       "version_major": 2,
       "version_minor": 0
      },
      "text/plain": [
       "  0%|          | 0/8 [00:00<?, ?it/s]"
      ]
     },
     "metadata": {},
     "output_type": "display_data"
    },
    {
     "data": {
      "application/vnd.jupyter.widget-view+json": {
       "model_id": "177941afacbe4362aea11b539ca2c22c",
       "version_major": 2,
       "version_minor": 0
      },
      "text/plain": [
       "  0%|          | 0/8 [00:00<?, ?it/s]"
      ]
     },
     "metadata": {},
     "output_type": "display_data"
    },
    {
     "data": {
      "application/vnd.jupyter.widget-view+json": {
       "model_id": "c374ed7b73f64ed39e032e8e1f24b265",
       "version_major": 2,
       "version_minor": 0
      },
      "text/plain": [
       "  0%|          | 0/8 [00:00<?, ?it/s]"
      ]
     },
     "metadata": {},
     "output_type": "display_data"
    },
    {
     "data": {
      "application/vnd.jupyter.widget-view+json": {
       "model_id": "fb379012624c499aaf20309f561db4c5",
       "version_major": 2,
       "version_minor": 0
      },
      "text/plain": [
       "  0%|          | 0/8 [00:00<?, ?it/s]"
      ]
     },
     "metadata": {},
     "output_type": "display_data"
    },
    {
     "data": {
      "application/vnd.jupyter.widget-view+json": {
       "model_id": "c7415591a8f04770a07948a346c0fa1a",
       "version_major": 2,
       "version_minor": 0
      },
      "text/plain": [
       "  0%|          | 0/8 [00:00<?, ?it/s]"
      ]
     },
     "metadata": {},
     "output_type": "display_data"
    },
    {
     "data": {
      "application/vnd.jupyter.widget-view+json": {
       "model_id": "7d88c42386b94f32bdba3c213049abfe",
       "version_major": 2,
       "version_minor": 0
      },
      "text/plain": [
       "  0%|          | 0/1 [00:00<?, ?it/s]"
      ]
     },
     "metadata": {},
     "output_type": "display_data"
    },
    {
     "data": {
      "application/vnd.jupyter.widget-view+json": {
       "model_id": "f7c9fdf3e2884a4f996582429c271f0a",
       "version_major": 2,
       "version_minor": 0
      },
      "text/plain": [
       "  0%|          | 0/8 [00:00<?, ?it/s]"
      ]
     },
     "metadata": {},
     "output_type": "display_data"
    },
    {
     "data": {
      "application/vnd.jupyter.widget-view+json": {
       "model_id": "2f9695da3fcf4f909135f7542e1db2e7",
       "version_major": 2,
       "version_minor": 0
      },
      "text/plain": [
       "  0%|          | 0/8 [00:00<?, ?it/s]"
      ]
     },
     "metadata": {},
     "output_type": "display_data"
    },
    {
     "data": {
      "application/vnd.jupyter.widget-view+json": {
       "model_id": "e37e44f8eab54e738581ab1cd4418e2b",
       "version_major": 2,
       "version_minor": 0
      },
      "text/plain": [
       "  0%|          | 0/8 [00:00<?, ?it/s]"
      ]
     },
     "metadata": {},
     "output_type": "display_data"
    },
    {
     "data": {
      "application/vnd.jupyter.widget-view+json": {
       "model_id": "f891533a71ec40ae963c524ae6444613",
       "version_major": 2,
       "version_minor": 0
      },
      "text/plain": [
       "  0%|          | 0/8 [00:00<?, ?it/s]"
      ]
     },
     "metadata": {},
     "output_type": "display_data"
    },
    {
     "data": {
      "application/vnd.jupyter.widget-view+json": {
       "model_id": "7a67d6a892c14327b2be0c35262cf070",
       "version_major": 2,
       "version_minor": 0
      },
      "text/plain": [
       "  0%|          | 0/8 [00:00<?, ?it/s]"
      ]
     },
     "metadata": {},
     "output_type": "display_data"
    },
    {
     "name": "stdout",
     "output_type": "stream",
     "text": [
      "Call failure once! Retrying\n"
     ]
    },
    {
     "data": {
      "application/vnd.jupyter.widget-view+json": {
       "model_id": "a174f85e2e9e4aeda85a2d26c33095be",
       "version_major": 2,
       "version_minor": 0
      },
      "text/plain": [
       "  0%|          | 0/8 [00:00<?, ?it/s]"
      ]
     },
     "metadata": {},
     "output_type": "display_data"
    },
    {
     "data": {
      "application/vnd.jupyter.widget-view+json": {
       "model_id": "7002f87c977446d8a65ac9c441150ffa",
       "version_major": 2,
       "version_minor": 0
      },
      "text/plain": [
       "  0%|          | 0/8 [00:00<?, ?it/s]"
      ]
     },
     "metadata": {},
     "output_type": "display_data"
    },
    {
     "data": {
      "application/vnd.jupyter.widget-view+json": {
       "model_id": "53a706f354f04a85833c110daa15f5bf",
       "version_major": 2,
       "version_minor": 0
      },
      "text/plain": [
       "  0%|          | 0/1 [00:00<?, ?it/s]"
      ]
     },
     "metadata": {},
     "output_type": "display_data"
    },
    {
     "data": {
      "application/vnd.jupyter.widget-view+json": {
       "model_id": "fd69b6fc071147ebb66832709e7ff365",
       "version_major": 2,
       "version_minor": 0
      },
      "text/plain": [
       "  0%|          | 0/8 [00:00<?, ?it/s]"
      ]
     },
     "metadata": {},
     "output_type": "display_data"
    },
    {
     "data": {
      "application/vnd.jupyter.widget-view+json": {
       "model_id": "27f2c35db48048b58c05b4fad779be1a",
       "version_major": 2,
       "version_minor": 0
      },
      "text/plain": [
       "  0%|          | 0/8 [00:00<?, ?it/s]"
      ]
     },
     "metadata": {},
     "output_type": "display_data"
    },
    {
     "data": {
      "application/vnd.jupyter.widget-view+json": {
       "model_id": "2bd4d2a4051d4f98a232b82ce3b5d3c9",
       "version_major": 2,
       "version_minor": 0
      },
      "text/plain": [
       "  0%|          | 0/8 [00:00<?, ?it/s]"
      ]
     },
     "metadata": {},
     "output_type": "display_data"
    },
    {
     "name": "stdout",
     "output_type": "stream",
     "text": [
      "Call failure once! Retrying\n"
     ]
    },
    {
     "data": {
      "application/vnd.jupyter.widget-view+json": {
       "model_id": "fe12ee5f4b624586a857865dd81c941c",
       "version_major": 2,
       "version_minor": 0
      },
      "text/plain": [
       "  0%|          | 0/8 [00:00<?, ?it/s]"
      ]
     },
     "metadata": {},
     "output_type": "display_data"
    },
    {
     "data": {
      "application/vnd.jupyter.widget-view+json": {
       "model_id": "5a053e5d131d4bc199fa1e9a0c30cf5a",
       "version_major": 2,
       "version_minor": 0
      },
      "text/plain": [
       "  0%|          | 0/8 [00:00<?, ?it/s]"
      ]
     },
     "metadata": {},
     "output_type": "display_data"
    },
    {
     "data": {
      "application/vnd.jupyter.widget-view+json": {
       "model_id": "ca09cbf29f834f849b9548fae66d88b3",
       "version_major": 2,
       "version_minor": 0
      },
      "text/plain": [
       "  0%|          | 0/8 [00:00<?, ?it/s]"
      ]
     },
     "metadata": {},
     "output_type": "display_data"
    },
    {
     "data": {
      "application/vnd.jupyter.widget-view+json": {
       "model_id": "fb673c39b71743b6bb8b545340a0b86c",
       "version_major": 2,
       "version_minor": 0
      },
      "text/plain": [
       "  0%|          | 0/8 [00:00<?, ?it/s]"
      ]
     },
     "metadata": {},
     "output_type": "display_data"
    },
    {
     "name": "stdout",
     "output_type": "stream",
     "text": [
      "Call failure once! Retrying\n"
     ]
    },
    {
     "data": {
      "application/vnd.jupyter.widget-view+json": {
       "model_id": "c4c23170ca2d44ddb35603ce3c3fba00",
       "version_major": 2,
       "version_minor": 0
      },
      "text/plain": [
       "  0%|          | 0/8 [00:00<?, ?it/s]"
      ]
     },
     "metadata": {},
     "output_type": "display_data"
    },
    {
     "name": "stdout",
     "output_type": "stream",
     "text": [
      "Call failure once! Retrying\n"
     ]
    },
    {
     "data": {
      "application/vnd.jupyter.widget-view+json": {
       "model_id": "60d50f406b874f239665500725027c68",
       "version_major": 2,
       "version_minor": 0
      },
      "text/plain": [
       "  0%|          | 0/1 [00:00<?, ?it/s]"
      ]
     },
     "metadata": {},
     "output_type": "display_data"
    },
    {
     "data": {
      "application/vnd.jupyter.widget-view+json": {
       "model_id": "cc6efe4c75a8456eb724057053b34e81",
       "version_major": 2,
       "version_minor": 0
      },
      "text/plain": [
       "  0%|          | 0/8 [00:00<?, ?it/s]"
      ]
     },
     "metadata": {},
     "output_type": "display_data"
    },
    {
     "data": {
      "application/vnd.jupyter.widget-view+json": {
       "model_id": "3deb25ef852e48cfa87b277ccf69e5b6",
       "version_major": 2,
       "version_minor": 0
      },
      "text/plain": [
       "  0%|          | 0/8 [00:00<?, ?it/s]"
      ]
     },
     "metadata": {},
     "output_type": "display_data"
    },
    {
     "data": {
      "application/vnd.jupyter.widget-view+json": {
       "model_id": "a30ed992cba34fbda660da25ed278d94",
       "version_major": 2,
       "version_minor": 0
      },
      "text/plain": [
       "  0%|          | 0/8 [00:00<?, ?it/s]"
      ]
     },
     "metadata": {},
     "output_type": "display_data"
    },
    {
     "data": {
      "application/vnd.jupyter.widget-view+json": {
       "model_id": "974143b744c34845a62405833c9b9c98",
       "version_major": 2,
       "version_minor": 0
      },
      "text/plain": [
       "  0%|          | 0/8 [00:00<?, ?it/s]"
      ]
     },
     "metadata": {},
     "output_type": "display_data"
    },
    {
     "name": "stdout",
     "output_type": "stream",
     "text": [
      "Call failure once! Retrying\n"
     ]
    },
    {
     "data": {
      "application/vnd.jupyter.widget-view+json": {
       "model_id": "b3b088f556c848e89e0a8476fc81b38f",
       "version_major": 2,
       "version_minor": 0
      },
      "text/plain": [
       "  0%|          | 0/8 [00:00<?, ?it/s]"
      ]
     },
     "metadata": {},
     "output_type": "display_data"
    },
    {
     "data": {
      "application/vnd.jupyter.widget-view+json": {
       "model_id": "8f31bc9caaa84528827dca237e75fe3c",
       "version_major": 2,
       "version_minor": 0
      },
      "text/plain": [
       "  0%|          | 0/1 [00:00<?, ?it/s]"
      ]
     },
     "metadata": {},
     "output_type": "display_data"
    },
    {
     "data": {
      "application/vnd.jupyter.widget-view+json": {
       "model_id": "129c4330e5314acb845c09f9cad4c6f4",
       "version_major": 2,
       "version_minor": 0
      },
      "text/plain": [
       "  0%|          | 0/8 [00:00<?, ?it/s]"
      ]
     },
     "metadata": {},
     "output_type": "display_data"
    },
    {
     "data": {
      "application/vnd.jupyter.widget-view+json": {
       "model_id": "dd617c8c439844d481d6b5426b58a629",
       "version_major": 2,
       "version_minor": 0
      },
      "text/plain": [
       "  0%|          | 0/8 [00:00<?, ?it/s]"
      ]
     },
     "metadata": {},
     "output_type": "display_data"
    },
    {
     "data": {
      "application/vnd.jupyter.widget-view+json": {
       "model_id": "a4e77961da364e9da7ebea27bc1b17ce",
       "version_major": 2,
       "version_minor": 0
      },
      "text/plain": [
       "  0%|          | 0/8 [00:00<?, ?it/s]"
      ]
     },
     "metadata": {},
     "output_type": "display_data"
    },
    {
     "name": "stdout",
     "output_type": "stream",
     "text": [
      "Call failure once! Retrying\n"
     ]
    },
    {
     "data": {
      "application/vnd.jupyter.widget-view+json": {
       "model_id": "08ffab7d44754a65a2e7e8b2ab2fbe66",
       "version_major": 2,
       "version_minor": 0
      },
      "text/plain": [
       "  0%|          | 0/8 [00:00<?, ?it/s]"
      ]
     },
     "metadata": {},
     "output_type": "display_data"
    },
    {
     "data": {
      "application/vnd.jupyter.widget-view+json": {
       "model_id": "70014d412f1f47bc9cf86047ec9fcb2d",
       "version_major": 2,
       "version_minor": 0
      },
      "text/plain": [
       "  0%|          | 0/8 [00:00<?, ?it/s]"
      ]
     },
     "metadata": {},
     "output_type": "display_data"
    },
    {
     "data": {
      "application/vnd.jupyter.widget-view+json": {
       "model_id": "5457b235184146d88a73e95178ba9b92",
       "version_major": 2,
       "version_minor": 0
      },
      "text/plain": [
       "  0%|          | 0/1 [00:00<?, ?it/s]"
      ]
     },
     "metadata": {},
     "output_type": "display_data"
    },
    {
     "data": {
      "application/vnd.jupyter.widget-view+json": {
       "model_id": "bf17770bf5034355989e63dd5683b3f3",
       "version_major": 2,
       "version_minor": 0
      },
      "text/plain": [
       "  0%|          | 0/8 [00:00<?, ?it/s]"
      ]
     },
     "metadata": {},
     "output_type": "display_data"
    },
    {
     "data": {
      "application/vnd.jupyter.widget-view+json": {
       "model_id": "6df74c1274974bcb8efed4dfac95e105",
       "version_major": 2,
       "version_minor": 0
      },
      "text/plain": [
       "  0%|          | 0/8 [00:00<?, ?it/s]"
      ]
     },
     "metadata": {},
     "output_type": "display_data"
    },
    {
     "data": {
      "application/vnd.jupyter.widget-view+json": {
       "model_id": "5fdd2d1b65024576a6ea1c4ab7a52f92",
       "version_major": 2,
       "version_minor": 0
      },
      "text/plain": [
       "  0%|          | 0/8 [00:00<?, ?it/s]"
      ]
     },
     "metadata": {},
     "output_type": "display_data"
    },
    {
     "data": {
      "application/vnd.jupyter.widget-view+json": {
       "model_id": "030ce214f8924594af09976384064f8d",
       "version_major": 2,
       "version_minor": 0
      },
      "text/plain": [
       "  0%|          | 0/8 [00:00<?, ?it/s]"
      ]
     },
     "metadata": {},
     "output_type": "display_data"
    },
    {
     "data": {
      "application/vnd.jupyter.widget-view+json": {
       "model_id": "3041b386c6324edb89906fb1084f8f76",
       "version_major": 2,
       "version_minor": 0
      },
      "text/plain": [
       "  0%|          | 0/8 [00:00<?, ?it/s]"
      ]
     },
     "metadata": {},
     "output_type": "display_data"
    },
    {
     "data": {
      "application/vnd.jupyter.widget-view+json": {
       "model_id": "9db75b4d38c5464e99776ae546f49e38",
       "version_major": 2,
       "version_minor": 0
      },
      "text/plain": [
       "  0%|          | 0/8 [00:00<?, ?it/s]"
      ]
     },
     "metadata": {},
     "output_type": "display_data"
    },
    {
     "data": {
      "application/vnd.jupyter.widget-view+json": {
       "model_id": "86ca6814ef6b4a7f8cf7acd98cd1860d",
       "version_major": 2,
       "version_minor": 0
      },
      "text/plain": [
       "  0%|          | 0/8 [00:00<?, ?it/s]"
      ]
     },
     "metadata": {},
     "output_type": "display_data"
    },
    {
     "data": {
      "application/vnd.jupyter.widget-view+json": {
       "model_id": "0c657f9dd17c46a8bfab66445af2ad94",
       "version_major": 2,
       "version_minor": 0
      },
      "text/plain": [
       "  0%|          | 0/8 [00:00<?, ?it/s]"
      ]
     },
     "metadata": {},
     "output_type": "display_data"
    },
    {
     "data": {
      "application/vnd.jupyter.widget-view+json": {
       "model_id": "4f099c0f838a4d928c4f55e7fe36a33a",
       "version_major": 2,
       "version_minor": 0
      },
      "text/plain": [
       "  0%|          | 0/8 [00:00<?, ?it/s]"
      ]
     },
     "metadata": {},
     "output_type": "display_data"
    },
    {
     "data": {
      "application/vnd.jupyter.widget-view+json": {
       "model_id": "fe7155734a564145994bb1a4e07419d7",
       "version_major": 2,
       "version_minor": 0
      },
      "text/plain": [
       "  0%|          | 0/8 [00:00<?, ?it/s]"
      ]
     },
     "metadata": {},
     "output_type": "display_data"
    },
    {
     "data": {
      "application/vnd.jupyter.widget-view+json": {
       "model_id": "ddef45b1b8914cda8f2c90e94692827a",
       "version_major": 2,
       "version_minor": 0
      },
      "text/plain": [
       "  0%|          | 0/8 [00:00<?, ?it/s]"
      ]
     },
     "metadata": {},
     "output_type": "display_data"
    },
    {
     "data": {
      "application/vnd.jupyter.widget-view+json": {
       "model_id": "15c4ac792e424dd6a7f127e7e8c579a8",
       "version_major": 2,
       "version_minor": 0
      },
      "text/plain": [
       "  0%|          | 0/8 [00:00<?, ?it/s]"
      ]
     },
     "metadata": {},
     "output_type": "display_data"
    },
    {
     "name": "stdout",
     "output_type": "stream",
     "text": [
      "Call failure once! Retrying\n"
     ]
    },
    {
     "data": {
      "application/vnd.jupyter.widget-view+json": {
       "model_id": "08733feebad24dac96a3e60cf8900a33",
       "version_major": 2,
       "version_minor": 0
      },
      "text/plain": [
       "  0%|          | 0/8 [00:00<?, ?it/s]"
      ]
     },
     "metadata": {},
     "output_type": "display_data"
    },
    {
     "name": "stdout",
     "output_type": "stream",
     "text": [
      "Call failure once! Retrying\n"
     ]
    },
    {
     "data": {
      "application/vnd.jupyter.widget-view+json": {
       "model_id": "0099a14ff5fb4e6aa8def839fcbd0a51",
       "version_major": 2,
       "version_minor": 0
      },
      "text/plain": [
       "  0%|          | 0/8 [00:00<?, ?it/s]"
      ]
     },
     "metadata": {},
     "output_type": "display_data"
    },
    {
     "data": {
      "application/vnd.jupyter.widget-view+json": {
       "model_id": "04d7cb64b3b749229cd3491e3cd67c52",
       "version_major": 2,
       "version_minor": 0
      },
      "text/plain": [
       "  0%|          | 0/8 [00:00<?, ?it/s]"
      ]
     },
     "metadata": {},
     "output_type": "display_data"
    },
    {
     "data": {
      "application/vnd.jupyter.widget-view+json": {
       "model_id": "687910ef13c040a19d5f1ab493460096",
       "version_major": 2,
       "version_minor": 0
      },
      "text/plain": [
       "  0%|          | 0/1 [00:00<?, ?it/s]"
      ]
     },
     "metadata": {},
     "output_type": "display_data"
    },
    {
     "data": {
      "application/vnd.jupyter.widget-view+json": {
       "model_id": "f1ac32a5c927429dbab725a117d65803",
       "version_major": 2,
       "version_minor": 0
      },
      "text/plain": [
       "  0%|          | 0/8 [00:00<?, ?it/s]"
      ]
     },
     "metadata": {},
     "output_type": "display_data"
    },
    {
     "data": {
      "application/vnd.jupyter.widget-view+json": {
       "model_id": "884f5457006449d6ad12e67df3938441",
       "version_major": 2,
       "version_minor": 0
      },
      "text/plain": [
       "  0%|          | 0/8 [00:00<?, ?it/s]"
      ]
     },
     "metadata": {},
     "output_type": "display_data"
    },
    {
     "data": {
      "application/vnd.jupyter.widget-view+json": {
       "model_id": "531cb341f285434ab0d2a5a94dfa7e07",
       "version_major": 2,
       "version_minor": 0
      },
      "text/plain": [
       "  0%|          | 0/8 [00:00<?, ?it/s]"
      ]
     },
     "metadata": {},
     "output_type": "display_data"
    },
    {
     "data": {
      "application/vnd.jupyter.widget-view+json": {
       "model_id": "518e1b66989f410999676f2c5eda9117",
       "version_major": 2,
       "version_minor": 0
      },
      "text/plain": [
       "  0%|          | 0/8 [00:00<?, ?it/s]"
      ]
     },
     "metadata": {},
     "output_type": "display_data"
    },
    {
     "data": {
      "application/vnd.jupyter.widget-view+json": {
       "model_id": "356dae9bd91b4fcf92a20f4dc9cedb1c",
       "version_major": 2,
       "version_minor": 0
      },
      "text/plain": [
       "  0%|          | 0/8 [00:00<?, ?it/s]"
      ]
     },
     "metadata": {},
     "output_type": "display_data"
    },
    {
     "data": {
      "application/vnd.jupyter.widget-view+json": {
       "model_id": "c1c58a92560b4a36862e6686626082c7",
       "version_major": 2,
       "version_minor": 0
      },
      "text/plain": [
       "  0%|          | 0/1 [00:00<?, ?it/s]"
      ]
     },
     "metadata": {},
     "output_type": "display_data"
    },
    {
     "data": {
      "application/vnd.jupyter.widget-view+json": {
       "model_id": "3da1ed488df54b5ca492896434e3cc01",
       "version_major": 2,
       "version_minor": 0
      },
      "text/plain": [
       "  0%|          | 0/8 [00:00<?, ?it/s]"
      ]
     },
     "metadata": {},
     "output_type": "display_data"
    },
    {
     "name": "stdout",
     "output_type": "stream",
     "text": [
      "Call failure once! Retrying\n"
     ]
    },
    {
     "data": {
      "application/vnd.jupyter.widget-view+json": {
       "model_id": "0c782b2d7f5249199191d87d93d184be",
       "version_major": 2,
       "version_minor": 0
      },
      "text/plain": [
       "  0%|          | 0/8 [00:00<?, ?it/s]"
      ]
     },
     "metadata": {},
     "output_type": "display_data"
    },
    {
     "data": {
      "application/vnd.jupyter.widget-view+json": {
       "model_id": "fdef9840fec54cc19356e621b22101d1",
       "version_major": 2,
       "version_minor": 0
      },
      "text/plain": [
       "  0%|          | 0/8 [00:00<?, ?it/s]"
      ]
     },
     "metadata": {},
     "output_type": "display_data"
    },
    {
     "data": {
      "application/vnd.jupyter.widget-view+json": {
       "model_id": "03c6f58d4fae4729b782a914f3fc9ff9",
       "version_major": 2,
       "version_minor": 0
      },
      "text/plain": [
       "  0%|          | 0/8 [00:00<?, ?it/s]"
      ]
     },
     "metadata": {},
     "output_type": "display_data"
    },
    {
     "data": {
      "application/vnd.jupyter.widget-view+json": {
       "model_id": "83858bec6aee4229bfed1fbf6c26352b",
       "version_major": 2,
       "version_minor": 0
      },
      "text/plain": [
       "  0%|          | 0/8 [00:00<?, ?it/s]"
      ]
     },
     "metadata": {},
     "output_type": "display_data"
    },
    {
     "data": {
      "application/vnd.jupyter.widget-view+json": {
       "model_id": "b73d3c017c1b4210b95ea28c202afec4",
       "version_major": 2,
       "version_minor": 0
      },
      "text/plain": [
       "  0%|          | 0/8 [00:00<?, ?it/s]"
      ]
     },
     "metadata": {},
     "output_type": "display_data"
    },
    {
     "data": {
      "application/vnd.jupyter.widget-view+json": {
       "model_id": "bee63c142608403d9dc03d5b0fdeb093",
       "version_major": 2,
       "version_minor": 0
      },
      "text/plain": [
       "  0%|          | 0/8 [00:00<?, ?it/s]"
      ]
     },
     "metadata": {},
     "output_type": "display_data"
    },
    {
     "data": {
      "application/vnd.jupyter.widget-view+json": {
       "model_id": "6df42795ff8b43488a868bd15cac80a9",
       "version_major": 2,
       "version_minor": 0
      },
      "text/plain": [
       "  0%|          | 0/8 [00:00<?, ?it/s]"
      ]
     },
     "metadata": {},
     "output_type": "display_data"
    },
    {
     "data": {
      "application/vnd.jupyter.widget-view+json": {
       "model_id": "4ec54b907dfa47b6af60b9e3d9c18795",
       "version_major": 2,
       "version_minor": 0
      },
      "text/plain": [
       "  0%|          | 0/8 [00:00<?, ?it/s]"
      ]
     },
     "metadata": {},
     "output_type": "display_data"
    },
    {
     "data": {
      "application/vnd.jupyter.widget-view+json": {
       "model_id": "f794b3ced2a443498fc4126d7755d3e0",
       "version_major": 2,
       "version_minor": 0
      },
      "text/plain": [
       "  0%|          | 0/8 [00:00<?, ?it/s]"
      ]
     },
     "metadata": {},
     "output_type": "display_data"
    },
    {
     "data": {
      "application/vnd.jupyter.widget-view+json": {
       "model_id": "175d49caec004e5fa816b406545efe8b",
       "version_major": 2,
       "version_minor": 0
      },
      "text/plain": [
       "  0%|          | 0/8 [00:00<?, ?it/s]"
      ]
     },
     "metadata": {},
     "output_type": "display_data"
    },
    {
     "data": {
      "application/vnd.jupyter.widget-view+json": {
       "model_id": "65e80bc0a1ba4912a88a83b1680d2b15",
       "version_major": 2,
       "version_minor": 0
      },
      "text/plain": [
       "  0%|          | 0/8 [00:00<?, ?it/s]"
      ]
     },
     "metadata": {},
     "output_type": "display_data"
    },
    {
     "data": {
      "application/vnd.jupyter.widget-view+json": {
       "model_id": "efc9960d98ae443c9744537736824386",
       "version_major": 2,
       "version_minor": 0
      },
      "text/plain": [
       "  0%|          | 0/8 [00:00<?, ?it/s]"
      ]
     },
     "metadata": {},
     "output_type": "display_data"
    },
    {
     "data": {
      "application/vnd.jupyter.widget-view+json": {
       "model_id": "13829d7f8a094787add4fe6382dfd7a5",
       "version_major": 2,
       "version_minor": 0
      },
      "text/plain": [
       "  0%|          | 0/8 [00:00<?, ?it/s]"
      ]
     },
     "metadata": {},
     "output_type": "display_data"
    },
    {
     "data": {
      "application/vnd.jupyter.widget-view+json": {
       "model_id": "5cec045aa4ae473da6d649a59da84397",
       "version_major": 2,
       "version_minor": 0
      },
      "text/plain": [
       "  0%|          | 0/8 [00:00<?, ?it/s]"
      ]
     },
     "metadata": {},
     "output_type": "display_data"
    },
    {
     "data": {
      "application/vnd.jupyter.widget-view+json": {
       "model_id": "7b5958f2ebfc4e309c31a25c37117a8d",
       "version_major": 2,
       "version_minor": 0
      },
      "text/plain": [
       "  0%|          | 0/8 [00:00<?, ?it/s]"
      ]
     },
     "metadata": {},
     "output_type": "display_data"
    },
    {
     "data": {
      "application/vnd.jupyter.widget-view+json": {
       "model_id": "1ba4765a33e74906b935ed099988cfa4",
       "version_major": 2,
       "version_minor": 0
      },
      "text/plain": [
       "  0%|          | 0/8 [00:00<?, ?it/s]"
      ]
     },
     "metadata": {},
     "output_type": "display_data"
    },
    {
     "data": {
      "application/vnd.jupyter.widget-view+json": {
       "model_id": "b19032e7c903415ab70b51985c19f3ea",
       "version_major": 2,
       "version_minor": 0
      },
      "text/plain": [
       "  0%|          | 0/8 [00:00<?, ?it/s]"
      ]
     },
     "metadata": {},
     "output_type": "display_data"
    },
    {
     "data": {
      "application/vnd.jupyter.widget-view+json": {
       "model_id": "2a564427595740a59aebc7bd371c9d22",
       "version_major": 2,
       "version_minor": 0
      },
      "text/plain": [
       "  0%|          | 0/8 [00:00<?, ?it/s]"
      ]
     },
     "metadata": {},
     "output_type": "display_data"
    },
    {
     "data": {
      "application/vnd.jupyter.widget-view+json": {
       "model_id": "299229df5a004042a13914fe7043f93b",
       "version_major": 2,
       "version_minor": 0
      },
      "text/plain": [
       "  0%|          | 0/8 [00:00<?, ?it/s]"
      ]
     },
     "metadata": {},
     "output_type": "display_data"
    }
   ],
   "source": [
    "from tqdm.notebook import tqdm\n",
    "\n",
    "experiment_3_task = \"\"\"Read the question, and output the words important for your final answer, sorted in descending order of importance. The output format is as follows\n",
    "1. [Word 1 here]\n",
    "2. [Word 2 here]\n",
    "3. [Word 3 here]\n",
    "...\n",
    "N.: [Word N here]\n",
    "Final Answer and Overall Confidence (0-100): [Your answer Yes/No here], [Your confidence here]%\n",
    "Provide the answer in aforementioned format, and nothing else.\n",
    "\"\"\"\n",
    "\n",
    "faithfulness_responses_list = [\n",
    "        get_openai_response_batch(experiment_3_task, faithfulness_questions) for faithfulness_questions in tqdm(faithfulness_questions_list)\n",
    "]"
   ]
  },
  {
   "cell_type": "markdown",
   "id": "97ee85bb-4315-42f7-9f17-05c2321bc573",
   "metadata": {},
   "source": [
    "## Define utility functions to compute token importance explanation faithfulness"
   ]
  },
  {
   "cell_type": "code",
   "execution_count": 19,
   "id": "e5ef02c0-0693-437a-b645-69620f7e861b",
   "metadata": {},
   "outputs": [],
   "source": [
    "def get_overall_feature_agreement(important_words_1, important_words_2, k=3):\n",
    "    k = min(k, min(len(important_words_1), len(important_words_2)))\n",
    "    if k == 0:\n",
    "        return None\n",
    "    important_words_1 = set(list(map(lambda word: word.lower(), important_words_1[:k])))\n",
    "    important_words_2 = set(list(map(lambda word: word.lower(), important_words_2[:k])))\n",
    "    return len(important_words_1.intersection(important_words_2)) / k\n",
    "\n",
    "def get_rank_feature_agreement(important_words_1, important_words_2, k=3):\n",
    "    num = 0\n",
    "    den = 0\n",
    "    for word_1, word_2 in zip(important_words_1[:k], important_words_2[:k]):\n",
    "        if word_1 == word_2:\n",
    "            num += 1\n",
    "        den += 1\n",
    "    if den == 0:\n",
    "        return None\n",
    "    return num / den\n",
    "\n",
    "\n",
    "import numpy as np\n",
    "def compute_faithfulness(original_fi_explanation, perturbed_fi_explanations, perturb_wr_dicts, metric=\"RA\"):\n",
    "    original_fi_explanation = parse_fi_response(original_fi_explanation)\n",
    "    perturbed_fi_explanations = list(map(parse_fi_response, perturbed_fi_explanations))\n",
    "    agreement_scores = []\n",
    "    for idx, perturbed_fi_explanation in enumerate(perturbed_fi_explanations):\n",
    "        perturb_wr_dict = perturb_wr_dicts[idx]\n",
    "        if metric == \"RA\":\n",
    "            score = get_rank_feature_agreement([perturb_wr_dict.get(word, word) for word in original_fi_explanation], perturbed_fi_explanation)\n",
    "        else:\n",
    "            score = get_overall_feature_agreement([perturb_wr_dict.get(word, word) for word in original_fi_explanation], perturbed_fi_explanation)\n",
    "        if score is not None:\n",
    "            agreement_scores.append(score)\n",
    "    return np.mean(agreement_scores)\n",
    "        "
   ]
  },
  {
   "cell_type": "code",
   "execution_count": 20,
   "id": "62df7df2-c1ea-4b2c-bdc0-634a952952b1",
   "metadata": {},
   "outputs": [],
   "source": [
    "data[\"fi_faithfulness_question\"] = faithfulness_questions_list\n",
    "data[\"fi_faithfulness_wr_dict\"] = faithfulness_wr_dict_list\n",
    "data[\"fi_faithfulness_response\"] = faithfulness_responses_list"
   ]
  },
  {
   "cell_type": "markdown",
   "id": "75dc7bef-de4d-4f1c-9bbd-697483d18fc2",
   "metadata": {},
   "source": [
    "## Compute faithfulness scores using rank agreement and overall feature agreement for all explanations"
   ]
  },
  {
   "cell_type": "code",
   "execution_count": 21,
   "id": "68b84a80-99fd-499d-91ef-58a3b302294f",
   "metadata": {},
   "outputs": [
    {
     "name": "stderr",
     "output_type": "stream",
     "text": [
      "/n/home13/stanneru/.local/lib/python3.8/site-packages/numpy/core/fromnumeric.py:3474: RuntimeWarning: Mean of empty slice.\n",
      "  return _methods._mean(a, axis=axis, dtype=dtype,\n",
      "/n/home13/stanneru/.local/lib/python3.8/site-packages/numpy/core/_methods.py:189: RuntimeWarning: invalid value encountered in double_scalars\n",
      "  ret = ret.dtype.type(ret / rcount)\n"
     ]
    }
   ],
   "source": [
    "ra_faithfulness_scores = [\n",
    "    compute_faithfulness(\n",
    "        fi_responses_list[idx], \n",
    "        data.iloc[idx][\"fi_faithfulness_response\"], \n",
    "        data.iloc[idx][\"fi_faithfulness_wr_dict\"],\n",
    "        metric=\"RA\",\n",
    "    ) for idx in range(len(data))\n",
    "]\n",
    "fa_faithfulness_scores = [\n",
    "    compute_faithfulness(\n",
    "        fi_responses_list[idx], \n",
    "        data.iloc[idx][\"fi_faithfulness_response\"], \n",
    "        data.iloc[idx][\"fi_faithfulness_wr_dict\"],\n",
    "        metric=\"FA\",\n",
    "    ) for idx in range(len(data))\n",
    "]"
   ]
  },
  {
   "cell_type": "code",
   "execution_count": 22,
   "id": "25cbce8c-3770-4f28-8016-ac0fd7fd62a8",
   "metadata": {},
   "outputs": [],
   "source": [
    "data[\"ra_faithfulness_scores\"] = ra_faithfulness_scores\n",
    "data[\"fa_faithfulness_scores\"] = fa_faithfulness_scores"
   ]
  },
  {
   "cell_type": "markdown",
   "id": "ee37d9f4-c0ca-4ffb-9231-f730db44271b",
   "metadata": {},
   "source": [
    "## Plot explanation uncertainty v/s faithfulness"
   ]
  },
  {
   "cell_type": "code",
   "execution_count": 23,
   "id": "1c0a2342-3f66-4dd2-b7f3-25063e2298e4",
   "metadata": {},
   "outputs": [
    {
     "data": {
      "image/png": "[encoded data removed]",
      "text/plain": [
       "<Figure size 1600x2000 with 4 Axes>"
      ]
     },
     "metadata": {
      "needs_background": "light"
     },
     "output_type": "display_data"
    }
   ],
   "source": [
    "import matplotlib.pyplot as plt\n",
    "plt.rcParams.update({\n",
    "    \"text.usetex\": True,\n",
    "    \"font.family\": \"Helvetica\",\n",
    "    'axes.titlesize': 10,\n",
    "    'axes.labelsize': 10,\n",
    "    'xtick.labelsize': 10,\n",
    "    'ytick.labelsize': 10,\n",
    "})\n",
    "from collections import OrderedDict\n",
    "import matplotlib.pyplot as plt\n",
    "\n",
    "fig, ax = plt.subplots(2, 2, figsize=(8, 10), dpi=200)\n",
    "n_bins = 5\n",
    "\n",
    "bins = OrderedDict({\n",
    "    (key / n_bins, (key + 1) / n_bins): [0, 0] for key in range(n_bins)\n",
    "})\n",
    "scores = data[\"experiment_5_score_rank\"].to_list()\n",
    "\n",
    "for idx, (score, f_score) in enumerate(zip(scores, ra_faithfulness_scores)):\n",
    "    if len(data.iloc[idx][\"fi_faithfulness_wr_dict\"]) == 0:\n",
    "        continue\n",
    "    for _bin in bins:\n",
    "        if _bin[0] <= score <= _bin[1] and not np.isnan(f_score):\n",
    "            bins[_bin][0] += f_score\n",
    "            bins[_bin][1] += 1\n",
    "            \n",
    "\n",
    "ax[0][0].bar([(_bin[0] + _bin[1])/2 for _bin in bins.keys()], [_bin[0]/(_bin[1] + 1) for _bin in bins.values()], width=0.1)\n",
    "ax[0][0].set_xlabel(\"Probing (Paraphrase) Certainty / Consistency\")\n",
    "ax[0][0].set_ylabel(\"Faithfulness\")\n",
    "ax[0][0].set_title(\"Feature Importance Explanations (Rank Agreement)\")\n",
    "\n",
    "\n",
    "bins = OrderedDict({\n",
    "    (key / n_bins, (key + 1) / n_bins): [0, 0] for key in range(n_bins)\n",
    "})\n",
    "\n",
    "scores = data[\"experiment_5_score_overall\"].to_list()\n",
    "\n",
    "for idx, (score, f_score) in enumerate(zip(scores, fa_faithfulness_scores)):\n",
    "    if len(data.iloc[idx][\"fi_faithfulness_wr_dict\"]) == 0:\n",
    "        continue\n",
    "    for _bin in bins:\n",
    "        if _bin[0] <= score <= _bin[1] and not np.isnan(f_score):\n",
    "            bins[_bin][0] += f_score\n",
    "            bins[_bin][1] += 1\n",
    "\n",
    "ax[0][1].bar([(_bin[0] + _bin[1])/2 for _bin in bins.keys()], [_bin[0]/(_bin[1] + 1) for _bin in bins.values()], width=0.1)\n",
    "ax[0][1].set_xlabel(\"Probing (Paraphrase) Certainty / Consistency\")\n",
    "ax[0][1].set_ylabel(\"Faithfulness\")\n",
    "ax[0][1].set_title(\"Feature Importance Explanations (Feature Agreement)\")\n",
    "\n",
    "bins = OrderedDict({\n",
    "    (key / n_bins, (key + 1) / n_bins): [0, 0] for key in range(n_bins)\n",
    "})\n",
    "scores = data[\"experiment_9_score_rank\"].to_list()\n",
    "\n",
    "for idx, (score, f_score) in enumerate(zip(scores, ra_faithfulness_scores)):\n",
    "    if len(data.iloc[idx][\"fi_faithfulness_wr_dict\"]) == 0:\n",
    "        continue\n",
    "    for _bin in bins:\n",
    "        if _bin[0] <= score <= _bin[1] and not np.isnan(f_score):\n",
    "            bins[_bin][0] += f_score\n",
    "            bins[_bin][1] += 1\n",
    "            \n",
    "\n",
    "ax[1][0].bar([(_bin[0] + _bin[1])/2 for _bin in bins.keys()], [_bin[0]/(_bin[1] + 1) for _bin in bins.values()], width=0.1)\n",
    "ax[1][0].set_xlabel(\"Probing (Temperature) Certainty / Consistency\")\n",
    "ax[1][0].set_ylabel(\"Faithfulness\")\n",
    "ax[1][0].set_title(\"Feature Importance Explanations (Rank Agreement)\")\n",
    "\n",
    "\n",
    "bins = OrderedDict({\n",
    "    (key / n_bins, (key + 1) / n_bins): [0, 0] for key in range(n_bins)\n",
    "})\n",
    "\n",
    "scores = data[\"experiment_9_score_overall\"].to_list()\n",
    "\n",
    "for idx, (score, f_score) in enumerate(zip(scores, fa_faithfulness_scores)):\n",
    "    if len(data.iloc[idx][\"fi_faithfulness_wr_dict\"]) == 0:\n",
    "        continue\n",
    "    for _bin in bins:\n",
    "        if _bin[0] <= score <= _bin[1] and not np.isnan(f_score):\n",
    "            bins[_bin][0] += f_score\n",
    "            bins[_bin][1] += 1\n",
    "\n",
    "ax[1][1].bar([(_bin[0] + _bin[1])/2 for _bin in bins.keys()], [_bin[0]/(_bin[1] + 1) for _bin in bins.values()], width=0.1)\n",
    "ax[1][1].set_xlabel(\"Probing (Temperature) Certainty / Consistency\")\n",
    "ax[1][1].set_ylabel(\"Faithfulness\")\n",
    "ax[1][1].set_title(\"Feature Importance Explanations (Feature Agreement)\")\n",
    "\n",
    "image_save_path = file_path.replace(\".parquet\", \".png\").replace(\"scores-\", \"plot-fi-faithfulness-\")\n",
    "assert image_save_path != file_path\n",
    "fig.savefig(image_save_path)\n"
   ]
  },
  {
   "cell_type": "markdown",
   "id": "274c8e8e-5286-4ed7-bff3-a8b63f7723d7",
   "metadata": {},
   "source": [
    "## Save scores file"
   ]
  },
  {
   "cell_type": "code",
   "execution_count": 24,
   "id": "1d01fc53-c0a5-4705-b22e-48e10f7c37c2",
   "metadata": {},
   "outputs": [],
   "source": [
    "save_path = file_path.replace(\"scores-\", \"faithfulness-scores-\")\n",
    "assert save_path != file_path\n",
    "data.to_parquet(save_path)"
   ]
  },
  {
   "cell_type": "code",
   "execution_count": null,
   "id": "75d6a064-5003-46ff-adbb-9e1cef6800fd",
   "metadata": {},
   "outputs": [],
   "source": []
  }
 ],
 "metadata": {
  "kernelspec": {
   "display_name": "Python 3",
   "language": "python",
   "name": "python3"
  },
  "language_info": {
   "codemirror_mode": {
    "name": "ipython",
    "version": 3
   },
   "file_extension": ".py",
   "mimetype": "text/x-python",
   "name": "python",
   "nbconvert_exporter": "python",
   "pygments_lexer": "ipython3",
   "version": "3.8.8"
  }
 },
 "nbformat": 4,
 "nbformat_minor": 5
}
